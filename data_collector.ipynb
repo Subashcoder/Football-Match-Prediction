{
 "cells": [
  {
   "cell_type": "code",

   "execution_count": 165,

   "execution_count": 23,

   "execution_count": 1,

   "metadata": {},
   "outputs": [],
   "source": [
    "import pandas as pd\n",
    "import numpy as np"
   ]
  },
  {
   "cell_type": "code",

   "execution_count": 166,

   "execution_count": 11,

   "metadata": {},
   "outputs": [
    {
     "data": {
      "text/plain": [
       "<bound method NDFrame.describe of                            name  assists  attempted_passes  \\\n",
       "0               Aaron_Cresswell        0               0.0   \n",
       "1                  Aaron_Lennon        0               3.0   \n",
       "2                  Aaron_Ramsey        0              26.0   \n",
       "3            Abdoulaye_Doucouré        0               0.0   \n",
       "4             Abdul Rahman_Baba        0               0.0   \n",
       "...                         ...      ...               ...   \n",
       "187242              Jacob Brown        0               NaN   \n",
       "187243              Jacob Brown        0               NaN   \n",
       "187244           Vicente Guaita        0               NaN   \n",
       "187245  Braian Ojeda RodrÃ­guez        0               NaN   \n",
       "187246      Mads Bech SÃ¸rensen        0               NaN   \n",
       "\n",
       "        big_chances_created  big_chances_missed  bonus  bps  clean_sheets  \\\n",
       "0                       0.0                 0.0      0    0             0   \n",
       "1                       0.0                 0.0      0    6             0   \n",
       "2                       0.0                 0.0      0    5             0   \n",
       "3                       0.0                 0.0      0    0             0   \n",
       "4                       0.0                 0.0      0    0             0   \n",
       "...                     ...                 ...    ...  ...           ...   \n",
       "187242                  NaN                 NaN      0    0             0   \n",
       "187243                  NaN                 NaN      0    0             0   \n",
       "187244                  NaN                 NaN      0    0             0   \n",
       "187245                  NaN                 NaN      0    0             0   \n",
       "187246                  NaN                 NaN      0    0             0   \n",
       "\n",
       "        clearances_blocks_interceptions  completed_passes  ...  GW  season_x  \\\n",
       "0                                   0.0               0.0  ...   1   2016-17   \n",
       "1                                   1.0               2.0  ...   1   2016-17   \n",
       "2                                   2.0              22.0  ...   1   2016-17   \n",
       "3                                   0.0               0.0  ...   1   2016-17   \n",
       "4                                   0.0               0.0  ...   1   2016-17   \n",
       "...                                 ...               ...  ...  ..       ...   \n",
       "187242                              NaN               NaN  ...  28   2023-24   \n",
       "187243                              NaN               NaN  ...  28   2023-24   \n",
       "187244                              NaN               NaN  ...  28   2023-24   \n",
       "187245                              NaN               NaN  ...  28   2023-24   \n",
       "187246                              NaN               NaN  ...  28   2023-24   \n",
       "\n",
       "        position            team   xP  expected_assists  \\\n",
       "0            NaN             NaN  NaN               NaN   \n",
       "1            NaN             NaN  NaN               NaN   \n",
       "2            NaN             NaN  NaN               NaN   \n",
       "3            NaN             NaN  NaN               NaN   \n",
       "4            NaN             NaN  NaN               NaN   \n",
       "...          ...             ...  ...               ...   \n",
       "187242       FWD           Luton  0.0               0.0   \n",
       "187243       FWD           Luton  0.0               0.0   \n",
       "187244        GK  Crystal Palace  0.0               0.0   \n",
       "187245       MID   Nott'm Forest  0.0               0.0   \n",
       "187246       DEF       Brentford  0.0               0.0   \n",
       "\n",
       "        expected_goal_involvements  expected_goals  expected_goals_conceded  \\\n",
       "0                              NaN             NaN                      NaN   \n",
       "1                              NaN             NaN                      NaN   \n",
       "2                              NaN             NaN                      NaN   \n",
       "3                              NaN             NaN                      NaN   \n",
       "4                              NaN             NaN                      NaN   \n",
       "...                            ...             ...                      ...   \n",
       "187242                         0.0             0.0                      0.0   \n",
       "187243                         0.0             0.0                      0.0   \n",
       "187244                         0.0             0.0                      0.0   \n",
       "187245                         0.0             0.0                      0.0   \n",
       "187246                         0.0             0.0                      0.0   \n",
       "\n",
       "        starts  \n",
       "0          NaN  \n",
       "1          NaN  \n",
       "2          NaN  \n",
       "3          NaN  \n",
       "4          NaN  \n",
       "...        ...  \n",
       "187242     0.0  \n",
       "187243     0.0  \n",
       "187244     0.0  \n",
       "187245     0.0  \n",
       "187246     0.0  \n",
       "\n",
       "[187247 rows x 65 columns]>"
      ]
     },
     "execution_count": 166,
     "execution_count": 11,
     "metadata": {},
     "output_type": "execute_result"
    }
   ],

   "execution_count": 18,
   "metadata": {},
   "outputs": [],

   "source": [
    "\n",
    "file_path_16_17 = r'C:\\Users\\Kush\\Desktop\\Ai Project(Football Prediction)\\Clone\\Football-Match-Prediction\\Data\\data\\2016-17\\gws\\merged_gw.csv'\n",
    "file_path_17_18 = r'C:\\Users\\Kush\\Desktop\\Ai Project(Football Prediction)\\Clone\\Football-Match-Prediction\\Data\\data\\2017-18\\gws\\merged_gw.csv'\n",
    "file_path_18_19 = r'C:\\Users\\Kush\\Desktop\\Ai Project(Football Prediction)\\Clone\\Football-Match-Prediction\\Data\\data\\2018-19\\gws\\merged_gw.csv'\n",
    "file_path_19_20 = r'C:\\Users\\Kush\\Desktop\\Ai Project(Football Prediction)\\Clone\\Football-Match-Prediction\\Data\\data\\2019-20\\gws\\merged_gw.csv'\n",
    "file_path_20_21 = r'C:\\Users\\Kush\\Desktop\\Ai Project(Football Prediction)\\Clone\\Football-Match-Prediction\\Data\\data\\2020-21\\gws\\merged_gw.csv'\n",
    "file_path_21_22 = r'C:\\Users\\Kush\\Desktop\\Ai Project(Football Prediction)\\Clone\\Football-Match-Prediction\\Data\\data\\2021-22\\gws\\merged_gw.csv'\n",
    "file_path_22_23 = r'C:\\Users\\Kush\\Desktop\\Ai Project(Football Prediction)\\Clone\\Football-Match-Prediction\\Data\\data\\2022-23\\gws\\merged_gw.csv'\n",
    "file_path_23_24 = r'C:\\Users\\Kush\\Desktop\\Ai Project(Football Prediction)\\Clone\\Football-Match-Prediction\\Data\\data\\2023-24\\gws\\merged_gw.csv'\n",
    "\n",
    "#file_path = pd.read_csv(r'C:\\Users\\Kush\\Desktop\\Ai Project(Football Prediction)\\Clone\\Football-Match-Prediction\\Data\\data\\cleaned_merged_seasons.csv',encoding='latin1',dtype={'column_name': float})\n",
    "file_path = r'C:\\Users\\Kush\\Desktop\\Ai Project(Football Prediction)\\Clone\\Football-Match-Prediction\\Data\\data\\cleaned_merged_seasons.csv'\n",
    "\n",
    "player_list_path = r'C:\\Users\\Kush\\Desktop\\Ai Project(Football Prediction)\\Clone\\Football-Match-Prediction\\Data\\data\\2021-22\\fbref_overview.csv'\n",
    "\n",
    "file_path_16_17 = r'C:\\Drive D\\Downloads\\Lambton College\\Semester 2\\AI\\Project\\Football_Match_Prediction\\Football-Match-Prediction\\Data\\data\\2016-17\\gws\\merged_gw.csv'\n",
    "file_path_17_18 = r'C:\\Drive D\\Downloads\\Lambton College\\Semester 2\\AI\\Project\\Football_Match_Prediction\\Football-Match-Prediction\\Data\\data\\2017-18\\gws\\merged_gw.csv'\n",
    "file_path_18_19 = r'C:\\Drive D\\Downloads\\Lambton College\\Semester 2\\AI\\Project\\Football_Match_Prediction\\Football-Match-Prediction\\Data\\data\\2018-19\\gws\\merged_gw.csv'\n",
    "file_path_19_20 = r'C:\\Drive D\\Downloads\\Lambton College\\Semester 2\\AI\\Project\\Football_Match_Prediction\\Football-Match-Prediction\\Data\\data\\2019-20\\gws\\merged_gw.csv'\n",
    "file_path_20_21 = r'C:\\Drive D\\Downloads\\Lambton College\\Semester 2\\AI\\Project\\Football_Match_Prediction\\Football-Match-Prediction\\Data\\data\\2020-21\\gws\\merged_gw.csv'\n",
    "file_path_21_22 = r'C:\\Drive D\\Downloads\\Lambton College\\Semester 2\\AI\\Project\\Football_Match_Prediction\\Football-Match-Prediction\\Data\\data\\2021-22\\gws\\merged_gw.csv'\n",
    "file_path_22_23 = r'C:\\Drive D\\Downloads\\Lambton College\\Semester 2\\AI\\Project\\Football_Match_Prediction\\Football-Match-Prediction\\Data\\data\\2022-23\\gws\\merged_gw.csv'\n",
    "file_path_23_24 = r'C:\\Drive D\\Downloads\\Lambton College\\Semester 2\\AI\\Project\\Football_Match_Prediction\\Football-Match-Prediction\\Data\\data\\2023-24\\gws\\merged_gw.csv'\n",
    "\n",
    "file_path = r'C:\\Drive D\\Downloads\\Lambton College\\Semester 2\\AI\\Project\\Football_Match_Prediction\\Football-Match-Prediction\\Data\\data\\cleaned_merged_seasons.csv'\n",
    "\n",
    "player_list_path = r'C:\\Drive D\\Downloads\\Lambton College\\Semester 2\\AI\\Project\\Football_Match_Prediction\\Football-Match-Prediction\\Data\\data/2021-22/fbref_overview.csv'\n",
    "\n",
    "df_16_17 = pd.read_csv(file_path_16_17, encoding='latin1')\n",
    "df_16_17['season_x'] = '2016-17'\n",
    "df_17_18 = pd.read_csv(file_path_17_18, encoding='latin1')\n",
    "df_17_18['season_x'] = '2017-18'\n",
    "df_18_19 = pd.read_csv(file_path_18_19, encoding='latin1')\n",
    "df_18_19['season_x'] = '2018-19'\n",
    "df_19_20 = pd.read_csv(file_path_19_20, encoding='latin1')\n",
    "df_19_20['season_x'] = '2019-20'\n",
    "df_20_21 = pd.read_csv(file_path_20_21, encoding='latin1')\n",
    "df_20_21['season_x'] = '2020-21'\n",
    "df_21_22 = pd.read_csv(file_path_21_22, encoding='latin1')\n",
    "df_21_22['season_x'] = '2021-22'\n",
    "df_22_23 = pd.read_csv(file_path_22_23, encoding='latin1')\n",
    "df_22_23['season_x'] = '2022-23'\n",
    "df_23_24 = pd.read_csv(file_path_23_24, encoding='latin1')\n",
    "df_23_24['season_x'] = '2023-24'\n",
    "\n",
    "dfs = [df_16_17, df_17_18, df_18_19, df_19_20, df_20_21, df_21_22, df_22_23, df_23_24]\n",
    "\n",
    "# Concatenate all DataFrames vertically\n",
    "df_2016_2024 = pd.concat(dfs, ignore_index=True)\n",
    "df_2016_2024.describe\n",
    "df_2016_2024.to_csv(\"Merged_2016_2024.csv\")\n"
   ]
  },
  {
   "cell_type": "code",

   "execution_count": 167,

   "execution_count": 13,

   "execution_count": 3,

   "metadata": {},
   "outputs": [
    {
     "name": "stdout",
     "output_type": "stream",
     "text": [
      "Index(['name', 'assists', 'attempted_passes', 'big_chances_created',\n",
      "       'big_chances_missed', 'bonus', 'bps', 'clean_sheets',\n",
      "       'clearances_blocks_interceptions', 'completed_passes', 'creativity',\n",
      "       'dribbles', 'ea_index', 'element', 'errors_leading_to_goal',\n",
      "       'errors_leading_to_goal_attempt', 'fixture', 'fouls', 'goals_conceded',\n",
      "       'goals_scored', 'ict_index', 'id', 'influence', 'key_passes',\n",
      "       'kickoff_time', 'kickoff_time_formatted', 'loaned_in', 'loaned_out',\n",
      "       'minutes', 'offside', 'open_play_crosses', 'opponent_team', 'own_goals',\n",
      "       'penalties_conceded', 'penalties_missed', 'penalties_saved',\n",
      "       'recoveries', 'red_cards', 'round', 'saves', 'selected', 'tackled',\n",
      "       'tackles', 'target_missed', 'team_a_score', 'team_h_score', 'threat',\n",
      "       'total_points', 'transfers_balance', 'transfers_in', 'transfers_out',\n",
      "       'value', 'was_home', 'winning_goals', 'yellow_cards', 'GW', 'season_x'],\n",
      "      dtype='object')\n",
      "Index(['name', 'assists', 'attempted_passes', 'big_chances_created',\n",
      "       'big_chances_missed', 'bonus', 'bps', 'clean_sheets',\n",
      "       'clearances_blocks_interceptions', 'completed_passes', 'creativity',\n",
      "       'dribbles', 'ea_index', 'element', 'errors_leading_to_goal',\n",
      "       'errors_leading_to_goal_attempt', 'fixture', 'fouls', 'goals_conceded',\n",
      "       'goals_scored', 'ict_index', 'id', 'influence', 'key_passes',\n",
      "       'kickoff_time', 'kickoff_time_formatted', 'loaned_in', 'loaned_out',\n",
      "       'minutes', 'offside', 'open_play_crosses', 'opponent_team', 'own_goals',\n",
      "       'penalties_conceded', 'penalties_missed', 'penalties_saved',\n",
      "       'recoveries', 'red_cards', 'round', 'saves', 'selected', 'tackled',\n",
      "       'tackles', 'target_missed', 'team_a_score', 'team_h_score', 'threat',\n",
      "       'total_points', 'transfers_balance', 'transfers_in', 'transfers_out',\n",
      "       'value', 'was_home', 'winning_goals', 'yellow_cards', 'GW', 'season_x'],\n",
      "      dtype='object')\n",
      "Index(['name', 'assists', 'attempted_passes', 'big_chances_created',\n",
      "       'big_chances_missed', 'bonus', 'bps', 'clean_sheets',\n",
      "       'clearances_blocks_interceptions', 'completed_passes', 'creativity',\n",
      "       'dribbles', 'ea_index', 'element', 'errors_leading_to_goal',\n",
      "       'errors_leading_to_goal_attempt', 'fixture', 'fouls', 'goals_conceded',\n",
      "       'goals_scored', 'ict_index', 'id', 'influence', 'key_passes',\n",
      "       'kickoff_time', 'kickoff_time_formatted', 'loaned_in', 'loaned_out',\n",
      "       'minutes', 'offside', 'open_play_crosses', 'opponent_team', 'own_goals',\n",
      "       'penalties_conceded', 'penalties_missed', 'penalties_saved',\n",
      "       'recoveries', 'red_cards', 'round', 'saves', 'selected', 'tackled',\n",
      "       'tackles', 'target_missed', 'team_a_score', 'team_h_score', 'threat',\n",
      "       'total_points', 'transfers_balance', 'transfers_in', 'transfers_out',\n",
      "       'value', 'was_home', 'winning_goals', 'yellow_cards', 'GW', 'season_x'],\n",
      "      dtype='object')\n",
      "Index(['name', 'assists', 'bonus', 'bps', 'clean_sheets', 'creativity',\n",
      "       'element', 'fixture', 'goals_conceded', 'goals_scored', 'ict_index',\n",
      "       'influence', 'kickoff_time', 'minutes', 'opponent_team', 'own_goals',\n",
      "       'penalties_missed', 'penalties_saved', 'red_cards', 'round', 'saves',\n",
      "       'selected', 'team_a_score', 'team_h_score', 'threat', 'total_points',\n",
      "       'transfers_balance', 'transfers_in', 'transfers_out', 'value',\n",
      "       'was_home', 'yellow_cards', 'GW', 'season_x'],\n",
      "      dtype='object')\n",
      "Index(['name', 'position', 'team', 'xP', 'assists', 'bonus', 'bps',\n",
      "       'clean_sheets', 'creativity', 'element', 'fixture', 'goals_conceded',\n",
      "       'goals_scored', 'ict_index', 'influence', 'kickoff_time', 'minutes',\n",
      "       'opponent_team', 'own_goals', 'penalties_missed', 'penalties_saved',\n",
      "       'red_cards', 'round', 'saves', 'selected', 'team_a_score',\n",
      "       'team_h_score', 'threat', 'total_points', 'transfers_balance',\n",
      "       'transfers_in', 'transfers_out', 'value', 'was_home', 'yellow_cards',\n",
      "       'GW', 'season_x'],\n",
      "      dtype='object')\n",
      "Index(['name', 'position', 'team', 'xP', 'assists', 'bonus', 'bps',\n",
      "       'clean_sheets', 'creativity', 'element', 'fixture', 'goals_conceded',\n",
      "       'goals_scored', 'ict_index', 'influence', 'kickoff_time', 'minutes',\n",
      "       'opponent_team', 'own_goals', 'penalties_missed', 'penalties_saved',\n",
      "       'red_cards', 'round', 'saves', 'selected', 'team_a_score',\n",
      "       'team_h_score', 'threat', 'total_points', 'transfers_balance',\n",
      "       'transfers_in', 'transfers_out', 'value', 'was_home', 'yellow_cards',\n",
      "       'GW', 'season_x'],\n",
      "      dtype='object')\n",
      "Index(['name', 'position', 'team', 'xP', 'assists', 'bonus', 'bps',\n",
      "       'clean_sheets', 'creativity', 'element', 'expected_assists',\n",
      "       'expected_goal_involvements', 'expected_goals',\n",
      "       'expected_goals_conceded', 'fixture', 'goals_conceded', 'goals_scored',\n",
      "       'ict_index', 'influence', 'kickoff_time', 'minutes', 'opponent_team',\n",
      "       'own_goals', 'penalties_missed', 'penalties_saved', 'red_cards',\n",
      "       'round', 'saves', 'selected', 'starts', 'team_a_score', 'team_h_score',\n",
      "       'threat', 'total_points', 'transfers_balance', 'transfers_in',\n",
      "       'transfers_out', 'value', 'was_home', 'yellow_cards', 'GW', 'season_x'],\n",
      "      dtype='object')\n",
      "Index(['name', 'position', 'team', 'xP', 'assists', 'bonus', 'bps',\n",
      "       'clean_sheets', 'creativity', 'element', 'expected_assists',\n",
      "       'expected_goal_involvements', 'expected_goals',\n",
      "       'expected_goals_conceded', 'fixture', 'goals_conceded', 'goals_scored',\n",
      "       'ict_index', 'influence', 'kickoff_time', 'minutes', 'opponent_team',\n",
      "       'own_goals', 'penalties_missed', 'penalties_saved', 'red_cards',\n",
      "       'round', 'saves', 'selected', 'starts', 'team_a_score', 'team_h_score',\n",
      "       'threat', 'total_points', 'transfers_balance', 'transfers_in',\n",
      "       'transfers_out', 'value', 'was_home', 'yellow_cards', 'GW', 'season_x'],\n",
      "      dtype='object')\n"
     ]
    }
   ],
   "source": [
    "df = [df_16_17, df_17_18, df_18_19, df_19_20, df_20_21, df_21_22, df_22_23, df_23_24]\n",
    "for i in df:\n",
    "    i.columns\n",
    "    print(i.columns)"
    "    print(i.columns)\n",
    "    \n",
    "    "
   ]
  },
  {
   "cell_type": "code",

   "execution_count": 168,
   "metadata": {},
   "outputs": [],
   "source": [
    "df_merged = pd.read_csv(file_path, encoding='latin1', low_memory = False)"
   "execution_count": 28,

   "execution_count": 4,
   "metadata": {},
   "outputs": [
    {
     "name": "stderr",
     "output_type": "stream",
     "text": [
      "C:\\Users\\subas\\AppData\\Local\\Temp\\ipykernel_3580\\322788335.py:1: DtypeWarning: Columns (3) have mixed types. Specify dtype option on import or set low_memory=False.\n",
      "  df_merged = pd.read_csv(file_path, encoding='latin1')\n"
     ]
    },
    {
     "data": {
      "text/plain": [
       "<bound method NDFrame.describe of       season_x                      name position       team_x  assists  \\\n",
       "0      2016-17           Aaron Cresswell      DEF          NaN        0   \n",
       "1      2016-17              Aaron Lennon      MID          NaN        0   \n",
       "2      2016-17              Aaron Ramsey      MID          NaN        0   \n",
       "3      2016-17       Abdoulaye DoucourÃ©      MID          NaN        0   \n",
       "4      2016-17              Adam Forshaw      MID          NaN        0   \n",
       "...        ...                       ...      ...          ...      ...   \n",
       "96164  2022-23              Oliver Skipp      MID        Spurs        0   \n",
       "96165  2022-23            Ryan Sessegnon      DEF        Spurs        0   \n",
       "96166  2022-23              Ashley Young      DEF  Aston Villa        0   \n",
       "96167  2022-23  Jeremy Sarmiento Morante      MID     Brighton        0   \n",
       "96168  2022-23            Philip Billing      MID  Bournemouth        0   \n",
       "\n",
       "       bonus  bps  clean_sheets  creativity  element  ...  team_h_score  \\\n",
       "0          0    0             0         0.0      454  ...           2.0   \n",
       "1          0    6             0         0.3      142  ...           1.0   \n",
       "2          0    5             0         4.9       16  ...           3.0   \n",
       "3          0    0             0         0.0      482  ...           1.0   \n",
       "4          0    3             0         1.3      286  ...           1.0   \n",
       "...      ...  ...           ...         ...      ...  ...           ...   \n",
       "96164      0   16             0         0.0      441  ...           1.0   \n",
       "96165      0    0             0         0.0      436  ...           1.0   \n",
       "96166      0    0             0         0.0      538  ...           2.0   \n",
       "96167      0    0             0         0.0      119  ...           2.0   \n",
       "96168      0   15             0         0.0       70  ...           1.0   \n",
       "\n",
       "       threat  total_points  transfers_balance  transfers_in transfers_out  \\\n",
       "0         0.0             0                  0             0             0   \n",
       "1         0.0             1                  0             0             0   \n",
       "2        23.0             2                  0             0             0   \n",
       "3         0.0             0                  0             0             0   \n",
       "4         0.0             1                  0             0             0   \n",
       "...       ...           ...                ...           ...           ...   \n",
       "96164     0.0             2                100           742           642   \n",
       "96165     0.0             0               -166            24           190   \n",
       "96166     0.0             0              -1146          1522          2668   \n",
       "96167     0.0             0                -17            22            39   \n",
       "96168     0.0             2             -18361           736         19097   \n",
       "\n",
       "       value  was_home yellow_cards  GW  \n",
       "0         55     False            0   1  \n",
       "1         60      True            0   1  \n",
       "2         80      True            0   1  \n",
       "3         50     False            0   1  \n",
       "4         45      True            1   1  \n",
       "...      ...       ...          ...  ..  \n",
       "96164     43     False            0  38  \n",
       "96165     44     False            0  38  \n",
       "96166     43      True            0  38  \n",
       "96167     45     False            0  38  \n",
       "96168     50     False            0  38  \n",
       "\n",
       "[96169 rows x 37 columns]>"
      ]
     },
     "execution_count": 4,
     "metadata": {},
     "output_type": "execute_result"
    }
   ],
   "source": [
    "df_merged = pd.read_csv(file_path, encoding='latin1')\n",
    "df_merged.describe"

   ]
  },
  {
   "cell_type": "code",

   "execution_count": 169,

   "execution_count": 29,

   "execution_count": 5,

   "metadata": {},
   "outputs": [
    {
     "data": {
      "text/plain": [
       "<bound method NDFrame.describe of       season_x                      name position       team_x  assists  \\\n",
       "0      2016-17           Aaron Cresswell      DEF          NaN        0   \n",
       "1      2016-17              Aaron Lennon      MID          NaN        0   \n",
       "2      2016-17              Aaron Ramsey      MID          NaN        0   \n",
       "3      2016-17       Abdoulaye DoucourÃ©      MID          NaN        0   \n",
       "4      2016-17              Adam Forshaw      MID          NaN        0   \n",
       "...        ...                       ...      ...          ...      ...   \n",
       "96164  2022-23              Oliver Skipp      MID        Spurs        0   \n",
       "96165  2022-23            Ryan Sessegnon      DEF        Spurs        0   \n",
       "96166  2022-23              Ashley Young      DEF  Aston Villa        0   \n",
       "96167  2022-23  Jeremy Sarmiento Morante      MID     Brighton        0   \n",
       "96168  2022-23            Philip Billing      MID  Bournemouth        0   \n",
       "\n",
       "       bonus  bps  clean_sheets  creativity  element  ...  team_h_score  \\\n",
       "0          0    0             0         0.0      454  ...           2.0   \n",
       "1          0    6             0         0.3      142  ...           1.0   \n",
       "2          0    5             0         4.9       16  ...           3.0   \n",
       "3          0    0             0         0.0      482  ...           1.0   \n",
       "4          0    3             0         1.3      286  ...           1.0   \n",
       "...      ...  ...           ...         ...      ...  ...           ...   \n",
       "96164      0   16             0         0.0      441  ...           1.0   \n",
       "96165      0    0             0         0.0      436  ...           1.0   \n",
       "96166      0    0             0         0.0      538  ...           2.0   \n",
       "96167      0    0             0         0.0      119  ...           2.0   \n",
       "96168      0   15             0         0.0       70  ...           1.0   \n",
       "\n",
       "       threat  total_points  transfers_balance  transfers_in transfers_out  \\\n",
       "0         0.0             0                  0             0             0   \n",
       "1         0.0             1                  0             0             0   \n",
       "2        23.0             2                  0             0             0   \n",
       "3         0.0             0                  0             0             0   \n",
       "4         0.0             1                  0             0             0   \n",
       "...       ...           ...                ...           ...           ...   \n",
       "96164     0.0             2                100           742           642   \n",
       "96165     0.0             0               -166            24           190   \n",
       "96166     0.0             0              -1146          1522          2668   \n",
       "96167     0.0             0                -17            22            39   \n",
       "96168     0.0             2             -18361           736         19097   \n",
       "\n",
       "       value  was_home yellow_cards  GW  \n",
       "0         55     False            0   1  \n",
       "1         60      True            0   1  \n",
       "2         80      True            0   1  \n",
       "3         50     False            0   1  \n",
       "4         45      True            1   1  \n",
       "...      ...       ...          ...  ..  \n",
       "96164     43     False            0  38  \n",
       "96165     44     False            0  38  \n",
       "96166     43      True            0  38  \n",
       "96167     45     False            0  38  \n",
       "96168     50     False            0  38  \n",
       "\n",
       "[96169 rows x 37 columns]>"
      ]
     },

     "execution_count": 169,

     "execution_count": 29,

     "execution_count": 5,

     "metadata": {},
     "output_type": "execute_result"
    }
   ],
   "source": [
    "df_merged.describe"
   ]
  },
  {
   "cell_type": "code",

   "execution_count": 170,

   "execution_count": 30,

   "execution_count": 6,

   "metadata": {},
   "outputs": [
    {
     "data": {
      "text/html": [
       "<div>\n",
       "<style scoped>\n",
       "    .dataframe tbody tr th:only-of-type {\n",
       "        vertical-align: middle;\n",
       "    }\n",
       "\n",
       "    .dataframe tbody tr th {\n",
       "        vertical-align: top;\n",
       "    }\n",
       "\n",
       "    .dataframe thead th {\n",
       "        text-align: right;\n",
       "    }\n",
       "</style>\n",
       "<table border=\"1\" class=\"dataframe\">\n",
       "  <thead>\n",
       "    <tr style=\"text-align: right;\">\n",
       "      <th></th>\n",
       "      <th>name</th>\n",
       "      <th>team_x</th>\n",
       "      <th>opp_team_name</th>\n",
       "    </tr>\n",
       "  </thead>\n",
       "  <tbody>\n",
       "    <tr>\n",
       "      <th>0</th>\n",
       "      <td>Aaron Cresswell</td>\n",
       "      <td>NaN</td>\n",
       "      <td>Chelsea</td>\n",
       "    </tr>\n",
       "    <tr>\n",
       "      <th>195</th>\n",
       "      <td>Aaron Cresswell</td>\n",
       "      <td>NaN</td>\n",
       "      <td>Everton</td>\n",
       "    </tr>\n",
       "    <tr>\n",
       "      <th>413</th>\n",
       "      <td>Aaron Cresswell</td>\n",
       "      <td>NaN</td>\n",
       "      <td>Stoke</td>\n",
       "    </tr>\n",
       "    <tr>\n",
       "      <th>631</th>\n",
       "      <td>Aaron Cresswell</td>\n",
       "      <td>NaN</td>\n",
       "      <td>Spurs</td>\n",
       "    </tr>\n",
       "    <tr>\n",
       "      <th>849</th>\n",
       "      <td>Aaron Cresswell</td>\n",
       "      <td>NaN</td>\n",
       "      <td>Man Utd</td>\n",
       "    </tr>\n",
       "    <tr>\n",
       "      <th>...</th>\n",
       "      <td>...</td>\n",
       "      <td>...</td>\n",
       "      <td>...</td>\n",
       "    </tr>\n",
       "    <tr>\n",
       "      <th>92620</th>\n",
       "      <td>Aaron Cresswell</td>\n",
       "      <td>West Ham</td>\n",
       "      <td>Man City</td>\n",
       "    </tr>\n",
       "    <tr>\n",
       "      <th>93438</th>\n",
       "      <td>Aaron Cresswell</td>\n",
       "      <td>West Ham</td>\n",
       "      <td>Man Utd</td>\n",
       "    </tr>\n",
       "    <tr>\n",
       "      <th>94253</th>\n",
       "      <td>Aaron Cresswell</td>\n",
       "      <td>West Ham</td>\n",
       "      <td>Brentford</td>\n",
       "    </tr>\n",
       "    <tr>\n",
       "      <th>95160</th>\n",
       "      <td>Aaron Cresswell</td>\n",
       "      <td>West Ham</td>\n",
       "      <td>Leeds</td>\n",
       "    </tr>\n",
       "    <tr>\n",
       "      <th>95980</th>\n",
       "      <td>Aaron Cresswell</td>\n",
       "      <td>West Ham</td>\n",
       "      <td>Leicester</td>\n",
       "    </tr>\n",
       "  </tbody>\n",
       "</table>\n",
       "<p>190 rows × 3 columns</p>\n",
       "</div>"
      ],
      "text/plain": [
       "                  name    team_x opp_team_name\n",
       "0      Aaron Cresswell       NaN       Chelsea\n",
       "195    Aaron Cresswell       NaN       Everton\n",
       "413    Aaron Cresswell       NaN         Stoke\n",
       "631    Aaron Cresswell       NaN         Spurs\n",
       "849    Aaron Cresswell       NaN       Man Utd\n",
       "...                ...       ...           ...\n",
       "92620  Aaron Cresswell  West Ham      Man City\n",
       "93438  Aaron Cresswell  West Ham       Man Utd\n",
       "94253  Aaron Cresswell  West Ham     Brentford\n",
       "95160  Aaron Cresswell  West Ham         Leeds\n",
       "95980  Aaron Cresswell  West Ham     Leicester\n",
       "\n",
       "[190 rows x 3 columns]"
      ]
     },

     "execution_count": 170,
     "execution_count": 30,

     "execution_count": 6,

     "metadata": {},
     "output_type": "execute_result"
    }
   ],
   "source": [
    "df_merged[['name','team_x','opponent_team','opp_team_name', 'team_a_score','team_h_score', 'was_home', 'GW', 'fixture' ]].head(20)\n",
    "df_merged.loc[df_merged['name'] == 'Aaron Cresswell', ['name','team_x', 'opp_team_name']]\n"
   ]
  },
  {
   "cell_type": "code",

   "execution_count": 171,

   "execution_count": 31,

   "execution_count": 7,

   "metadata": {},
   "outputs": [],
   "source": [
    "\n",
    "\n",
    "df_filled = df_merged.groupby('name')['team_x'].transform(lambda x: x.fillna(x.mode()[0]))\n"
   ]
  },
  {
   "cell_type": "code",

   "execution_count": 172,

   "execution_count": 32,

   "execution_count": 8,

   "metadata": {},
   "outputs": [],
   "source": [
    "df_merged_new = df_merged\n",
    "df_merged_new['team_x'] = df_filled"
   ]
  },
  {
   "cell_type": "code",

   "execution_count": 173,

   "execution_count": 33,

   "execution_count": 9,

   "metadata": {},
   "outputs": [
    {
     "data": {
      "text/plain": [
       "<bound method NDFrame.head of       season_x                      name position       team_x  assists  \\\n",
       "0      2016-17           Aaron Cresswell      DEF     West Ham        0   \n",
       "1      2016-17              Aaron Lennon      MID      Burnley        0   \n",
       "2      2016-17              Aaron Ramsey      MID  Aston Villa        0   \n",
       "3      2016-17       Abdoulaye DoucourÃ©      MID      Everton        0   \n",
       "4      2016-17              Adam Forshaw      MID        Leeds        0   \n",
       "...        ...                       ...      ...          ...      ...   \n",
       "96164  2022-23              Oliver Skipp      MID        Spurs        0   \n",
       "96165  2022-23            Ryan Sessegnon      DEF        Spurs        0   \n",
       "96166  2022-23              Ashley Young      DEF  Aston Villa        0   \n",
       "96167  2022-23  Jeremy Sarmiento Morante      MID     Brighton        0   \n",
       "96168  2022-23            Philip Billing      MID  Bournemouth        0   \n",
       "\n",
       "       bonus  bps  clean_sheets  creativity  element  ...  team_h_score  \\\n",
       "0          0    0             0         0.0      454  ...           2.0   \n",
       "1          0    6             0         0.3      142  ...           1.0   \n",
       "2          0    5             0         4.9       16  ...           3.0   \n",
       "3          0    0             0         0.0      482  ...           1.0   \n",
       "4          0    3             0         1.3      286  ...           1.0   \n",
       "...      ...  ...           ...         ...      ...  ...           ...   \n",
       "96164      0   16             0         0.0      441  ...           1.0   \n",
       "96165      0    0             0         0.0      436  ...           1.0   \n",
       "96166      0    0             0         0.0      538  ...           2.0   \n",
       "96167      0    0             0         0.0      119  ...           2.0   \n",
       "96168      0   15             0         0.0       70  ...           1.0   \n",
       "\n",
       "       threat  total_points  transfers_balance  transfers_in transfers_out  \\\n",
       "0         0.0             0                  0             0             0   \n",
       "1         0.0             1                  0             0             0   \n",
       "2        23.0             2                  0             0             0   \n",
       "3         0.0             0                  0             0             0   \n",
       "4         0.0             1                  0             0             0   \n",
       "...       ...           ...                ...           ...           ...   \n",
       "96164     0.0             2                100           742           642   \n",
       "96165     0.0             0               -166            24           190   \n",
       "96166     0.0             0              -1146          1522          2668   \n",
       "96167     0.0             0                -17            22            39   \n",
       "96168     0.0             2             -18361           736         19097   \n",
       "\n",
       "       value  was_home yellow_cards  GW  \n",
       "0         55     False            0   1  \n",
       "1         60      True            0   1  \n",
       "2         80      True            0   1  \n",
       "3         50     False            0   1  \n",
       "4         45      True            1   1  \n",
       "...      ...       ...          ...  ..  \n",
       "96164     43     False            0  38  \n",
       "96165     44     False            0  38  \n",
       "96166     43      True            0  38  \n",
       "96167     45     False            0  38  \n",
       "96168     50     False            0  38  \n",
       "\n",
       "[96169 rows x 37 columns]>"
      ]
     },

     "execution_count": 173,

     "execution_count": 33,

     "execution_count": 9,

     "metadata": {},
     "output_type": "execute_result"
    }
   ],
   "source": [
    "df_merged_new.head\n"
   ]
  },
  {
   "cell_type": "code",

   "execution_count": 174,

   "execution_count": 34,

   "execution_count": 10,

   "metadata": {},
   "outputs": [
    {
     "data": {
      "text/plain": [
       "Index(['season_x', 'name', 'position', 'team_x', 'assists', 'bonus', 'bps',\n",
       "       'clean_sheets', 'creativity', 'element', 'fixture', 'goals_conceded',\n",
       "       'goals_scored', 'ict_index', 'influence', 'kickoff_time', 'minutes',\n",
       "       'opponent_team', 'opp_team_name', 'own_goals', 'penalties_missed',\n",
       "       'penalties_saved', 'red_cards', 'round', 'saves', 'selected',\n",
       "       'team_a_score', 'team_h_score', 'threat', 'total_points',\n",
       "       'transfers_balance', 'transfers_in', 'transfers_out', 'value',\n",
       "       'was_home', 'yellow_cards', 'GW'],\n",
       "      dtype='object')"
      ]
     },

     "execution_count": 174,

     "execution_count": 34,

     "execution_count": 10,

     "metadata": {},
     "output_type": "execute_result"
    }
   ],
   "source": [
    "df_merged_new.columns"
   ]
  },
  {
   "cell_type": "code",

   "execution_count": 175,


   "execution_count": 11,

   "metadata": {},
   "outputs": [],
   "source": [
    "# Creating the new field for home win, away win or draw \n",
    "# Defining conditions for each outcome\n",
    "conditions = [\n",
    "    (df_merged_new['team_a_score'] < df_merged_new['team_h_score']),  # Home Win\n",
    "    (df_merged_new['team_a_score'] > df_merged_new['team_h_score']),  # Away Win\n",
    "    (df_merged_new['team_a_score'] == df_merged_new['team_h_score']), # Draw\n",
    "    # Add an additional condition to cover all cases\n",
    "    (~df_merged_new['team_a_score'].isna()) & (~df_merged_new['team_h_score'].isna())  # Missing data\n",
    "]\n",
    "\n",
    "# Define corresponding values for each condition\n",
    "values = ['Home Win', 'Away Win', 'Draw', 'Unknown']\n",
    "\n",
    "# Use np.select() to create the new column based on conditions\n",
    "df_merged_new['result'] = np.select(conditions, values, default='Unknown')"
   ]
  },
  {
   "cell_type": "code",

   "execution_count": 176,

   "execution_count": 36,

   "execution_count": 12,

   "metadata": {},
   "outputs": [
    {
     "data": {
      "text/plain": [
       "Index(['season_x', 'name', 'position', 'team_x', 'assists', 'bonus', 'bps',\n",
       "       'clean_sheets', 'creativity', 'element', 'fixture', 'goals_conceded',\n",
       "       'goals_scored', 'ict_index', 'influence', 'kickoff_time', 'minutes',\n",
       "       'opponent_team', 'opp_team_name', 'own_goals', 'penalties_missed',\n",
       "       'penalties_saved', 'red_cards', 'round', 'saves', 'selected',\n",
       "       'team_a_score', 'team_h_score', 'threat', 'total_points',\n",
       "       'transfers_balance', 'transfers_in', 'transfers_out', 'value',\n",
       "       'was_home', 'yellow_cards', 'GW', 'result'],\n",
       "      dtype='object')"
      ]
     },

     "execution_count": 176,

     "execution_count": 36,

     "execution_count": 12,

     "metadata": {},
     "output_type": "execute_result"
    }
   ],
   "source": [
    "df_merged_new.head(5)\n",
    "df_merged_new.columns"
   ]
  },
  {
   "cell_type": "code",

   "execution_count": 177,
   "metadata": {},
   "outputs": [],

   "execution_count": 37,
   "metadata": {},
   "outputs": [
    {
     "name": "stdout",
     "output_type": "stream",
     "text": [
      "     season_x   team_x   opp_team_name  assists  bonus  bps  clean_sheets  \\\n",
      "0     2016-17  Arsenal         Arsenal        0      0   23             0   \n",
      "1     2016-17  Arsenal     Bournemouth        1      1   28             1   \n",
      "2     2016-17  Arsenal         Burnley        1      3   40             1   \n",
      "3     2016-17  Arsenal         Chelsea        1      2   38             1   \n",
      "4     2016-17  Arsenal  Crystal Palace        1      2   36             1   \n",
      "...       ...      ...             ...      ...    ...  ...           ...   \n",
      "2111  2022-23   Wolves       Newcastle        1      3   35             1   \n",
      "2112  2022-23   Wolves   Nott'm Forest        1      3   39             1   \n",
      "2113  2022-23   Wolves     Southampton        1      3   28             1   \n",
      "2114  2022-23   Wolves           Spurs        1      3   33             1   \n",
      "2115  2022-23   Wolves        West Ham        0      3   30             1   \n",
      "\n",
      "      creativity  element  fixture  ...  threat  total_points  \\\n",
      "0           50.0      570      324  ...     6.0             2   \n",
      "1           42.6      593      332  ...    34.0             6   \n",
      "2           67.6      593      315  ...    57.0            11   \n",
      "3           50.0      593      354  ...    32.0            11   \n",
      "4           53.0      660      312  ...    34.0             8   \n",
      "...          ...      ...      ...  ...     ...           ...   \n",
      "2111        25.2      721      268  ...    37.0            10   \n",
      "2112        39.3      721      289  ...    38.0            14   \n",
      "2113        43.9      721      229  ...    28.0            11   \n",
      "2114        51.8      721      260  ...    41.0            11   \n",
      "2115        35.9      698      200  ...    36.0            10   \n",
      "\n",
      "      transfers_balance  transfers_in transfers_out  value  was_home  \\\n",
      "0                 16648         20980         44601     74      True   \n",
      "1                 17484         20826        114650     96      True   \n",
      "2                 50025         63674        123416     95      True   \n",
      "3                  5524         16276         69489     95      True   \n",
      "4                 34784         35614         27020     96      True   \n",
      "...                 ...           ...           ...    ...       ...   \n",
      "2111              21558         53958        339073     69      True   \n",
      "2112              99497        111628         58981     68      True   \n",
      "2113              83648         89460        115499     69      True   \n",
      "2114              31032         58999        316204     69      True   \n",
      "2115              42544         68428         64604     69      True   \n",
      "\n",
      "      yellow_cards  GW    result  \n",
      "0                0  36  Home Win  \n",
      "1                1  34  Home Win  \n",
      "2                1  32  Home Win  \n",
      "3                1  36  Home Win  \n",
      "4                1  32  Home Win  \n",
      "...            ...  ..       ...  \n",
      "2111             1  27  Home Win  \n",
      "2112             1  29  Home Win  \n",
      "2113             1  23  Home Win  \n",
      "2114             1  26  Home Win  \n",
      "2115             1  20  Home Win  \n",
      "\n",
      "[2116 rows x 36 columns]\n"
     ]
    }
   ],

   "execution_count": 13,
   "metadata": {},
   "outputs": [],

   "source": [
    "import pandas as pd\n",
    "\n",
    "# Assuming df is your DataFrame\n",
    "# Drop the 'name' column\n",
    "df = df_merged_new.drop(columns=['name'])\n",
    "\n",
    "# Define aggregation functions for each column\n",
    "agg_funcs = {'assists': 'max',\n",
    "             'bonus': 'max',\n",
    "             'bps': 'max',\n",
    "             'clean_sheets': 'max',\n",
    "             'creativity': 'max',\n",
    "             'element': 'max',\n",
    "             'fixture': 'max',\n",
    "             'goals_conceded': 'max',\n",
    "             'goals_scored': 'max',\n",
    "             'ict_index': 'max',\n",
    "             'influence': 'max',\n",
    "             'kickoff_time': 'max',\n",
    "             'minutes': 'max',\n",
    "             'opponent_team': 'max',\n",
    "             'own_goals': 'max',\n",
    "             'penalties_missed': 'max',\n",
    "             'penalties_saved': 'max',\n",
    "             'red_cards': 'max',\n",
    "             'round': 'max',\n",
    "             'saves': 'max',\n",
    "             'selected': 'max',\n",
    "             'team_a_score': 'max',\n",
    "             'team_h_score': 'max',\n",
    "             'threat': 'max',\n",
    "             'total_points': 'max',\n",
    "             'transfers_balance': 'max',\n",
    "             'transfers_in': 'max',\n",
    "             'transfers_out': 'max',\n",
    "             'value': 'max',\n",
    "             'was_home': 'max',\n",
    "             'yellow_cards': 'max',\n",
    "             'GW': 'max',\n",
    "             'result': 'max'}\n",
    "\n",
    "# Group the DataFrame by 'season_x', 'team_x', and 'opp_team_name' and aggregate using defined aggregation functions\n",
    "df_grouped = df.groupby(['season_x', 'team_x', 'opp_team_name']).agg(agg_funcs).reset_index()\n",
    "\n",
    "# Print the grouped DataFrame\n",
    "\n"
   ]
  },
  {
   "cell_type": "code",

   "execution_count": 178,
   "metadata": {},
   "outputs": [
    {
     "name": "stdout",
     "output_type": "stream",
     "text": [
      "<class 'pandas.core.frame.DataFrame'>\n",
      "RangeIndex: 96169 entries, 0 to 96168\n",
      "Data columns (total 37 columns):\n",
      " #   Column             Non-Null Count  Dtype   \n",
      "---  ------             --------------  -----   \n",
      " 0   season_x           96169 non-null  category\n",
      " 1   position           96169 non-null  category\n",
      " 2   team_x             96169 non-null  category\n",
      " 3   assists            96169 non-null  int64   \n",
      " 4   bonus              96169 non-null  int64   \n",
      " 5   bps                96169 non-null  int64   \n",
      " 6   clean_sheets       96169 non-null  int64   \n",
      " 7   creativity         96169 non-null  float64 \n",
      " 8   element            96169 non-null  int64   \n",
      " 9   fixture            96169 non-null  int64   \n",
      " 10  goals_conceded     96169 non-null  int64   \n",
      " 11  goals_scored       96169 non-null  int64   \n",
      " 12  ict_index          96169 non-null  float64 \n",
      " 13  influence          96169 non-null  float64 \n",
      " 14  kickoff_time       96169 non-null  category\n",
      " 15  minutes            96169 non-null  int64   \n",
      " 16  opponent_team      96169 non-null  int64   \n",
      " 17  opp_team_name      96169 non-null  category\n",
      " 18  own_goals          96169 non-null  int64   \n",
      " 19  penalties_missed   96169 non-null  int64   \n",
      " 20  penalties_saved    96169 non-null  int64   \n",
      " 21  red_cards          96169 non-null  int64   \n",
      " 22  round              96169 non-null  int64   \n",
      " 23  saves              96169 non-null  int64   \n",
      " 24  selected           96169 non-null  int64   \n",
      " 25  team_a_score       96169 non-null  float64 \n",
      " 26  team_h_score       96169 non-null  float64 \n",
      " 27  threat             96169 non-null  float64 \n",
      " 28  total_points       96169 non-null  int64   \n",
      " 29  transfers_balance  96169 non-null  int64   \n",
      " 30  transfers_in       96169 non-null  int64   \n",
      " 31  transfers_out      96169 non-null  int64   \n",
      " 32  value              96169 non-null  int64   \n",
      " 33  was_home           96169 non-null  category\n",
      " 34  yellow_cards       96169 non-null  int64   \n",
      " 35  GW                 96169 non-null  int64   \n",
      " 36  result             96169 non-null  object  \n",
      "dtypes: category(6), float64(6), int64(24), object(1)\n",
      "memory usage: 23.4+ MB\n"
     ]
    }
   ],
   "source": [
    "\n",
    "# Remove hyphen from 'season_x' column\n",
    "df['season_x'] = df['season_x'].str.replace('-', '')\n",
    "\n",
    "# Convert 'season_x' column to categorical type\n",
    "# Convert columns to categorical\n",
    "columns_to_convert = ['season_x','position', 'team_x','opp_team_name','was_home','kickoff_time']\n",
    "df[columns_to_convert] = df[columns_to_convert].astype('category')\n",
    "\n",
    "# Convert categorical columns to ordered categorical\n",
    "categorical_columns = df.select_dtypes(include=['category']).columns\n",
    "for col in categorical_columns:\n",
    "    df[col] = pd.Categorical(df[col], ordered=True)\n",
    "\n",
    "\n",
    "# List of columns to one-hot encode\n",
    "columns_to_encode = ['season_x', 'position', 'team_x','opp_team_name','kickoff_time']\n",
    "\n",
    "# Perform one-hot encoding\n",
    "df_encoded = pd.get_dummies(df, columns=columns_to_encode)\n",
    "\n",
    "# Drop any remaining non-numeric columns\n",
    "# You might want to adjust this depending on your specific data\n",
    "df_encoded = df_encoded.select_dtypes(include=['number', 'bool'])\n",
    "\n",
    "df.info()"
   ]
  },
  {
   "cell_type": "code",
   "execution_count": 179,
   "metadata": {},
   "outputs": [],
   "source": [
    "\n",
    "# Group the DataFrame by 'season_x', 'team_x', and 'opp_team_name' and aggregate using defined aggregation functions\n",
    "df_grouped = df.groupby(['season_x', 'team_x', 'opp_team_name']).agg(agg_funcs).reset_index()\n",
    "\n",
    "# Print the grouped DataFrame"
   ]
  },
  {
   "cell_type": "code",
   "execution_count": 180,
   "metadata": {},
   "outputs": [
    {
     "data": {
      "text/html": [
       "<div>\n",
       "<style scoped>\n",
       "    .dataframe tbody tr th:only-of-type {\n",
       "        vertical-align: middle;\n",
       "    }\n",
       "\n",
       "    .dataframe tbody tr th {\n",
       "        vertical-align: top;\n",
       "    }\n",
       "\n",
       "    .dataframe thead th {\n",
       "        text-align: right;\n",
       "    }\n",
       "</style>\n",
       "<table border=\"1\" class=\"dataframe\">\n",
       "  <thead>\n",
       "    <tr style=\"text-align: right;\">\n",
       "      <th></th>\n",
       "      <th>season_x</th>\n",
       "      <th>position</th>\n",
       "      <th>team_x</th>\n",
       "      <th>assists</th>\n",
       "      <th>bonus</th>\n",
       "      <th>bps</th>\n",
       "      <th>clean_sheets</th>\n",
       "      <th>creativity</th>\n",
       "      <th>element</th>\n",
       "      <th>fixture</th>\n",
       "      <th>...</th>\n",
       "      <th>threat</th>\n",
       "      <th>total_points</th>\n",
       "      <th>transfers_balance</th>\n",
       "      <th>transfers_in</th>\n",
       "      <th>transfers_out</th>\n",
       "      <th>value</th>\n",
       "      <th>was_home</th>\n",
       "      <th>yellow_cards</th>\n",
       "      <th>GW</th>\n",
       "      <th>result</th>\n",
       "    </tr>\n",
       "  </thead>\n",
       "  <tbody>\n",
       "    <tr>\n",
       "      <th>0</th>\n",
       "      <td>201617</td>\n",
       "      <td>DEF</td>\n",
       "      <td>West Ham</td>\n",
       "      <td>0</td>\n",
       "      <td>0</td>\n",
       "      <td>0</td>\n",
       "      <td>0</td>\n",
       "      <td>0.0</td>\n",
       "      <td>454</td>\n",
       "      <td>10</td>\n",
       "      <td>...</td>\n",
       "      <td>0.0</td>\n",
       "      <td>0</td>\n",
       "      <td>0</td>\n",
       "      <td>0</td>\n",
       "      <td>0</td>\n",
       "      <td>55</td>\n",
       "      <td>False</td>\n",
       "      <td>0</td>\n",
       "      <td>1</td>\n",
       "      <td>Home Win</td>\n",
       "    </tr>\n",
       "    <tr>\n",
       "      <th>1</th>\n",
       "      <td>201617</td>\n",
       "      <td>MID</td>\n",
       "      <td>Burnley</td>\n",
       "      <td>0</td>\n",
       "      <td>0</td>\n",
       "      <td>6</td>\n",
       "      <td>0</td>\n",
       "      <td>0.3</td>\n",
       "      <td>142</td>\n",
       "      <td>3</td>\n",
       "      <td>...</td>\n",
       "      <td>0.0</td>\n",
       "      <td>1</td>\n",
       "      <td>0</td>\n",
       "      <td>0</td>\n",
       "      <td>0</td>\n",
       "      <td>60</td>\n",
       "      <td>True</td>\n",
       "      <td>0</td>\n",
       "      <td>1</td>\n",
       "      <td>Draw</td>\n",
       "    </tr>\n",
       "    <tr>\n",
       "      <th>2</th>\n",
       "      <td>201617</td>\n",
       "      <td>MID</td>\n",
       "      <td>Aston Villa</td>\n",
       "      <td>0</td>\n",
       "      <td>0</td>\n",
       "      <td>5</td>\n",
       "      <td>0</td>\n",
       "      <td>4.9</td>\n",
       "      <td>16</td>\n",
       "      <td>8</td>\n",
       "      <td>...</td>\n",
       "      <td>23.0</td>\n",
       "      <td>2</td>\n",
       "      <td>0</td>\n",
       "      <td>0</td>\n",
       "      <td>0</td>\n",
       "      <td>80</td>\n",
       "      <td>True</td>\n",
       "      <td>0</td>\n",
       "      <td>1</td>\n",
       "      <td>Away Win</td>\n",
       "    </tr>\n",
       "    <tr>\n",
       "      <th>3</th>\n",
       "      <td>201617</td>\n",
       "      <td>MID</td>\n",
       "      <td>Everton</td>\n",
       "      <td>0</td>\n",
       "      <td>0</td>\n",
       "      <td>0</td>\n",
       "      <td>0</td>\n",
       "      <td>0.0</td>\n",
       "      <td>482</td>\n",
       "      <td>7</td>\n",
       "      <td>...</td>\n",
       "      <td>0.0</td>\n",
       "      <td>0</td>\n",
       "      <td>0</td>\n",
       "      <td>0</td>\n",
       "      <td>0</td>\n",
       "      <td>50</td>\n",
       "      <td>False</td>\n",
       "      <td>0</td>\n",
       "      <td>1</td>\n",
       "      <td>Draw</td>\n",
       "    </tr>\n",
       "    <tr>\n",
       "      <th>4</th>\n",
       "      <td>201617</td>\n",
       "      <td>MID</td>\n",
       "      <td>Leeds</td>\n",
       "      <td>0</td>\n",
       "      <td>0</td>\n",
       "      <td>3</td>\n",
       "      <td>0</td>\n",
       "      <td>1.3</td>\n",
       "      <td>286</td>\n",
       "      <td>6</td>\n",
       "      <td>...</td>\n",
       "      <td>0.0</td>\n",
       "      <td>1</td>\n",
       "      <td>0</td>\n",
       "      <td>0</td>\n",
       "      <td>0</td>\n",
       "      <td>45</td>\n",
       "      <td>True</td>\n",
       "      <td>1</td>\n",
       "      <td>1</td>\n",
       "      <td>Draw</td>\n",
       "    </tr>\n",
       "  </tbody>\n",
       "</table>\n",
       "<p>5 rows × 37 columns</p>\n",
       "</div>"
      ],
      "text/plain": [
       "  season_x position       team_x  assists  bonus  bps  clean_sheets  \\\n",
       "0   201617      DEF     West Ham        0      0    0             0   \n",
       "1   201617      MID      Burnley        0      0    6             0   \n",
       "2   201617      MID  Aston Villa        0      0    5             0   \n",
       "3   201617      MID      Everton        0      0    0             0   \n",
       "4   201617      MID        Leeds        0      0    3             0   \n",
       "\n",
       "   creativity  element  fixture  ...  threat  total_points  transfers_balance  \\\n",
       "0         0.0      454       10  ...     0.0             0                  0   \n",
       "1         0.3      142        3  ...     0.0             1                  0   \n",
       "2         4.9       16        8  ...    23.0             2                  0   \n",
       "3         0.0      482        7  ...     0.0             0                  0   \n",
       "4         1.3      286        6  ...     0.0             1                  0   \n",
       "\n",
       "   transfers_in transfers_out  value  was_home yellow_cards  GW    result  \n",
       "0             0             0     55     False            0   1  Home Win  \n",
       "1             0             0     60      True            0   1      Draw  \n",
       "2             0             0     80      True            0   1  Away Win  \n",
       "3             0             0     50     False            0   1      Draw  \n",
       "4             0             0     45      True            1   1      Draw  \n",
       "\n",
       "[5 rows x 37 columns]"
      ]
     },
     "execution_count": 180,
     "metadata": {},
     "output_type": "execute_result"
    }
   ],
   "source": [
    "df.head()"
   ]
  },
  {
   "cell_type": "code",
   "execution_count": 181,

   "execution_count": 38,

   "execution_count": 14,

   "metadata": {},
   "outputs": [
    {
     "data": {
      "text/plain": [
       "Index(['season_x', 'team_x', 'opp_team_name', 'assists', 'bonus', 'bps',\n",
       "       'clean_sheets', 'creativity', 'element', 'fixture', 'goals_conceded',\n",
       "       'goals_scored', 'ict_index', 'influence', 'kickoff_time', 'minutes',\n",
       "       'opponent_team', 'own_goals', 'penalties_missed', 'penalties_saved',\n",
       "       'red_cards', 'round', 'saves', 'selected', 'team_a_score',\n",
       "       'team_h_score', 'threat', 'total_points', 'transfers_balance',\n",
       "       'transfers_in', 'transfers_out', 'value', 'was_home', 'yellow_cards',\n",
       "       'GW', 'result'],\n",
       "      dtype='object')"
      ]
     },

     "execution_count": 181,

     "execution_count": 38,

     "execution_count": 14,

     "metadata": {},
     "output_type": "execute_result"
    }
   ],
   "source": [
    "df_grouped.columns\n"
   ]
  },
  {
   "cell_type": "code",

   "execution_count": 182,

   "execution_count": 39,

   "execution_count": 15,

   "metadata": {},
   "outputs": [],
   "source": [
    "df_x_lable = df_grouped.drop(columns='result')\n",
    "df_y_lable = df_grouped['result']"
   ]
  },
  {
   "cell_type": "code",

   "execution_count": 183,
   "metadata": {},
   "outputs": [],
   "source": [
    "X = df_x_lable\n",
    "y = df_y_lable"
   ]
  },
  {
   "cell_type": "code",
   "execution_count": 184,

   "execution_count": 40,

   "execution_count": 16,

   "metadata": {},
   "outputs": [
    {
     "data": {
      "text/plain": [
       "Index(['season_x', 'team_x', 'opp_team_name', 'assists', 'bonus', 'bps',\n",
       "       'clean_sheets', 'creativity', 'element', 'fixture', 'goals_conceded',\n",
       "       'goals_scored', 'ict_index', 'influence', 'kickoff_time', 'minutes',\n",
       "       'opponent_team', 'own_goals', 'penalties_missed', 'penalties_saved',\n",
       "       'red_cards', 'round', 'saves', 'selected', 'team_a_score',\n",
       "       'team_h_score', 'threat', 'total_points', 'transfers_balance',\n",
       "       'transfers_in', 'transfers_out', 'value', 'was_home', 'yellow_cards',\n",
       "       'GW'],\n",
       "      dtype='object')"
      ]
     },

     "execution_count": 184,

     "execution_count": 40,

     "execution_count": 16,

     "metadata": {},
     "output_type": "execute_result"
    }
   ],
   "source": [
    "X.columns"
    "df_x_lable.columns"
   ]
  },
  {
   "cell_type": "code",

   "execution_count": 185,

   "execution_count": 41,

   "execution_count": 17,

   "metadata": {},
   "outputs": [
    {
     "data": {
      "text/plain": [
       "0       Home Win\n",

       "1            NaN\n",
       "2       Home Win\n",
       "3            NaN\n",
       "4            NaN\n",
       "          ...   \n",
       "3870         NaN\n",
       "3871         NaN\n",
       "3872         NaN\n",
       "3873    Home Win\n",
       "3874         NaN\n",
       "Name: result, Length: 3875, dtype: object"
      ]
     },
     "execution_count": 185,

       "1       Home Win\n",
       "2       Home Win\n",
       "3       Home Win\n",
       "4       Home Win\n",
       "          ...   \n",
       "2111    Home Win\n",
       "2112    Home Win\n",
       "2113    Home Win\n",
       "2114    Home Win\n",
       "2115    Home Win\n",
       "Name: result, Length: 2116, dtype: object"
      ]
     },

     "execution_count": 41,

     "execution_count": 17,

     "metadata": {},
     "output_type": "execute_result"
    }
   ],
   "source": [
    "df_y_lable"
   ]
  },
  {
   "cell_type": "code",
   "execution_count": null,
   "metadata": {},
   "outputs": [],
   "source": [
    " \n",
    " \n",
    " \n",
    " \n",
    " \n",
    " "
   ]
  }
 ],
 "metadata": {
  "kernelspec": {
   "display_name": "Python 3",
   "language": "python",
   "name": "python3"
  },
  "language_info": {
   "codemirror_mode": {
    "name": "ipython",
    "version": 3
   },
   "file_extension": ".py",
   "mimetype": "text/x-python",
   "name": "python",
   "nbconvert_exporter": "python",
   "pygments_lexer": "ipython3",
   "version": "3.11.5"
  }
 },
 "nbformat": 4,
 "nbformat_minor": 2
}
