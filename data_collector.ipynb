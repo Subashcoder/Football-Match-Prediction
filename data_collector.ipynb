{
 "cells": [
  {
   "cell_type": "code",
<<<<<<< HEAD
   "execution_count": 165,
=======
   "execution_count": 23,
>>>>>>> main
   "metadata": {},
   "outputs": [],
   "source": [
    "import pandas as pd\n",
    "import numpy as np"
   ]
  },
  {
   "cell_type": "code",
<<<<<<< HEAD
   "execution_count": 166,
=======
   "execution_count": 11,
>>>>>>> main
   "metadata": {},
   "outputs": [
    {
     "data": {
      "text/plain": [
       "<bound method NDFrame.describe of                            name  assists  attempted_passes  \\\n",
       "0               Aaron_Cresswell        0               0.0   \n",
       "1                  Aaron_Lennon        0               3.0   \n",
       "2                  Aaron_Ramsey        0              26.0   \n",
       "3            Abdoulaye_Doucouré        0               0.0   \n",
       "4             Abdul Rahman_Baba        0               0.0   \n",
       "...                         ...      ...               ...   \n",
       "187242              Jacob Brown        0               NaN   \n",
       "187243              Jacob Brown        0               NaN   \n",
       "187244           Vicente Guaita        0               NaN   \n",
       "187245  Braian Ojeda RodrÃ­guez        0               NaN   \n",
       "187246      Mads Bech SÃ¸rensen        0               NaN   \n",
       "\n",
       "        big_chances_created  big_chances_missed  bonus  bps  clean_sheets  \\\n",
       "0                       0.0                 0.0      0    0             0   \n",
       "1                       0.0                 0.0      0    6             0   \n",
       "2                       0.0                 0.0      0    5             0   \n",
       "3                       0.0                 0.0      0    0             0   \n",
       "4                       0.0                 0.0      0    0             0   \n",
       "...                     ...                 ...    ...  ...           ...   \n",
       "187242                  NaN                 NaN      0    0             0   \n",
       "187243                  NaN                 NaN      0    0             0   \n",
       "187244                  NaN                 NaN      0    0             0   \n",
       "187245                  NaN                 NaN      0    0             0   \n",
       "187246                  NaN                 NaN      0    0             0   \n",
       "\n",
       "        clearances_blocks_interceptions  completed_passes  ...  GW  season_x  \\\n",
       "0                                   0.0               0.0  ...   1   2016-17   \n",
       "1                                   1.0               2.0  ...   1   2016-17   \n",
       "2                                   2.0              22.0  ...   1   2016-17   \n",
       "3                                   0.0               0.0  ...   1   2016-17   \n",
       "4                                   0.0               0.0  ...   1   2016-17   \n",
       "...                                 ...               ...  ...  ..       ...   \n",
       "187242                              NaN               NaN  ...  28   2023-24   \n",
       "187243                              NaN               NaN  ...  28   2023-24   \n",
       "187244                              NaN               NaN  ...  28   2023-24   \n",
       "187245                              NaN               NaN  ...  28   2023-24   \n",
       "187246                              NaN               NaN  ...  28   2023-24   \n",
       "\n",
       "        position            team   xP  expected_assists  \\\n",
       "0            NaN             NaN  NaN               NaN   \n",
       "1            NaN             NaN  NaN               NaN   \n",
       "2            NaN             NaN  NaN               NaN   \n",
       "3            NaN             NaN  NaN               NaN   \n",
       "4            NaN             NaN  NaN               NaN   \n",
       "...          ...             ...  ...               ...   \n",
       "187242       FWD           Luton  0.0               0.0   \n",
       "187243       FWD           Luton  0.0               0.0   \n",
       "187244        GK  Crystal Palace  0.0               0.0   \n",
       "187245       MID   Nott'm Forest  0.0               0.0   \n",
       "187246       DEF       Brentford  0.0               0.0   \n",
       "\n",
       "        expected_goal_involvements  expected_goals  expected_goals_conceded  \\\n",
       "0                              NaN             NaN                      NaN   \n",
       "1                              NaN             NaN                      NaN   \n",
       "2                              NaN             NaN                      NaN   \n",
       "3                              NaN             NaN                      NaN   \n",
       "4                              NaN             NaN                      NaN   \n",
       "...                            ...             ...                      ...   \n",
       "187242                         0.0             0.0                      0.0   \n",
       "187243                         0.0             0.0                      0.0   \n",
       "187244                         0.0             0.0                      0.0   \n",
       "187245                         0.0             0.0                      0.0   \n",
       "187246                         0.0             0.0                      0.0   \n",
       "\n",
       "        starts  \n",
       "0          NaN  \n",
       "1          NaN  \n",
       "2          NaN  \n",
       "3          NaN  \n",
       "4          NaN  \n",
       "...        ...  \n",
       "187242     0.0  \n",
       "187243     0.0  \n",
       "187244     0.0  \n",
       "187245     0.0  \n",
       "187246     0.0  \n",
       "\n",
       "[187247 rows x 65 columns]>"
      ]
     },
<<<<<<< HEAD
     "execution_count": 166,
=======
     "execution_count": 11,
>>>>>>> main
     "metadata": {},
     "output_type": "execute_result"
    }
   ],
   "source": [
    "\n",
<<<<<<< HEAD
    "file_path_16_17 = r'C:\\Users\\Kush\\Desktop\\Ai Project(Football Prediction)\\Clone\\Football-Match-Prediction\\Data\\data\\2016-17\\gws\\merged_gw.csv'\n",
    "file_path_17_18 = r'C:\\Users\\Kush\\Desktop\\Ai Project(Football Prediction)\\Clone\\Football-Match-Prediction\\Data\\data\\2017-18\\gws\\merged_gw.csv'\n",
    "file_path_18_19 = r'C:\\Users\\Kush\\Desktop\\Ai Project(Football Prediction)\\Clone\\Football-Match-Prediction\\Data\\data\\2018-19\\gws\\merged_gw.csv'\n",
    "file_path_19_20 = r'C:\\Users\\Kush\\Desktop\\Ai Project(Football Prediction)\\Clone\\Football-Match-Prediction\\Data\\data\\2019-20\\gws\\merged_gw.csv'\n",
    "file_path_20_21 = r'C:\\Users\\Kush\\Desktop\\Ai Project(Football Prediction)\\Clone\\Football-Match-Prediction\\Data\\data\\2020-21\\gws\\merged_gw.csv'\n",
    "file_path_21_22 = r'C:\\Users\\Kush\\Desktop\\Ai Project(Football Prediction)\\Clone\\Football-Match-Prediction\\Data\\data\\2021-22\\gws\\merged_gw.csv'\n",
    "file_path_22_23 = r'C:\\Users\\Kush\\Desktop\\Ai Project(Football Prediction)\\Clone\\Football-Match-Prediction\\Data\\data\\2022-23\\gws\\merged_gw.csv'\n",
    "file_path_23_24 = r'C:\\Users\\Kush\\Desktop\\Ai Project(Football Prediction)\\Clone\\Football-Match-Prediction\\Data\\data\\2023-24\\gws\\merged_gw.csv'\n",
    "\n",
    "#file_path = pd.read_csv(r'C:\\Users\\Kush\\Desktop\\Ai Project(Football Prediction)\\Clone\\Football-Match-Prediction\\Data\\data\\cleaned_merged_seasons.csv',encoding='latin1',dtype={'column_name': float})\n",
    "file_path = r'C:\\Users\\Kush\\Desktop\\Ai Project(Football Prediction)\\Clone\\Football-Match-Prediction\\Data\\data\\cleaned_merged_seasons.csv'\n",
    "\n",
    "player_list_path = r'C:\\Users\\Kush\\Desktop\\Ai Project(Football Prediction)\\Clone\\Football-Match-Prediction\\Data\\data\\2021-22\\fbref_overview.csv'\n",
=======
    "\n",
    "file_path_16_17 = r'C:\\Drive D\\Downloads\\Lambton College\\Semester 2\\AI\\Project\\Football_Match_Prediction\\Football-Match-Prediction\\Data\\data\\2016-17\\gws\\merged_gw.csv'\n",
    "file_path_17_18 = r'C:\\Drive D\\Downloads\\Lambton College\\Semester 2\\AI\\Project\\Football_Match_Prediction\\Football-Match-Prediction\\Data\\data\\2017-18\\gws\\merged_gw.csv'\n",
    "file_path_18_19 = r'C:\\Drive D\\Downloads\\Lambton College\\Semester 2\\AI\\Project\\Football_Match_Prediction\\Football-Match-Prediction\\Data\\data\\2018-19\\gws\\merged_gw.csv'\n",
    "file_path_19_20 = r'C:\\Drive D\\Downloads\\Lambton College\\Semester 2\\AI\\Project\\Football_Match_Prediction\\Football-Match-Prediction\\Data\\data\\2019-20\\gws\\merged_gw.csv'\n",
    "file_path_20_21 = r'C:\\Drive D\\Downloads\\Lambton College\\Semester 2\\AI\\Project\\Football_Match_Prediction\\Football-Match-Prediction\\Data\\data\\2020-21\\gws\\merged_gw.csv'\n",
    "file_path_21_22 = r'C:\\Drive D\\Downloads\\Lambton College\\Semester 2\\AI\\Project\\Football_Match_Prediction\\Football-Match-Prediction\\Data\\data\\2021-22\\gws\\merged_gw.csv'\n",
    "file_path_22_23 = r'C:\\Drive D\\Downloads\\Lambton College\\Semester 2\\AI\\Project\\Football_Match_Prediction\\Football-Match-Prediction\\Data\\data\\2022-23\\gws\\merged_gw.csv'\n",
    "file_path_23_24 = r'C:\\Drive D\\Downloads\\Lambton College\\Semester 2\\AI\\Project\\Football_Match_Prediction\\Football-Match-Prediction\\Data\\data\\2023-24\\gws\\merged_gw.csv'\n",
    "\n",
    "file_path = r'C:\\Drive D\\Downloads\\Lambton College\\Semester 2\\AI\\Project\\Football_Match_Prediction\\Football-Match-Prediction\\Data\\data\\cleaned_merged_seasons.csv'\n",
    "\n",
    "player_list_path = r'C:\\Drive D\\Downloads\\Lambton College\\Semester 2\\AI\\Project\\Football_Match_Prediction\\Football-Match-Prediction\\Data\\data/2021-22/fbref_overview.csv'\n",
>>>>>>> main
    "\n",
    "df_16_17 = pd.read_csv(file_path_16_17, encoding='latin1')\n",
    "df_16_17['season_x'] = '2016-17'\n",
    "df_17_18 = pd.read_csv(file_path_17_18, encoding='latin1')\n",
    "df_17_18['season_x'] = '2017-18'\n",
    "df_18_19 = pd.read_csv(file_path_18_19, encoding='latin1')\n",
    "df_18_19['season_x'] = '2018-19'\n",
    "df_19_20 = pd.read_csv(file_path_19_20, encoding='latin1')\n",
    "df_19_20['season_x'] = '2019-20'\n",
    "df_20_21 = pd.read_csv(file_path_20_21, encoding='latin1')\n",
    "df_20_21['season_x'] = '2020-21'\n",
    "df_21_22 = pd.read_csv(file_path_21_22, encoding='latin1')\n",
    "df_21_22['season_x'] = '2021-22'\n",
    "df_22_23 = pd.read_csv(file_path_22_23, encoding='latin1')\n",
    "df_22_23['season_x'] = '2022-23'\n",
    "df_23_24 = pd.read_csv(file_path_23_24, encoding='latin1')\n",
    "df_23_24['season_x'] = '2023-24'\n",
    "\n",
    "dfs = [df_16_17, df_17_18, df_18_19, df_19_20, df_20_21, df_21_22, df_22_23, df_23_24]\n",
    "\n",
    "# Concatenate all DataFrames vertically\n",
    "df_2016_2024 = pd.concat(dfs, ignore_index=True)\n",
    "df_2016_2024.describe\n"
   ]
  },
  {
   "cell_type": "code",
<<<<<<< HEAD
   "execution_count": 167,
=======
   "execution_count": 13,
>>>>>>> main
   "metadata": {},
   "outputs": [
    {
     "name": "stdout",
     "output_type": "stream",
     "text": [
      "Index(['name', 'assists', 'attempted_passes', 'big_chances_created',\n",
      "       'big_chances_missed', 'bonus', 'bps', 'clean_sheets',\n",
      "       'clearances_blocks_interceptions', 'completed_passes', 'creativity',\n",
      "       'dribbles', 'ea_index', 'element', 'errors_leading_to_goal',\n",
      "       'errors_leading_to_goal_attempt', 'fixture', 'fouls', 'goals_conceded',\n",
      "       'goals_scored', 'ict_index', 'id', 'influence', 'key_passes',\n",
      "       'kickoff_time', 'kickoff_time_formatted', 'loaned_in', 'loaned_out',\n",
      "       'minutes', 'offside', 'open_play_crosses', 'opponent_team', 'own_goals',\n",
      "       'penalties_conceded', 'penalties_missed', 'penalties_saved',\n",
      "       'recoveries', 'red_cards', 'round', 'saves', 'selected', 'tackled',\n",
      "       'tackles', 'target_missed', 'team_a_score', 'team_h_score', 'threat',\n",
      "       'total_points', 'transfers_balance', 'transfers_in', 'transfers_out',\n",
      "       'value', 'was_home', 'winning_goals', 'yellow_cards', 'GW', 'season_x'],\n",
      "      dtype='object')\n",
      "Index(['name', 'assists', 'attempted_passes', 'big_chances_created',\n",
      "       'big_chances_missed', 'bonus', 'bps', 'clean_sheets',\n",
      "       'clearances_blocks_interceptions', 'completed_passes', 'creativity',\n",
      "       'dribbles', 'ea_index', 'element', 'errors_leading_to_goal',\n",
      "       'errors_leading_to_goal_attempt', 'fixture', 'fouls', 'goals_conceded',\n",
      "       'goals_scored', 'ict_index', 'id', 'influence', 'key_passes',\n",
      "       'kickoff_time', 'kickoff_time_formatted', 'loaned_in', 'loaned_out',\n",
      "       'minutes', 'offside', 'open_play_crosses', 'opponent_team', 'own_goals',\n",
      "       'penalties_conceded', 'penalties_missed', 'penalties_saved',\n",
      "       'recoveries', 'red_cards', 'round', 'saves', 'selected', 'tackled',\n",
      "       'tackles', 'target_missed', 'team_a_score', 'team_h_score', 'threat',\n",
      "       'total_points', 'transfers_balance', 'transfers_in', 'transfers_out',\n",
      "       'value', 'was_home', 'winning_goals', 'yellow_cards', 'GW', 'season_x'],\n",
      "      dtype='object')\n",
      "Index(['name', 'assists', 'attempted_passes', 'big_chances_created',\n",
      "       'big_chances_missed', 'bonus', 'bps', 'clean_sheets',\n",
      "       'clearances_blocks_interceptions', 'completed_passes', 'creativity',\n",
      "       'dribbles', 'ea_index', 'element', 'errors_leading_to_goal',\n",
      "       'errors_leading_to_goal_attempt', 'fixture', 'fouls', 'goals_conceded',\n",
      "       'goals_scored', 'ict_index', 'id', 'influence', 'key_passes',\n",
      "       'kickoff_time', 'kickoff_time_formatted', 'loaned_in', 'loaned_out',\n",
      "       'minutes', 'offside', 'open_play_crosses', 'opponent_team', 'own_goals',\n",
      "       'penalties_conceded', 'penalties_missed', 'penalties_saved',\n",
      "       'recoveries', 'red_cards', 'round', 'saves', 'selected', 'tackled',\n",
      "       'tackles', 'target_missed', 'team_a_score', 'team_h_score', 'threat',\n",
      "       'total_points', 'transfers_balance', 'transfers_in', 'transfers_out',\n",
      "       'value', 'was_home', 'winning_goals', 'yellow_cards', 'GW', 'season_x'],\n",
      "      dtype='object')\n",
      "Index(['name', 'assists', 'bonus', 'bps', 'clean_sheets', 'creativity',\n",
      "       'element', 'fixture', 'goals_conceded', 'goals_scored', 'ict_index',\n",
      "       'influence', 'kickoff_time', 'minutes', 'opponent_team', 'own_goals',\n",
      "       'penalties_missed', 'penalties_saved', 'red_cards', 'round', 'saves',\n",
      "       'selected', 'team_a_score', 'team_h_score', 'threat', 'total_points',\n",
      "       'transfers_balance', 'transfers_in', 'transfers_out', 'value',\n",
      "       'was_home', 'yellow_cards', 'GW', 'season_x'],\n",
      "      dtype='object')\n",
      "Index(['name', 'position', 'team', 'xP', 'assists', 'bonus', 'bps',\n",
      "       'clean_sheets', 'creativity', 'element', 'fixture', 'goals_conceded',\n",
      "       'goals_scored', 'ict_index', 'influence', 'kickoff_time', 'minutes',\n",
      "       'opponent_team', 'own_goals', 'penalties_missed', 'penalties_saved',\n",
      "       'red_cards', 'round', 'saves', 'selected', 'team_a_score',\n",
      "       'team_h_score', 'threat', 'total_points', 'transfers_balance',\n",
      "       'transfers_in', 'transfers_out', 'value', 'was_home', 'yellow_cards',\n",
      "       'GW', 'season_x'],\n",
      "      dtype='object')\n",
      "Index(['name', 'position', 'team', 'xP', 'assists', 'bonus', 'bps',\n",
      "       'clean_sheets', 'creativity', 'element', 'fixture', 'goals_conceded',\n",
      "       'goals_scored', 'ict_index', 'influence', 'kickoff_time', 'minutes',\n",
      "       'opponent_team', 'own_goals', 'penalties_missed', 'penalties_saved',\n",
      "       'red_cards', 'round', 'saves', 'selected', 'team_a_score',\n",
      "       'team_h_score', 'threat', 'total_points', 'transfers_balance',\n",
      "       'transfers_in', 'transfers_out', 'value', 'was_home', 'yellow_cards',\n",
      "       'GW', 'season_x'],\n",
      "      dtype='object')\n",
      "Index(['name', 'position', 'team', 'xP', 'assists', 'bonus', 'bps',\n",
      "       'clean_sheets', 'creativity', 'element', 'expected_assists',\n",
      "       'expected_goal_involvements', 'expected_goals',\n",
      "       'expected_goals_conceded', 'fixture', 'goals_conceded', 'goals_scored',\n",
      "       'ict_index', 'influence', 'kickoff_time', 'minutes', 'opponent_team',\n",
      "       'own_goals', 'penalties_missed', 'penalties_saved', 'red_cards',\n",
      "       'round', 'saves', 'selected', 'starts', 'team_a_score', 'team_h_score',\n",
      "       'threat', 'total_points', 'transfers_balance', 'transfers_in',\n",
      "       'transfers_out', 'value', 'was_home', 'yellow_cards', 'GW', 'season_x'],\n",
      "      dtype='object')\n",
      "Index(['name', 'position', 'team', 'xP', 'assists', 'bonus', 'bps',\n",
      "       'clean_sheets', 'creativity', 'element', 'expected_assists',\n",
      "       'expected_goal_involvements', 'expected_goals',\n",
      "       'expected_goals_conceded', 'fixture', 'goals_conceded', 'goals_scored',\n",
      "       'ict_index', 'influence', 'kickoff_time', 'minutes', 'opponent_team',\n",
      "       'own_goals', 'penalties_missed', 'penalties_saved', 'red_cards',\n",
      "       'round', 'saves', 'selected', 'starts', 'team_a_score', 'team_h_score',\n",
      "       'threat', 'total_points', 'transfers_balance', 'transfers_in',\n",
      "       'transfers_out', 'value', 'was_home', 'yellow_cards', 'GW', 'season_x'],\n",
      "      dtype='object')\n"
     ]
    }
   ],
   "source": [
    "df = [df_16_17, df_17_18, df_18_19, df_19_20, df_20_21, df_21_22, df_22_23, df_23_24]\n",
    "for i in df:\n",
    "    i.columns\n",
<<<<<<< HEAD
    "    print(i.columns)"
=======
    "    print(i.columns)\n",
    "    \n",
    "    "
>>>>>>> main
   ]
  },
  {
   "cell_type": "code",
<<<<<<< HEAD
   "execution_count": 168,
   "metadata": {},
   "outputs": [],
   "source": [
    "df_merged = pd.read_csv(file_path, encoding='latin1', low_memory = False)"
=======
   "execution_count": 28,
   "metadata": {},
   "outputs": [
    {
     "name": "stderr",
     "output_type": "stream",
     "text": [
      "C:\\Users\\subas\\AppData\\Local\\Temp\\ipykernel_14812\\322788335.py:1: DtypeWarning: Columns (3) have mixed types. Specify dtype option on import or set low_memory=False.\n",
      "  df_merged = pd.read_csv(file_path, encoding='latin1')\n"
     ]
    },
    {
     "data": {
      "text/plain": [
       "<bound method NDFrame.describe of       season_x                      name position       team_x  assists  \\\n",
       "0      2016-17           Aaron Cresswell      DEF          NaN        0   \n",
       "1      2016-17              Aaron Lennon      MID          NaN        0   \n",
       "2      2016-17              Aaron Ramsey      MID          NaN        0   \n",
       "3      2016-17       Abdoulaye DoucourÃ©      MID          NaN        0   \n",
       "4      2016-17              Adam Forshaw      MID          NaN        0   \n",
       "...        ...                       ...      ...          ...      ...   \n",
       "96164  2022-23              Oliver Skipp      MID        Spurs        0   \n",
       "96165  2022-23            Ryan Sessegnon      DEF        Spurs        0   \n",
       "96166  2022-23              Ashley Young      DEF  Aston Villa        0   \n",
       "96167  2022-23  Jeremy Sarmiento Morante      MID     Brighton        0   \n",
       "96168  2022-23            Philip Billing      MID  Bournemouth        0   \n",
       "\n",
       "       bonus  bps  clean_sheets  creativity  element  ...  team_h_score  \\\n",
       "0          0    0             0         0.0      454  ...           2.0   \n",
       "1          0    6             0         0.3      142  ...           1.0   \n",
       "2          0    5             0         4.9       16  ...           3.0   \n",
       "3          0    0             0         0.0      482  ...           1.0   \n",
       "4          0    3             0         1.3      286  ...           1.0   \n",
       "...      ...  ...           ...         ...      ...  ...           ...   \n",
       "96164      0   16             0         0.0      441  ...           1.0   \n",
       "96165      0    0             0         0.0      436  ...           1.0   \n",
       "96166      0    0             0         0.0      538  ...           2.0   \n",
       "96167      0    0             0         0.0      119  ...           2.0   \n",
       "96168      0   15             0         0.0       70  ...           1.0   \n",
       "\n",
       "       threat  total_points  transfers_balance  transfers_in transfers_out  \\\n",
       "0         0.0             0                  0             0             0   \n",
       "1         0.0             1                  0             0             0   \n",
       "2        23.0             2                  0             0             0   \n",
       "3         0.0             0                  0             0             0   \n",
       "4         0.0             1                  0             0             0   \n",
       "...       ...           ...                ...           ...           ...   \n",
       "96164     0.0             2                100           742           642   \n",
       "96165     0.0             0               -166            24           190   \n",
       "96166     0.0             0              -1146          1522          2668   \n",
       "96167     0.0             0                -17            22            39   \n",
       "96168     0.0             2             -18361           736         19097   \n",
       "\n",
       "       value  was_home yellow_cards  GW  \n",
       "0         55     False            0   1  \n",
       "1         60      True            0   1  \n",
       "2         80      True            0   1  \n",
       "3         50     False            0   1  \n",
       "4         45      True            1   1  \n",
       "...      ...       ...          ...  ..  \n",
       "96164     43     False            0  38  \n",
       "96165     44     False            0  38  \n",
       "96166     43      True            0  38  \n",
       "96167     45     False            0  38  \n",
       "96168     50     False            0  38  \n",
       "\n",
       "[96169 rows x 37 columns]>"
      ]
     },
     "execution_count": 28,
     "metadata": {},
     "output_type": "execute_result"
    }
   ],
   "source": [
    "df_merged = pd.read_csv(file_path, encoding='latin1')\n",
    "df_merged.describe"
>>>>>>> main
   ]
  },
  {
   "cell_type": "code",
<<<<<<< HEAD
   "execution_count": 169,
=======
   "execution_count": 29,
>>>>>>> main
   "metadata": {},
   "outputs": [
    {
     "data": {
      "text/plain": [
       "<bound method NDFrame.describe of       season_x                      name position       team_x  assists  \\\n",
       "0      2016-17           Aaron Cresswell      DEF          NaN        0   \n",
       "1      2016-17              Aaron Lennon      MID          NaN        0   \n",
       "2      2016-17              Aaron Ramsey      MID          NaN        0   \n",
       "3      2016-17       Abdoulaye DoucourÃ©      MID          NaN        0   \n",
       "4      2016-17              Adam Forshaw      MID          NaN        0   \n",
       "...        ...                       ...      ...          ...      ...   \n",
       "96164  2022-23              Oliver Skipp      MID        Spurs        0   \n",
       "96165  2022-23            Ryan Sessegnon      DEF        Spurs        0   \n",
       "96166  2022-23              Ashley Young      DEF  Aston Villa        0   \n",
       "96167  2022-23  Jeremy Sarmiento Morante      MID     Brighton        0   \n",
       "96168  2022-23            Philip Billing      MID  Bournemouth        0   \n",
       "\n",
       "       bonus  bps  clean_sheets  creativity  element  ...  team_h_score  \\\n",
       "0          0    0             0         0.0      454  ...           2.0   \n",
       "1          0    6             0         0.3      142  ...           1.0   \n",
       "2          0    5             0         4.9       16  ...           3.0   \n",
       "3          0    0             0         0.0      482  ...           1.0   \n",
       "4          0    3             0         1.3      286  ...           1.0   \n",
       "...      ...  ...           ...         ...      ...  ...           ...   \n",
       "96164      0   16             0         0.0      441  ...           1.0   \n",
       "96165      0    0             0         0.0      436  ...           1.0   \n",
       "96166      0    0             0         0.0      538  ...           2.0   \n",
       "96167      0    0             0         0.0      119  ...           2.0   \n",
       "96168      0   15             0         0.0       70  ...           1.0   \n",
       "\n",
       "       threat  total_points  transfers_balance  transfers_in transfers_out  \\\n",
       "0         0.0             0                  0             0             0   \n",
       "1         0.0             1                  0             0             0   \n",
       "2        23.0             2                  0             0             0   \n",
       "3         0.0             0                  0             0             0   \n",
       "4         0.0             1                  0             0             0   \n",
       "...       ...           ...                ...           ...           ...   \n",
       "96164     0.0             2                100           742           642   \n",
       "96165     0.0             0               -166            24           190   \n",
       "96166     0.0             0              -1146          1522          2668   \n",
       "96167     0.0             0                -17            22            39   \n",
       "96168     0.0             2             -18361           736         19097   \n",
       "\n",
       "       value  was_home yellow_cards  GW  \n",
       "0         55     False            0   1  \n",
       "1         60      True            0   1  \n",
       "2         80      True            0   1  \n",
       "3         50     False            0   1  \n",
       "4         45      True            1   1  \n",
       "...      ...       ...          ...  ..  \n",
       "96164     43     False            0  38  \n",
       "96165     44     False            0  38  \n",
       "96166     43      True            0  38  \n",
       "96167     45     False            0  38  \n",
       "96168     50     False            0  38  \n",
       "\n",
       "[96169 rows x 37 columns]>"
      ]
     },
<<<<<<< HEAD
     "execution_count": 169,
=======
     "execution_count": 29,
>>>>>>> main
     "metadata": {},
     "output_type": "execute_result"
    }
   ],
   "source": [
    "df_merged.describe"
   ]
  },
  {
   "cell_type": "code",
<<<<<<< HEAD
   "execution_count": 170,
=======
   "execution_count": 30,
>>>>>>> main
   "metadata": {},
   "outputs": [
    {
     "data": {
      "text/html": [
       "<div>\n",
       "<style scoped>\n",
       "    .dataframe tbody tr th:only-of-type {\n",
       "        vertical-align: middle;\n",
       "    }\n",
       "\n",
       "    .dataframe tbody tr th {\n",
       "        vertical-align: top;\n",
       "    }\n",
       "\n",
       "    .dataframe thead th {\n",
       "        text-align: right;\n",
       "    }\n",
       "</style>\n",
       "<table border=\"1\" class=\"dataframe\">\n",
       "  <thead>\n",
       "    <tr style=\"text-align: right;\">\n",
       "      <th></th>\n",
       "      <th>name</th>\n",
       "      <th>team_x</th>\n",
       "      <th>opp_team_name</th>\n",
       "    </tr>\n",
       "  </thead>\n",
       "  <tbody>\n",
       "    <tr>\n",
       "      <th>0</th>\n",
       "      <td>Aaron Cresswell</td>\n",
       "      <td>NaN</td>\n",
       "      <td>Chelsea</td>\n",
       "    </tr>\n",
       "    <tr>\n",
       "      <th>195</th>\n",
       "      <td>Aaron Cresswell</td>\n",
       "      <td>NaN</td>\n",
       "      <td>Everton</td>\n",
       "    </tr>\n",
       "    <tr>\n",
       "      <th>413</th>\n",
       "      <td>Aaron Cresswell</td>\n",
       "      <td>NaN</td>\n",
       "      <td>Stoke</td>\n",
       "    </tr>\n",
       "    <tr>\n",
       "      <th>631</th>\n",
       "      <td>Aaron Cresswell</td>\n",
       "      <td>NaN</td>\n",
       "      <td>Spurs</td>\n",
       "    </tr>\n",
       "    <tr>\n",
       "      <th>849</th>\n",
       "      <td>Aaron Cresswell</td>\n",
       "      <td>NaN</td>\n",
       "      <td>Man Utd</td>\n",
       "    </tr>\n",
       "    <tr>\n",
       "      <th>...</th>\n",
       "      <td>...</td>\n",
       "      <td>...</td>\n",
       "      <td>...</td>\n",
       "    </tr>\n",
       "    <tr>\n",
       "      <th>92620</th>\n",
       "      <td>Aaron Cresswell</td>\n",
       "      <td>West Ham</td>\n",
       "      <td>Man City</td>\n",
       "    </tr>\n",
       "    <tr>\n",
       "      <th>93438</th>\n",
       "      <td>Aaron Cresswell</td>\n",
       "      <td>West Ham</td>\n",
       "      <td>Man Utd</td>\n",
       "    </tr>\n",
       "    <tr>\n",
       "      <th>94253</th>\n",
       "      <td>Aaron Cresswell</td>\n",
       "      <td>West Ham</td>\n",
       "      <td>Brentford</td>\n",
       "    </tr>\n",
       "    <tr>\n",
       "      <th>95160</th>\n",
       "      <td>Aaron Cresswell</td>\n",
       "      <td>West Ham</td>\n",
       "      <td>Leeds</td>\n",
       "    </tr>\n",
       "    <tr>\n",
       "      <th>95980</th>\n",
       "      <td>Aaron Cresswell</td>\n",
       "      <td>West Ham</td>\n",
       "      <td>Leicester</td>\n",
       "    </tr>\n",
       "  </tbody>\n",
       "</table>\n",
       "<p>190 rows × 3 columns</p>\n",
       "</div>"
      ],
      "text/plain": [
       "                  name    team_x opp_team_name\n",
       "0      Aaron Cresswell       NaN       Chelsea\n",
       "195    Aaron Cresswell       NaN       Everton\n",
       "413    Aaron Cresswell       NaN         Stoke\n",
       "631    Aaron Cresswell       NaN         Spurs\n",
       "849    Aaron Cresswell       NaN       Man Utd\n",
       "...                ...       ...           ...\n",
       "92620  Aaron Cresswell  West Ham      Man City\n",
       "93438  Aaron Cresswell  West Ham       Man Utd\n",
       "94253  Aaron Cresswell  West Ham     Brentford\n",
       "95160  Aaron Cresswell  West Ham         Leeds\n",
       "95980  Aaron Cresswell  West Ham     Leicester\n",
       "\n",
       "[190 rows x 3 columns]"
      ]
     },
<<<<<<< HEAD
     "execution_count": 170,
=======
     "execution_count": 30,
>>>>>>> main
     "metadata": {},
     "output_type": "execute_result"
    }
   ],
   "source": [
    "df_merged[['name','team_x','opponent_team','opp_team_name', 'team_a_score','team_h_score', 'was_home', 'GW', 'fixture' ]].head(20)\n",
    "df_merged.loc[df_merged['name'] == 'Aaron Cresswell', ['name','team_x', 'opp_team_name']]\n"
   ]
  },
  {
   "cell_type": "code",
<<<<<<< HEAD
   "execution_count": 171,
=======
   "execution_count": 31,
>>>>>>> main
   "metadata": {},
   "outputs": [],
   "source": [
    "\n",
    "\n",
    "df_filled = df_merged.groupby('name')['team_x'].transform(lambda x: x.fillna(x.mode()[0]))\n"
   ]
  },
  {
   "cell_type": "code",
<<<<<<< HEAD
   "execution_count": 172,
=======
   "execution_count": 32,
>>>>>>> main
   "metadata": {},
   "outputs": [],
   "source": [
    "df_merged_new = df_merged\n",
    "df_merged_new['team_x'] = df_filled"
   ]
  },
  {
   "cell_type": "code",
<<<<<<< HEAD
   "execution_count": 173,
=======
   "execution_count": 33,
>>>>>>> main
   "metadata": {},
   "outputs": [
    {
     "data": {
      "text/plain": [
       "<bound method NDFrame.head of       season_x                      name position       team_x  assists  \\\n",
       "0      2016-17           Aaron Cresswell      DEF     West Ham        0   \n",
       "1      2016-17              Aaron Lennon      MID      Burnley        0   \n",
       "2      2016-17              Aaron Ramsey      MID  Aston Villa        0   \n",
       "3      2016-17       Abdoulaye DoucourÃ©      MID      Everton        0   \n",
       "4      2016-17              Adam Forshaw      MID        Leeds        0   \n",
       "...        ...                       ...      ...          ...      ...   \n",
       "96164  2022-23              Oliver Skipp      MID        Spurs        0   \n",
       "96165  2022-23            Ryan Sessegnon      DEF        Spurs        0   \n",
       "96166  2022-23              Ashley Young      DEF  Aston Villa        0   \n",
       "96167  2022-23  Jeremy Sarmiento Morante      MID     Brighton        0   \n",
       "96168  2022-23            Philip Billing      MID  Bournemouth        0   \n",
       "\n",
       "       bonus  bps  clean_sheets  creativity  element  ...  team_h_score  \\\n",
       "0          0    0             0         0.0      454  ...           2.0   \n",
       "1          0    6             0         0.3      142  ...           1.0   \n",
       "2          0    5             0         4.9       16  ...           3.0   \n",
       "3          0    0             0         0.0      482  ...           1.0   \n",
       "4          0    3             0         1.3      286  ...           1.0   \n",
       "...      ...  ...           ...         ...      ...  ...           ...   \n",
       "96164      0   16             0         0.0      441  ...           1.0   \n",
       "96165      0    0             0         0.0      436  ...           1.0   \n",
       "96166      0    0             0         0.0      538  ...           2.0   \n",
       "96167      0    0             0         0.0      119  ...           2.0   \n",
       "96168      0   15             0         0.0       70  ...           1.0   \n",
       "\n",
       "       threat  total_points  transfers_balance  transfers_in transfers_out  \\\n",
       "0         0.0             0                  0             0             0   \n",
       "1         0.0             1                  0             0             0   \n",
       "2        23.0             2                  0             0             0   \n",
       "3         0.0             0                  0             0             0   \n",
       "4         0.0             1                  0             0             0   \n",
       "...       ...           ...                ...           ...           ...   \n",
       "96164     0.0             2                100           742           642   \n",
       "96165     0.0             0               -166            24           190   \n",
       "96166     0.0             0              -1146          1522          2668   \n",
       "96167     0.0             0                -17            22            39   \n",
       "96168     0.0             2             -18361           736         19097   \n",
       "\n",
       "       value  was_home yellow_cards  GW  \n",
       "0         55     False            0   1  \n",
       "1         60      True            0   1  \n",
       "2         80      True            0   1  \n",
       "3         50     False            0   1  \n",
       "4         45      True            1   1  \n",
       "...      ...       ...          ...  ..  \n",
       "96164     43     False            0  38  \n",
       "96165     44     False            0  38  \n",
       "96166     43      True            0  38  \n",
       "96167     45     False            0  38  \n",
       "96168     50     False            0  38  \n",
       "\n",
       "[96169 rows x 37 columns]>"
      ]
     },
<<<<<<< HEAD
     "execution_count": 173,
=======
     "execution_count": 33,
>>>>>>> main
     "metadata": {},
     "output_type": "execute_result"
    }
   ],
   "source": [
    "df_merged_new.head\n"
   ]
  },
  {
   "cell_type": "code",
<<<<<<< HEAD
   "execution_count": 174,
=======
   "execution_count": 34,
>>>>>>> main
   "metadata": {},
   "outputs": [
    {
     "data": {
      "text/plain": [
       "Index(['season_x', 'name', 'position', 'team_x', 'assists', 'bonus', 'bps',\n",
       "       'clean_sheets', 'creativity', 'element', 'fixture', 'goals_conceded',\n",
       "       'goals_scored', 'ict_index', 'influence', 'kickoff_time', 'minutes',\n",
       "       'opponent_team', 'opp_team_name', 'own_goals', 'penalties_missed',\n",
       "       'penalties_saved', 'red_cards', 'round', 'saves', 'selected',\n",
       "       'team_a_score', 'team_h_score', 'threat', 'total_points',\n",
       "       'transfers_balance', 'transfers_in', 'transfers_out', 'value',\n",
       "       'was_home', 'yellow_cards', 'GW'],\n",
       "      dtype='object')"
      ]
     },
<<<<<<< HEAD
     "execution_count": 174,
=======
     "execution_count": 34,
>>>>>>> main
     "metadata": {},
     "output_type": "execute_result"
    }
   ],
   "source": [
    "df_merged_new.columns"
   ]
  },
  {
   "cell_type": "code",
<<<<<<< HEAD
   "execution_count": 175,
=======
   "execution_count": 35,
>>>>>>> main
   "metadata": {},
   "outputs": [],
   "source": [
    "# Creating the new field for home win, away win or draw \n",
    "# Defining conditions for each outcome\n",
    "conditions = [\n",
    "    (df_merged_new['team_a_score'] < df_merged_new['team_h_score']),  # Home Win\n",
    "    (df_merged_new['team_a_score'] > df_merged_new['team_h_score']),  # Away Win\n",
    "    (df_merged_new['team_a_score'] == df_merged_new['team_h_score']), # Draw\n",
    "    # Add an additional condition to cover all cases\n",
    "    (~df_merged_new['team_a_score'].isna()) & (~df_merged_new['team_h_score'].isna())  # Missing data\n",
    "]\n",
    "\n",
    "# Define corresponding values for each condition\n",
    "values = ['Home Win', 'Away Win', 'Draw', 'Unknown']\n",
    "\n",
    "# Use np.select() to create the new column based on conditions\n",
    "df_merged_new['result'] = np.select(conditions, values, default='Unknown')"
   ]
  },
  {
   "cell_type": "code",
<<<<<<< HEAD
   "execution_count": 176,
=======
   "execution_count": 36,
>>>>>>> main
   "metadata": {},
   "outputs": [
    {
     "data": {
      "text/plain": [
       "Index(['season_x', 'name', 'position', 'team_x', 'assists', 'bonus', 'bps',\n",
       "       'clean_sheets', 'creativity', 'element', 'fixture', 'goals_conceded',\n",
       "       'goals_scored', 'ict_index', 'influence', 'kickoff_time', 'minutes',\n",
       "       'opponent_team', 'opp_team_name', 'own_goals', 'penalties_missed',\n",
       "       'penalties_saved', 'red_cards', 'round', 'saves', 'selected',\n",
       "       'team_a_score', 'team_h_score', 'threat', 'total_points',\n",
       "       'transfers_balance', 'transfers_in', 'transfers_out', 'value',\n",
       "       'was_home', 'yellow_cards', 'GW', 'result'],\n",
       "      dtype='object')"
      ]
     },
<<<<<<< HEAD
     "execution_count": 176,
=======
     "execution_count": 36,
>>>>>>> main
     "metadata": {},
     "output_type": "execute_result"
    }
   ],
   "source": [
    "df_merged_new.head(5)\n",
    "df_merged_new.columns"
   ]
  },
  {
   "cell_type": "code",
<<<<<<< HEAD
   "execution_count": 177,
   "metadata": {},
   "outputs": [],
=======
   "execution_count": 37,
   "metadata": {},
   "outputs": [
    {
     "name": "stdout",
     "output_type": "stream",
     "text": [
      "     season_x   team_x   opp_team_name  assists  bonus  bps  clean_sheets  \\\n",
      "0     2016-17  Arsenal         Arsenal        0      0   23             0   \n",
      "1     2016-17  Arsenal     Bournemouth        1      1   28             1   \n",
      "2     2016-17  Arsenal         Burnley        1      3   40             1   \n",
      "3     2016-17  Arsenal         Chelsea        1      2   38             1   \n",
      "4     2016-17  Arsenal  Crystal Palace        1      2   36             1   \n",
      "...       ...      ...             ...      ...    ...  ...           ...   \n",
      "2111  2022-23   Wolves       Newcastle        1      3   35             1   \n",
      "2112  2022-23   Wolves   Nott'm Forest        1      3   39             1   \n",
      "2113  2022-23   Wolves     Southampton        1      3   28             1   \n",
      "2114  2022-23   Wolves           Spurs        1      3   33             1   \n",
      "2115  2022-23   Wolves        West Ham        0      3   30             1   \n",
      "\n",
      "      creativity  element  fixture  ...  threat  total_points  \\\n",
      "0           50.0      570      324  ...     6.0             2   \n",
      "1           42.6      593      332  ...    34.0             6   \n",
      "2           67.6      593      315  ...    57.0            11   \n",
      "3           50.0      593      354  ...    32.0            11   \n",
      "4           53.0      660      312  ...    34.0             8   \n",
      "...          ...      ...      ...  ...     ...           ...   \n",
      "2111        25.2      721      268  ...    37.0            10   \n",
      "2112        39.3      721      289  ...    38.0            14   \n",
      "2113        43.9      721      229  ...    28.0            11   \n",
      "2114        51.8      721      260  ...    41.0            11   \n",
      "2115        35.9      698      200  ...    36.0            10   \n",
      "\n",
      "      transfers_balance  transfers_in transfers_out  value  was_home  \\\n",
      "0                 16648         20980         44601     74      True   \n",
      "1                 17484         20826        114650     96      True   \n",
      "2                 50025         63674        123416     95      True   \n",
      "3                  5524         16276         69489     95      True   \n",
      "4                 34784         35614         27020     96      True   \n",
      "...                 ...           ...           ...    ...       ...   \n",
      "2111              21558         53958        339073     69      True   \n",
      "2112              99497        111628         58981     68      True   \n",
      "2113              83648         89460        115499     69      True   \n",
      "2114              31032         58999        316204     69      True   \n",
      "2115              42544         68428         64604     69      True   \n",
      "\n",
      "      yellow_cards  GW    result  \n",
      "0                0  36  Home Win  \n",
      "1                1  34  Home Win  \n",
      "2                1  32  Home Win  \n",
      "3                1  36  Home Win  \n",
      "4                1  32  Home Win  \n",
      "...            ...  ..       ...  \n",
      "2111             1  27  Home Win  \n",
      "2112             1  29  Home Win  \n",
      "2113             1  23  Home Win  \n",
      "2114             1  26  Home Win  \n",
      "2115             1  20  Home Win  \n",
      "\n",
      "[2116 rows x 36 columns]\n"
     ]
    }
   ],
>>>>>>> main
   "source": [
    "import pandas as pd\n",
    "\n",
    "# Assuming df is your DataFrame\n",
    "# Drop the 'name' column\n",
    "df = df_merged_new.drop(columns=['name'])\n",
    "\n",
    "# Define aggregation functions for each column\n",
    "agg_funcs = {'assists': 'max',\n",
    "             'bonus': 'max',\n",
    "             'bps': 'max',\n",
    "             'clean_sheets': 'max',\n",
    "             'creativity': 'max',\n",
    "             'element': 'max',\n",
    "             'fixture': 'max',\n",
    "             'goals_conceded': 'max',\n",
    "             'goals_scored': 'max',\n",
    "             'ict_index': 'max',\n",
    "             'influence': 'max',\n",
    "             'kickoff_time': 'max',\n",
    "             'minutes': 'max',\n",
    "             'opponent_team': 'max',\n",
    "             'own_goals': 'max',\n",
    "             'penalties_missed': 'max',\n",
    "             'penalties_saved': 'max',\n",
    "             'red_cards': 'max',\n",
    "             'round': 'max',\n",
    "             'saves': 'max',\n",
    "             'selected': 'max',\n",
    "             'team_a_score': 'max',\n",
    "             'team_h_score': 'max',\n",
    "             'threat': 'max',\n",
    "             'total_points': 'max',\n",
    "             'transfers_balance': 'max',\n",
    "             'transfers_in': 'max',\n",
    "             'transfers_out': 'max',\n",
    "             'value': 'max',\n",
    "             'was_home': 'max',\n",
    "             'yellow_cards': 'max',\n",
    "             'GW': 'max',\n",
    "             'result': 'max'}\n",
<<<<<<< HEAD
=======
    "\n",
    "# Group the DataFrame by 'season_x', 'team_x', and 'opp_team_name' and aggregate using defined aggregation functions\n",
    "df_grouped = df.groupby(['season_x', 'team_x', 'opp_team_name']).agg(agg_funcs).reset_index()\n",
    "\n",
    "# Print the grouped DataFrame\n",
>>>>>>> main
    "\n"
   ]
  },
  {
   "cell_type": "code",
<<<<<<< HEAD
   "execution_count": 178,
   "metadata": {},
   "outputs": [
    {
     "name": "stdout",
     "output_type": "stream",
     "text": [
      "<class 'pandas.core.frame.DataFrame'>\n",
      "RangeIndex: 96169 entries, 0 to 96168\n",
      "Data columns (total 37 columns):\n",
      " #   Column             Non-Null Count  Dtype   \n",
      "---  ------             --------------  -----   \n",
      " 0   season_x           96169 non-null  category\n",
      " 1   position           96169 non-null  category\n",
      " 2   team_x             96169 non-null  category\n",
      " 3   assists            96169 non-null  int64   \n",
      " 4   bonus              96169 non-null  int64   \n",
      " 5   bps                96169 non-null  int64   \n",
      " 6   clean_sheets       96169 non-null  int64   \n",
      " 7   creativity         96169 non-null  float64 \n",
      " 8   element            96169 non-null  int64   \n",
      " 9   fixture            96169 non-null  int64   \n",
      " 10  goals_conceded     96169 non-null  int64   \n",
      " 11  goals_scored       96169 non-null  int64   \n",
      " 12  ict_index          96169 non-null  float64 \n",
      " 13  influence          96169 non-null  float64 \n",
      " 14  kickoff_time       96169 non-null  category\n",
      " 15  minutes            96169 non-null  int64   \n",
      " 16  opponent_team      96169 non-null  int64   \n",
      " 17  opp_team_name      96169 non-null  category\n",
      " 18  own_goals          96169 non-null  int64   \n",
      " 19  penalties_missed   96169 non-null  int64   \n",
      " 20  penalties_saved    96169 non-null  int64   \n",
      " 21  red_cards          96169 non-null  int64   \n",
      " 22  round              96169 non-null  int64   \n",
      " 23  saves              96169 non-null  int64   \n",
      " 24  selected           96169 non-null  int64   \n",
      " 25  team_a_score       96169 non-null  float64 \n",
      " 26  team_h_score       96169 non-null  float64 \n",
      " 27  threat             96169 non-null  float64 \n",
      " 28  total_points       96169 non-null  int64   \n",
      " 29  transfers_balance  96169 non-null  int64   \n",
      " 30  transfers_in       96169 non-null  int64   \n",
      " 31  transfers_out      96169 non-null  int64   \n",
      " 32  value              96169 non-null  int64   \n",
      " 33  was_home           96169 non-null  category\n",
      " 34  yellow_cards       96169 non-null  int64   \n",
      " 35  GW                 96169 non-null  int64   \n",
      " 36  result             96169 non-null  object  \n",
      "dtypes: category(6), float64(6), int64(24), object(1)\n",
      "memory usage: 23.4+ MB\n"
     ]
    }
   ],
   "source": [
    "\n",
    "# Remove hyphen from 'season_x' column\n",
    "df['season_x'] = df['season_x'].str.replace('-', '')\n",
    "\n",
    "# Convert 'season_x' column to categorical type\n",
    "# Convert columns to categorical\n",
    "columns_to_convert = ['season_x','position', 'team_x','opp_team_name','was_home','kickoff_time']\n",
    "df[columns_to_convert] = df[columns_to_convert].astype('category')\n",
    "\n",
    "# Convert categorical columns to ordered categorical\n",
    "categorical_columns = df.select_dtypes(include=['category']).columns\n",
    "for col in categorical_columns:\n",
    "    df[col] = pd.Categorical(df[col], ordered=True)\n",
    "\n",
    "\n",
    "# List of columns to one-hot encode\n",
    "columns_to_encode = ['season_x', 'position', 'team_x','opp_team_name','kickoff_time']\n",
    "\n",
    "# Perform one-hot encoding\n",
    "df_encoded = pd.get_dummies(df, columns=columns_to_encode)\n",
    "\n",
    "# Drop any remaining non-numeric columns\n",
    "# You might want to adjust this depending on your specific data\n",
    "df_encoded = df_encoded.select_dtypes(include=['number', 'bool'])\n",
    "\n",
    "df.info()"
   ]
  },
  {
   "cell_type": "code",
   "execution_count": 179,
   "metadata": {},
   "outputs": [],
   "source": [
    "\n",
    "# Group the DataFrame by 'season_x', 'team_x', and 'opp_team_name' and aggregate using defined aggregation functions\n",
    "df_grouped = df.groupby(['season_x', 'team_x', 'opp_team_name']).agg(agg_funcs).reset_index()\n",
    "\n",
    "# Print the grouped DataFrame"
   ]
  },
  {
   "cell_type": "code",
   "execution_count": 180,
   "metadata": {},
   "outputs": [
    {
     "data": {
      "text/html": [
       "<div>\n",
       "<style scoped>\n",
       "    .dataframe tbody tr th:only-of-type {\n",
       "        vertical-align: middle;\n",
       "    }\n",
       "\n",
       "    .dataframe tbody tr th {\n",
       "        vertical-align: top;\n",
       "    }\n",
       "\n",
       "    .dataframe thead th {\n",
       "        text-align: right;\n",
       "    }\n",
       "</style>\n",
       "<table border=\"1\" class=\"dataframe\">\n",
       "  <thead>\n",
       "    <tr style=\"text-align: right;\">\n",
       "      <th></th>\n",
       "      <th>season_x</th>\n",
       "      <th>position</th>\n",
       "      <th>team_x</th>\n",
       "      <th>assists</th>\n",
       "      <th>bonus</th>\n",
       "      <th>bps</th>\n",
       "      <th>clean_sheets</th>\n",
       "      <th>creativity</th>\n",
       "      <th>element</th>\n",
       "      <th>fixture</th>\n",
       "      <th>...</th>\n",
       "      <th>threat</th>\n",
       "      <th>total_points</th>\n",
       "      <th>transfers_balance</th>\n",
       "      <th>transfers_in</th>\n",
       "      <th>transfers_out</th>\n",
       "      <th>value</th>\n",
       "      <th>was_home</th>\n",
       "      <th>yellow_cards</th>\n",
       "      <th>GW</th>\n",
       "      <th>result</th>\n",
       "    </tr>\n",
       "  </thead>\n",
       "  <tbody>\n",
       "    <tr>\n",
       "      <th>0</th>\n",
       "      <td>201617</td>\n",
       "      <td>DEF</td>\n",
       "      <td>West Ham</td>\n",
       "      <td>0</td>\n",
       "      <td>0</td>\n",
       "      <td>0</td>\n",
       "      <td>0</td>\n",
       "      <td>0.0</td>\n",
       "      <td>454</td>\n",
       "      <td>10</td>\n",
       "      <td>...</td>\n",
       "      <td>0.0</td>\n",
       "      <td>0</td>\n",
       "      <td>0</td>\n",
       "      <td>0</td>\n",
       "      <td>0</td>\n",
       "      <td>55</td>\n",
       "      <td>False</td>\n",
       "      <td>0</td>\n",
       "      <td>1</td>\n",
       "      <td>Home Win</td>\n",
       "    </tr>\n",
       "    <tr>\n",
       "      <th>1</th>\n",
       "      <td>201617</td>\n",
       "      <td>MID</td>\n",
       "      <td>Burnley</td>\n",
       "      <td>0</td>\n",
       "      <td>0</td>\n",
       "      <td>6</td>\n",
       "      <td>0</td>\n",
       "      <td>0.3</td>\n",
       "      <td>142</td>\n",
       "      <td>3</td>\n",
       "      <td>...</td>\n",
       "      <td>0.0</td>\n",
       "      <td>1</td>\n",
       "      <td>0</td>\n",
       "      <td>0</td>\n",
       "      <td>0</td>\n",
       "      <td>60</td>\n",
       "      <td>True</td>\n",
       "      <td>0</td>\n",
       "      <td>1</td>\n",
       "      <td>Draw</td>\n",
       "    </tr>\n",
       "    <tr>\n",
       "      <th>2</th>\n",
       "      <td>201617</td>\n",
       "      <td>MID</td>\n",
       "      <td>Aston Villa</td>\n",
       "      <td>0</td>\n",
       "      <td>0</td>\n",
       "      <td>5</td>\n",
       "      <td>0</td>\n",
       "      <td>4.9</td>\n",
       "      <td>16</td>\n",
       "      <td>8</td>\n",
       "      <td>...</td>\n",
       "      <td>23.0</td>\n",
       "      <td>2</td>\n",
       "      <td>0</td>\n",
       "      <td>0</td>\n",
       "      <td>0</td>\n",
       "      <td>80</td>\n",
       "      <td>True</td>\n",
       "      <td>0</td>\n",
       "      <td>1</td>\n",
       "      <td>Away Win</td>\n",
       "    </tr>\n",
       "    <tr>\n",
       "      <th>3</th>\n",
       "      <td>201617</td>\n",
       "      <td>MID</td>\n",
       "      <td>Everton</td>\n",
       "      <td>0</td>\n",
       "      <td>0</td>\n",
       "      <td>0</td>\n",
       "      <td>0</td>\n",
       "      <td>0.0</td>\n",
       "      <td>482</td>\n",
       "      <td>7</td>\n",
       "      <td>...</td>\n",
       "      <td>0.0</td>\n",
       "      <td>0</td>\n",
       "      <td>0</td>\n",
       "      <td>0</td>\n",
       "      <td>0</td>\n",
       "      <td>50</td>\n",
       "      <td>False</td>\n",
       "      <td>0</td>\n",
       "      <td>1</td>\n",
       "      <td>Draw</td>\n",
       "    </tr>\n",
       "    <tr>\n",
       "      <th>4</th>\n",
       "      <td>201617</td>\n",
       "      <td>MID</td>\n",
       "      <td>Leeds</td>\n",
       "      <td>0</td>\n",
       "      <td>0</td>\n",
       "      <td>3</td>\n",
       "      <td>0</td>\n",
       "      <td>1.3</td>\n",
       "      <td>286</td>\n",
       "      <td>6</td>\n",
       "      <td>...</td>\n",
       "      <td>0.0</td>\n",
       "      <td>1</td>\n",
       "      <td>0</td>\n",
       "      <td>0</td>\n",
       "      <td>0</td>\n",
       "      <td>45</td>\n",
       "      <td>True</td>\n",
       "      <td>1</td>\n",
       "      <td>1</td>\n",
       "      <td>Draw</td>\n",
       "    </tr>\n",
       "  </tbody>\n",
       "</table>\n",
       "<p>5 rows × 37 columns</p>\n",
       "</div>"
      ],
      "text/plain": [
       "  season_x position       team_x  assists  bonus  bps  clean_sheets  \\\n",
       "0   201617      DEF     West Ham        0      0    0             0   \n",
       "1   201617      MID      Burnley        0      0    6             0   \n",
       "2   201617      MID  Aston Villa        0      0    5             0   \n",
       "3   201617      MID      Everton        0      0    0             0   \n",
       "4   201617      MID        Leeds        0      0    3             0   \n",
       "\n",
       "   creativity  element  fixture  ...  threat  total_points  transfers_balance  \\\n",
       "0         0.0      454       10  ...     0.0             0                  0   \n",
       "1         0.3      142        3  ...     0.0             1                  0   \n",
       "2         4.9       16        8  ...    23.0             2                  0   \n",
       "3         0.0      482        7  ...     0.0             0                  0   \n",
       "4         1.3      286        6  ...     0.0             1                  0   \n",
       "\n",
       "   transfers_in transfers_out  value  was_home yellow_cards  GW    result  \n",
       "0             0             0     55     False            0   1  Home Win  \n",
       "1             0             0     60      True            0   1      Draw  \n",
       "2             0             0     80      True            0   1  Away Win  \n",
       "3             0             0     50     False            0   1      Draw  \n",
       "4             0             0     45      True            1   1      Draw  \n",
       "\n",
       "[5 rows x 37 columns]"
      ]
     },
     "execution_count": 180,
     "metadata": {},
     "output_type": "execute_result"
    }
   ],
   "source": [
    "df.head()"
   ]
  },
  {
   "cell_type": "code",
   "execution_count": 181,
=======
   "execution_count": 38,
>>>>>>> main
   "metadata": {},
   "outputs": [
    {
     "data": {
      "text/plain": [
       "Index(['season_x', 'team_x', 'opp_team_name', 'assists', 'bonus', 'bps',\n",
       "       'clean_sheets', 'creativity', 'element', 'fixture', 'goals_conceded',\n",
       "       'goals_scored', 'ict_index', 'influence', 'kickoff_time', 'minutes',\n",
       "       'opponent_team', 'own_goals', 'penalties_missed', 'penalties_saved',\n",
       "       'red_cards', 'round', 'saves', 'selected', 'team_a_score',\n",
       "       'team_h_score', 'threat', 'total_points', 'transfers_balance',\n",
       "       'transfers_in', 'transfers_out', 'value', 'was_home', 'yellow_cards',\n",
       "       'GW', 'result'],\n",
       "      dtype='object')"
      ]
     },
<<<<<<< HEAD
     "execution_count": 181,
=======
     "execution_count": 38,
>>>>>>> main
     "metadata": {},
     "output_type": "execute_result"
    }
   ],
   "source": [
<<<<<<< HEAD
    "df_grouped.columns"
=======
    "df_grouped.columns\n"
>>>>>>> main
   ]
  },
  {
   "cell_type": "code",
<<<<<<< HEAD
   "execution_count": 182,
=======
   "execution_count": 39,
>>>>>>> main
   "metadata": {},
   "outputs": [],
   "source": [
    "df_x_lable = df_grouped.drop(columns='result')\n",
    "df_y_lable = df_grouped['result']"
   ]
  },
  {
   "cell_type": "code",
<<<<<<< HEAD
   "execution_count": 183,
   "metadata": {},
   "outputs": [],
   "source": [
    "X = df_x_lable\n",
    "y = df_y_lable"
   ]
  },
  {
   "cell_type": "code",
   "execution_count": 184,
=======
   "execution_count": 40,
>>>>>>> main
   "metadata": {},
   "outputs": [
    {
     "data": {
      "text/plain": [
       "Index(['season_x', 'team_x', 'opp_team_name', 'assists', 'bonus', 'bps',\n",
       "       'clean_sheets', 'creativity', 'element', 'fixture', 'goals_conceded',\n",
       "       'goals_scored', 'ict_index', 'influence', 'kickoff_time', 'minutes',\n",
       "       'opponent_team', 'own_goals', 'penalties_missed', 'penalties_saved',\n",
       "       'red_cards', 'round', 'saves', 'selected', 'team_a_score',\n",
       "       'team_h_score', 'threat', 'total_points', 'transfers_balance',\n",
       "       'transfers_in', 'transfers_out', 'value', 'was_home', 'yellow_cards',\n",
       "       'GW'],\n",
       "      dtype='object')"
      ]
     },
<<<<<<< HEAD
     "execution_count": 184,
=======
     "execution_count": 40,
>>>>>>> main
     "metadata": {},
     "output_type": "execute_result"
    }
   ],
   "source": [
<<<<<<< HEAD
    "X.columns"
=======
    "df_x_lable.columns"
>>>>>>> main
   ]
  },
  {
   "cell_type": "code",
<<<<<<< HEAD
   "execution_count": 185,
=======
   "execution_count": 41,
>>>>>>> main
   "metadata": {},
   "outputs": [
    {
     "data": {
      "text/plain": [
       "0       Home Win\n",
<<<<<<< HEAD
       "1            NaN\n",
       "2       Home Win\n",
       "3            NaN\n",
       "4            NaN\n",
       "          ...   \n",
       "3870         NaN\n",
       "3871         NaN\n",
       "3872         NaN\n",
       "3873    Home Win\n",
       "3874         NaN\n",
       "Name: result, Length: 3875, dtype: object"
      ]
     },
     "execution_count": 185,
=======
       "1       Home Win\n",
       "2       Home Win\n",
       "3       Home Win\n",
       "4       Home Win\n",
       "          ...   \n",
       "2111    Home Win\n",
       "2112    Home Win\n",
       "2113    Home Win\n",
       "2114    Home Win\n",
       "2115    Home Win\n",
       "Name: result, Length: 2116, dtype: object"
      ]
     },
     "execution_count": 41,
>>>>>>> main
     "metadata": {},
     "output_type": "execute_result"
    }
   ],
   "source": [
<<<<<<< HEAD
    "y"
   ]
  },
  {
   "cell_type": "code",
   "execution_count": 186,
   "metadata": {},
   "outputs": [],
   "source": [
    "#Splitting the dataset into training and testing dataset\n",
    "from sklearn.model_selection import train_test_split\n",
    "#Splitting dataset\n",
    "X_train, X_test, y_train, y_test = train_test_split(X,y, test_size = 0.20)"
   ]
  },
  {
   "cell_type": "code",
   "execution_count": 187,
   "metadata": {},
   "outputs": [
    {
     "name": "stdout",
     "output_type": "stream",
     "text": [
      "(3100, 35) (775, 35) (3100,) (775,)\n"
     ]
    }
   ],
   "source": [
    "print(X_train.shape,X_test.shape,y_train.shape,y_test.shape)"
   ]
  },
  {
   "cell_type": "code",
   "execution_count": 188,
   "metadata": {},
   "outputs": [],
   "source": [
    "#Random forest model\n",
    "from sklearn.ensemble import RandomForestRegressor"
   ]
  },
  {
   "cell_type": "code",
   "execution_count": 189,
   "metadata": {},
   "outputs": [
    {
     "data": {
      "text/plain": [
       "opp_team_name\n",
       "Arsenal           125\n",
       "Man Utd           125\n",
       "West Ham          125\n",
       "West Brom         125\n",
       "Watford           125\n",
       "Swansea           125\n",
       "Sunderland        125\n",
       "Stoke             125\n",
       "Spurs             125\n",
       "Southampton       125\n",
       "Sheffield Utd     125\n",
       "Nott'm Forest     125\n",
       "Norwich           125\n",
       "Newcastle         125\n",
       "Middlesbrough     125\n",
       "Man City          125\n",
       "Aston Villa       125\n",
       "Liverpool         125\n",
       "Leicester         125\n",
       "Leeds             125\n",
       "Hull              125\n",
       "Huddersfield      125\n",
       "Fulham            125\n",
       "Everton           125\n",
       "Crystal Palace    125\n",
       "Chelsea           125\n",
       "Burnley           125\n",
       "Brighton          125\n",
       "Brentford         125\n",
       "Bournemouth       125\n",
       "Wolves            125\n",
       "Name: count, dtype: int64"
      ]
     },
     "execution_count": 189,
     "metadata": {},
     "output_type": "execute_result"
    }
   ],
   "source": [
    "X[\"opp_team_name\"].value_counts()"
   ]
  },
  {
   "cell_type": "code",
   "execution_count": 190,
   "metadata": {},
   "outputs": [],
   "source": [
    "model = RandomForestRegressor(n_estimators = 30,random_state = 30)"
   ]
  },
  {
   "cell_type": "code",
   "execution_count": 191,
   "metadata": {},
   "outputs": [
    {
     "name": "stdout",
     "output_type": "stream",
     "text": [
      "<class 'pandas.core.frame.DataFrame'>\n",
      "Index: 3100 entries, 1427 to 751\n",
      "Data columns (total 35 columns):\n",
      " #   Column             Non-Null Count  Dtype   \n",
      "---  ------             --------------  -----   \n",
      " 0   season_x           3100 non-null   category\n",
      " 1   team_x             3100 non-null   category\n",
      " 2   opp_team_name      3100 non-null   category\n",
      " 3   assists            1700 non-null   float64 \n",
      " 4   bonus              1700 non-null   float64 \n",
      " 5   bps                1700 non-null   float64 \n",
      " 6   clean_sheets       1700 non-null   float64 \n",
      " 7   creativity         1700 non-null   float64 \n",
      " 8   element            1700 non-null   float64 \n",
      " 9   fixture            1700 non-null   float64 \n",
      " 10  goals_conceded     1700 non-null   float64 \n",
      " 11  goals_scored       1700 non-null   float64 \n",
      " 12  ict_index          1700 non-null   float64 \n",
      " 13  influence          1700 non-null   float64 \n",
      " 14  kickoff_time       1700 non-null   category\n",
      " 15  minutes            1700 non-null   float64 \n",
      " 16  opponent_team      1700 non-null   float64 \n",
      " 17  own_goals          1700 non-null   float64 \n",
      " 18  penalties_missed   1700 non-null   float64 \n",
      " 19  penalties_saved    1700 non-null   float64 \n",
      " 20  red_cards          1700 non-null   float64 \n",
      " 21  round              1700 non-null   float64 \n",
      " 22  saves              1700 non-null   float64 \n",
      " 23  selected           1700 non-null   float64 \n",
      " 24  team_a_score       1700 non-null   float64 \n",
      " 25  team_h_score       1700 non-null   float64 \n",
      " 26  threat             1700 non-null   float64 \n",
      " 27  total_points       1700 non-null   float64 \n",
      " 28  transfers_balance  1700 non-null   float64 \n",
      " 29  transfers_in       1700 non-null   float64 \n",
      " 30  transfers_out      1700 non-null   float64 \n",
      " 31  value              1700 non-null   float64 \n",
      " 32  was_home           1700 non-null   category\n",
      " 33  yellow_cards       1700 non-null   float64 \n",
      " 34  GW                 1700 non-null   float64 \n",
      "dtypes: category(5), float64(30)\n",
      "memory usage: 813.1 KB\n"
     ]
    }
   ],
   "source": [
    "X_train.info()"
   ]
  },
  {
   "cell_type": "code",
   "execution_count": 192,
   "metadata": {},
   "outputs": [
    {
     "ename": "ValueError",
     "evalue": "Cannot cast object dtype to float32",
     "output_type": "error",
     "traceback": [
      "\u001b[1;31m---------------------------------------------------------------------------\u001b[0m",
      "\u001b[1;31mValueError\u001b[0m                                Traceback (most recent call last)",
      "File \u001b[1;32m~\\anaconda3\\Lib\\site-packages\\pandas\\core\\arrays\\categorical.py:533\u001b[0m, in \u001b[0;36mCategorical.astype\u001b[1;34m(self, dtype, copy)\u001b[0m\n\u001b[0;32m    532\u001b[0m \u001b[38;5;28;01mtry\u001b[39;00m:\n\u001b[1;32m--> 533\u001b[0m     new_cats \u001b[38;5;241m=\u001b[39m new_cats\u001b[38;5;241m.\u001b[39mastype(dtype\u001b[38;5;241m=\u001b[39mdtype, copy\u001b[38;5;241m=\u001b[39mcopy)\n\u001b[0;32m    534\u001b[0m     fill_value \u001b[38;5;241m=\u001b[39m \u001b[38;5;28mself\u001b[39m\u001b[38;5;241m.\u001b[39mcategories\u001b[38;5;241m.\u001b[39m_na_value\n",
      "\u001b[1;31mValueError\u001b[0m: could not convert string to float: 'Arsenal'",
      "\nDuring handling of the above exception, another exception occurred:\n",
      "\u001b[1;31mValueError\u001b[0m                                Traceback (most recent call last)",
      "Cell \u001b[1;32mIn[192], line 3\u001b[0m\n\u001b[0;32m      1\u001b[0m \u001b[38;5;66;03m# Split features and target variable\u001b[39;00m\n\u001b[0;32m      2\u001b[0m \u001b[38;5;66;03m# Now you can fit your model\u001b[39;00m\n\u001b[1;32m----> 3\u001b[0m LL_rf \u001b[38;5;241m=\u001b[39m model\u001b[38;5;241m.\u001b[39mfit(X, y)\n",
      "File \u001b[1;32m~\\anaconda3\\Lib\\site-packages\\sklearn\\base.py:1151\u001b[0m, in \u001b[0;36m_fit_context.<locals>.decorator.<locals>.wrapper\u001b[1;34m(estimator, *args, **kwargs)\u001b[0m\n\u001b[0;32m   1144\u001b[0m     estimator\u001b[38;5;241m.\u001b[39m_validate_params()\n\u001b[0;32m   1146\u001b[0m \u001b[38;5;28;01mwith\u001b[39;00m config_context(\n\u001b[0;32m   1147\u001b[0m     skip_parameter_validation\u001b[38;5;241m=\u001b[39m(\n\u001b[0;32m   1148\u001b[0m         prefer_skip_nested_validation \u001b[38;5;129;01mor\u001b[39;00m global_skip_validation\n\u001b[0;32m   1149\u001b[0m     )\n\u001b[0;32m   1150\u001b[0m ):\n\u001b[1;32m-> 1151\u001b[0m     \u001b[38;5;28;01mreturn\u001b[39;00m fit_method(estimator, \u001b[38;5;241m*\u001b[39margs, \u001b[38;5;241m*\u001b[39m\u001b[38;5;241m*\u001b[39mkwargs)\n",
      "File \u001b[1;32m~\\anaconda3\\Lib\\site-packages\\sklearn\\ensemble\\_forest.py:348\u001b[0m, in \u001b[0;36mBaseForest.fit\u001b[1;34m(self, X, y, sample_weight)\u001b[0m\n\u001b[0;32m    346\u001b[0m \u001b[38;5;28;01mif\u001b[39;00m issparse(y):\n\u001b[0;32m    347\u001b[0m     \u001b[38;5;28;01mraise\u001b[39;00m \u001b[38;5;167;01mValueError\u001b[39;00m(\u001b[38;5;124m\"\u001b[39m\u001b[38;5;124msparse multilabel-indicator for y is not supported.\u001b[39m\u001b[38;5;124m\"\u001b[39m)\n\u001b[1;32m--> 348\u001b[0m X, y \u001b[38;5;241m=\u001b[39m \u001b[38;5;28mself\u001b[39m\u001b[38;5;241m.\u001b[39m_validate_data(\n\u001b[0;32m    349\u001b[0m     X, y, multi_output\u001b[38;5;241m=\u001b[39m\u001b[38;5;28;01mTrue\u001b[39;00m, accept_sparse\u001b[38;5;241m=\u001b[39m\u001b[38;5;124m\"\u001b[39m\u001b[38;5;124mcsc\u001b[39m\u001b[38;5;124m\"\u001b[39m, dtype\u001b[38;5;241m=\u001b[39mDTYPE\n\u001b[0;32m    350\u001b[0m )\n\u001b[0;32m    351\u001b[0m \u001b[38;5;28;01mif\u001b[39;00m sample_weight \u001b[38;5;129;01mis\u001b[39;00m \u001b[38;5;129;01mnot\u001b[39;00m \u001b[38;5;28;01mNone\u001b[39;00m:\n\u001b[0;32m    352\u001b[0m     sample_weight \u001b[38;5;241m=\u001b[39m _check_sample_weight(sample_weight, X)\n",
      "File \u001b[1;32m~\\anaconda3\\Lib\\site-packages\\sklearn\\base.py:621\u001b[0m, in \u001b[0;36mBaseEstimator._validate_data\u001b[1;34m(self, X, y, reset, validate_separately, cast_to_ndarray, **check_params)\u001b[0m\n\u001b[0;32m    619\u001b[0m         y \u001b[38;5;241m=\u001b[39m check_array(y, input_name\u001b[38;5;241m=\u001b[39m\u001b[38;5;124m\"\u001b[39m\u001b[38;5;124my\u001b[39m\u001b[38;5;124m\"\u001b[39m, \u001b[38;5;241m*\u001b[39m\u001b[38;5;241m*\u001b[39mcheck_y_params)\n\u001b[0;32m    620\u001b[0m     \u001b[38;5;28;01melse\u001b[39;00m:\n\u001b[1;32m--> 621\u001b[0m         X, y \u001b[38;5;241m=\u001b[39m check_X_y(X, y, \u001b[38;5;241m*\u001b[39m\u001b[38;5;241m*\u001b[39mcheck_params)\n\u001b[0;32m    622\u001b[0m     out \u001b[38;5;241m=\u001b[39m X, y\n\u001b[0;32m    624\u001b[0m \u001b[38;5;28;01mif\u001b[39;00m \u001b[38;5;129;01mnot\u001b[39;00m no_val_X \u001b[38;5;129;01mand\u001b[39;00m check_params\u001b[38;5;241m.\u001b[39mget(\u001b[38;5;124m\"\u001b[39m\u001b[38;5;124mensure_2d\u001b[39m\u001b[38;5;124m\"\u001b[39m, \u001b[38;5;28;01mTrue\u001b[39;00m):\n",
      "File \u001b[1;32m~\\anaconda3\\Lib\\site-packages\\sklearn\\utils\\validation.py:1147\u001b[0m, in \u001b[0;36mcheck_X_y\u001b[1;34m(X, y, accept_sparse, accept_large_sparse, dtype, order, copy, force_all_finite, ensure_2d, allow_nd, multi_output, ensure_min_samples, ensure_min_features, y_numeric, estimator)\u001b[0m\n\u001b[0;32m   1142\u001b[0m         estimator_name \u001b[38;5;241m=\u001b[39m _check_estimator_name(estimator)\n\u001b[0;32m   1143\u001b[0m     \u001b[38;5;28;01mraise\u001b[39;00m \u001b[38;5;167;01mValueError\u001b[39;00m(\n\u001b[0;32m   1144\u001b[0m         \u001b[38;5;124mf\u001b[39m\u001b[38;5;124m\"\u001b[39m\u001b[38;5;132;01m{\u001b[39;00mestimator_name\u001b[38;5;132;01m}\u001b[39;00m\u001b[38;5;124m requires y to be passed, but the target y is None\u001b[39m\u001b[38;5;124m\"\u001b[39m\n\u001b[0;32m   1145\u001b[0m     )\n\u001b[1;32m-> 1147\u001b[0m X \u001b[38;5;241m=\u001b[39m check_array(\n\u001b[0;32m   1148\u001b[0m     X,\n\u001b[0;32m   1149\u001b[0m     accept_sparse\u001b[38;5;241m=\u001b[39maccept_sparse,\n\u001b[0;32m   1150\u001b[0m     accept_large_sparse\u001b[38;5;241m=\u001b[39maccept_large_sparse,\n\u001b[0;32m   1151\u001b[0m     dtype\u001b[38;5;241m=\u001b[39mdtype,\n\u001b[0;32m   1152\u001b[0m     order\u001b[38;5;241m=\u001b[39morder,\n\u001b[0;32m   1153\u001b[0m     copy\u001b[38;5;241m=\u001b[39mcopy,\n\u001b[0;32m   1154\u001b[0m     force_all_finite\u001b[38;5;241m=\u001b[39mforce_all_finite,\n\u001b[0;32m   1155\u001b[0m     ensure_2d\u001b[38;5;241m=\u001b[39mensure_2d,\n\u001b[0;32m   1156\u001b[0m     allow_nd\u001b[38;5;241m=\u001b[39mallow_nd,\n\u001b[0;32m   1157\u001b[0m     ensure_min_samples\u001b[38;5;241m=\u001b[39mensure_min_samples,\n\u001b[0;32m   1158\u001b[0m     ensure_min_features\u001b[38;5;241m=\u001b[39mensure_min_features,\n\u001b[0;32m   1159\u001b[0m     estimator\u001b[38;5;241m=\u001b[39mestimator,\n\u001b[0;32m   1160\u001b[0m     input_name\u001b[38;5;241m=\u001b[39m\u001b[38;5;124m\"\u001b[39m\u001b[38;5;124mX\u001b[39m\u001b[38;5;124m\"\u001b[39m,\n\u001b[0;32m   1161\u001b[0m )\n\u001b[0;32m   1163\u001b[0m y \u001b[38;5;241m=\u001b[39m _check_y(y, multi_output\u001b[38;5;241m=\u001b[39mmulti_output, y_numeric\u001b[38;5;241m=\u001b[39my_numeric, estimator\u001b[38;5;241m=\u001b[39mestimator)\n\u001b[0;32m   1165\u001b[0m check_consistent_length(X, y)\n",
      "File \u001b[1;32m~\\anaconda3\\Lib\\site-packages\\sklearn\\utils\\validation.py:838\u001b[0m, in \u001b[0;36mcheck_array\u001b[1;34m(array, accept_sparse, accept_large_sparse, dtype, order, copy, force_all_finite, ensure_2d, allow_nd, ensure_min_samples, ensure_min_features, estimator, input_name)\u001b[0m\n\u001b[0;32m    833\u001b[0m \u001b[38;5;28;01mif\u001b[39;00m pandas_requires_conversion:\n\u001b[0;32m    834\u001b[0m     \u001b[38;5;66;03m# pandas dataframe requires conversion earlier to handle extension dtypes with\u001b[39;00m\n\u001b[0;32m    835\u001b[0m     \u001b[38;5;66;03m# nans\u001b[39;00m\n\u001b[0;32m    836\u001b[0m     \u001b[38;5;66;03m# Use the original dtype for conversion if dtype is None\u001b[39;00m\n\u001b[0;32m    837\u001b[0m     new_dtype \u001b[38;5;241m=\u001b[39m dtype_orig \u001b[38;5;28;01mif\u001b[39;00m dtype \u001b[38;5;129;01mis\u001b[39;00m \u001b[38;5;28;01mNone\u001b[39;00m \u001b[38;5;28;01melse\u001b[39;00m dtype\n\u001b[1;32m--> 838\u001b[0m     array \u001b[38;5;241m=\u001b[39m array\u001b[38;5;241m.\u001b[39mastype(new_dtype)\n\u001b[0;32m    839\u001b[0m     \u001b[38;5;66;03m# Since we converted here, we do not need to convert again later\u001b[39;00m\n\u001b[0;32m    840\u001b[0m     dtype \u001b[38;5;241m=\u001b[39m \u001b[38;5;28;01mNone\u001b[39;00m\n",
      "File \u001b[1;32m~\\anaconda3\\Lib\\site-packages\\pandas\\core\\generic.py:6324\u001b[0m, in \u001b[0;36mNDFrame.astype\u001b[1;34m(self, dtype, copy, errors)\u001b[0m\n\u001b[0;32m   6317\u001b[0m     results \u001b[38;5;241m=\u001b[39m [\n\u001b[0;32m   6318\u001b[0m         \u001b[38;5;28mself\u001b[39m\u001b[38;5;241m.\u001b[39miloc[:, i]\u001b[38;5;241m.\u001b[39mastype(dtype, copy\u001b[38;5;241m=\u001b[39mcopy)\n\u001b[0;32m   6319\u001b[0m         \u001b[38;5;28;01mfor\u001b[39;00m i \u001b[38;5;129;01min\u001b[39;00m \u001b[38;5;28mrange\u001b[39m(\u001b[38;5;28mlen\u001b[39m(\u001b[38;5;28mself\u001b[39m\u001b[38;5;241m.\u001b[39mcolumns))\n\u001b[0;32m   6320\u001b[0m     ]\n\u001b[0;32m   6322\u001b[0m \u001b[38;5;28;01melse\u001b[39;00m:\n\u001b[0;32m   6323\u001b[0m     \u001b[38;5;66;03m# else, only a single dtype is given\u001b[39;00m\n\u001b[1;32m-> 6324\u001b[0m     new_data \u001b[38;5;241m=\u001b[39m \u001b[38;5;28mself\u001b[39m\u001b[38;5;241m.\u001b[39m_mgr\u001b[38;5;241m.\u001b[39mastype(dtype\u001b[38;5;241m=\u001b[39mdtype, copy\u001b[38;5;241m=\u001b[39mcopy, errors\u001b[38;5;241m=\u001b[39merrors)\n\u001b[0;32m   6325\u001b[0m     \u001b[38;5;28;01mreturn\u001b[39;00m \u001b[38;5;28mself\u001b[39m\u001b[38;5;241m.\u001b[39m_constructor(new_data)\u001b[38;5;241m.\u001b[39m__finalize__(\u001b[38;5;28mself\u001b[39m, method\u001b[38;5;241m=\u001b[39m\u001b[38;5;124m\"\u001b[39m\u001b[38;5;124mastype\u001b[39m\u001b[38;5;124m\"\u001b[39m)\n\u001b[0;32m   6327\u001b[0m \u001b[38;5;66;03m# GH 33113: handle empty frame or series\u001b[39;00m\n",
      "File \u001b[1;32m~\\anaconda3\\Lib\\site-packages\\pandas\\core\\internals\\managers.py:451\u001b[0m, in \u001b[0;36mBaseBlockManager.astype\u001b[1;34m(self, dtype, copy, errors)\u001b[0m\n\u001b[0;32m    448\u001b[0m \u001b[38;5;28;01melif\u001b[39;00m using_copy_on_write():\n\u001b[0;32m    449\u001b[0m     copy \u001b[38;5;241m=\u001b[39m \u001b[38;5;28;01mFalse\u001b[39;00m\n\u001b[1;32m--> 451\u001b[0m \u001b[38;5;28;01mreturn\u001b[39;00m \u001b[38;5;28mself\u001b[39m\u001b[38;5;241m.\u001b[39mapply(\n\u001b[0;32m    452\u001b[0m     \u001b[38;5;124m\"\u001b[39m\u001b[38;5;124mastype\u001b[39m\u001b[38;5;124m\"\u001b[39m,\n\u001b[0;32m    453\u001b[0m     dtype\u001b[38;5;241m=\u001b[39mdtype,\n\u001b[0;32m    454\u001b[0m     copy\u001b[38;5;241m=\u001b[39mcopy,\n\u001b[0;32m    455\u001b[0m     errors\u001b[38;5;241m=\u001b[39merrors,\n\u001b[0;32m    456\u001b[0m     using_cow\u001b[38;5;241m=\u001b[39musing_copy_on_write(),\n\u001b[0;32m    457\u001b[0m )\n",
      "File \u001b[1;32m~\\anaconda3\\Lib\\site-packages\\pandas\\core\\internals\\managers.py:352\u001b[0m, in \u001b[0;36mBaseBlockManager.apply\u001b[1;34m(self, f, align_keys, **kwargs)\u001b[0m\n\u001b[0;32m    350\u001b[0m         applied \u001b[38;5;241m=\u001b[39m b\u001b[38;5;241m.\u001b[39mapply(f, \u001b[38;5;241m*\u001b[39m\u001b[38;5;241m*\u001b[39mkwargs)\n\u001b[0;32m    351\u001b[0m     \u001b[38;5;28;01melse\u001b[39;00m:\n\u001b[1;32m--> 352\u001b[0m         applied \u001b[38;5;241m=\u001b[39m \u001b[38;5;28mgetattr\u001b[39m(b, f)(\u001b[38;5;241m*\u001b[39m\u001b[38;5;241m*\u001b[39mkwargs)\n\u001b[0;32m    353\u001b[0m     result_blocks \u001b[38;5;241m=\u001b[39m extend_blocks(applied, result_blocks)\n\u001b[0;32m    355\u001b[0m out \u001b[38;5;241m=\u001b[39m \u001b[38;5;28mtype\u001b[39m(\u001b[38;5;28mself\u001b[39m)\u001b[38;5;241m.\u001b[39mfrom_blocks(result_blocks, \u001b[38;5;28mself\u001b[39m\u001b[38;5;241m.\u001b[39maxes)\n",
      "File \u001b[1;32m~\\anaconda3\\Lib\\site-packages\\pandas\\core\\internals\\blocks.py:511\u001b[0m, in \u001b[0;36mBlock.astype\u001b[1;34m(self, dtype, copy, errors, using_cow)\u001b[0m\n\u001b[0;32m    491\u001b[0m \u001b[38;5;250m\u001b[39m\u001b[38;5;124;03m\"\"\"\u001b[39;00m\n\u001b[0;32m    492\u001b[0m \u001b[38;5;124;03mCoerce to the new dtype.\u001b[39;00m\n\u001b[0;32m    493\u001b[0m \n\u001b[1;32m   (...)\u001b[0m\n\u001b[0;32m    507\u001b[0m \u001b[38;5;124;03mBlock\u001b[39;00m\n\u001b[0;32m    508\u001b[0m \u001b[38;5;124;03m\"\"\"\u001b[39;00m\n\u001b[0;32m    509\u001b[0m values \u001b[38;5;241m=\u001b[39m \u001b[38;5;28mself\u001b[39m\u001b[38;5;241m.\u001b[39mvalues\n\u001b[1;32m--> 511\u001b[0m new_values \u001b[38;5;241m=\u001b[39m astype_array_safe(values, dtype, copy\u001b[38;5;241m=\u001b[39mcopy, errors\u001b[38;5;241m=\u001b[39merrors)\n\u001b[0;32m    513\u001b[0m new_values \u001b[38;5;241m=\u001b[39m maybe_coerce_values(new_values)\n\u001b[0;32m    515\u001b[0m refs \u001b[38;5;241m=\u001b[39m \u001b[38;5;28;01mNone\u001b[39;00m\n",
      "File \u001b[1;32m~\\anaconda3\\Lib\\site-packages\\pandas\\core\\dtypes\\astype.py:242\u001b[0m, in \u001b[0;36mastype_array_safe\u001b[1;34m(values, dtype, copy, errors)\u001b[0m\n\u001b[0;32m    239\u001b[0m     dtype \u001b[38;5;241m=\u001b[39m dtype\u001b[38;5;241m.\u001b[39mnumpy_dtype\n\u001b[0;32m    241\u001b[0m \u001b[38;5;28;01mtry\u001b[39;00m:\n\u001b[1;32m--> 242\u001b[0m     new_values \u001b[38;5;241m=\u001b[39m astype_array(values, dtype, copy\u001b[38;5;241m=\u001b[39mcopy)\n\u001b[0;32m    243\u001b[0m \u001b[38;5;28;01mexcept\u001b[39;00m (\u001b[38;5;167;01mValueError\u001b[39;00m, \u001b[38;5;167;01mTypeError\u001b[39;00m):\n\u001b[0;32m    244\u001b[0m     \u001b[38;5;66;03m# e.g. _astype_nansafe can fail on object-dtype of strings\u001b[39;00m\n\u001b[0;32m    245\u001b[0m     \u001b[38;5;66;03m#  trying to convert to float\u001b[39;00m\n\u001b[0;32m    246\u001b[0m     \u001b[38;5;28;01mif\u001b[39;00m errors \u001b[38;5;241m==\u001b[39m \u001b[38;5;124m\"\u001b[39m\u001b[38;5;124mignore\u001b[39m\u001b[38;5;124m\"\u001b[39m:\n",
      "File \u001b[1;32m~\\anaconda3\\Lib\\site-packages\\pandas\\core\\dtypes\\astype.py:184\u001b[0m, in \u001b[0;36mastype_array\u001b[1;34m(values, dtype, copy)\u001b[0m\n\u001b[0;32m    180\u001b[0m     \u001b[38;5;28;01mreturn\u001b[39;00m values\n\u001b[0;32m    182\u001b[0m \u001b[38;5;28;01mif\u001b[39;00m \u001b[38;5;129;01mnot\u001b[39;00m \u001b[38;5;28misinstance\u001b[39m(values, np\u001b[38;5;241m.\u001b[39mndarray):\n\u001b[0;32m    183\u001b[0m     \u001b[38;5;66;03m# i.e. ExtensionArray\u001b[39;00m\n\u001b[1;32m--> 184\u001b[0m     values \u001b[38;5;241m=\u001b[39m values\u001b[38;5;241m.\u001b[39mastype(dtype, copy\u001b[38;5;241m=\u001b[39mcopy)\n\u001b[0;32m    186\u001b[0m \u001b[38;5;28;01melse\u001b[39;00m:\n\u001b[0;32m    187\u001b[0m     values \u001b[38;5;241m=\u001b[39m _astype_nansafe(values, dtype, copy\u001b[38;5;241m=\u001b[39mcopy)\n",
      "File \u001b[1;32m~\\anaconda3\\Lib\\site-packages\\pandas\\core\\arrays\\categorical.py:544\u001b[0m, in \u001b[0;36mCategorical.astype\u001b[1;34m(self, dtype, copy)\u001b[0m\n\u001b[0;32m    539\u001b[0m     \u001b[38;5;28;01mexcept\u001b[39;00m (\n\u001b[0;32m    540\u001b[0m         \u001b[38;5;167;01mTypeError\u001b[39;00m,  \u001b[38;5;66;03m# downstream error msg for CategoricalIndex is misleading\u001b[39;00m\n\u001b[0;32m    541\u001b[0m         \u001b[38;5;167;01mValueError\u001b[39;00m,\n\u001b[0;32m    542\u001b[0m     ):\n\u001b[0;32m    543\u001b[0m         msg \u001b[38;5;241m=\u001b[39m \u001b[38;5;124mf\u001b[39m\u001b[38;5;124m\"\u001b[39m\u001b[38;5;124mCannot cast \u001b[39m\u001b[38;5;132;01m{\u001b[39;00m\u001b[38;5;28mself\u001b[39m\u001b[38;5;241m.\u001b[39mcategories\u001b[38;5;241m.\u001b[39mdtype\u001b[38;5;132;01m}\u001b[39;00m\u001b[38;5;124m dtype to \u001b[39m\u001b[38;5;132;01m{\u001b[39;00mdtype\u001b[38;5;132;01m}\u001b[39;00m\u001b[38;5;124m\"\u001b[39m\n\u001b[1;32m--> 544\u001b[0m         \u001b[38;5;28;01mraise\u001b[39;00m \u001b[38;5;167;01mValueError\u001b[39;00m(msg)\n\u001b[0;32m    546\u001b[0m     result \u001b[38;5;241m=\u001b[39m take_nd(\n\u001b[0;32m    547\u001b[0m         new_cats, ensure_platform_int(\u001b[38;5;28mself\u001b[39m\u001b[38;5;241m.\u001b[39m_codes), fill_value\u001b[38;5;241m=\u001b[39mfill_value\n\u001b[0;32m    548\u001b[0m     )\n\u001b[0;32m    550\u001b[0m \u001b[38;5;28;01mreturn\u001b[39;00m result\n",
      "\u001b[1;31mValueError\u001b[0m: Cannot cast object dtype to float32"
     ]
    }
   ],
   "source": [
    "\n",
    "# Split features and target variable\n",
    "# Now you can fit your model\n",
    "LL_rf = model.fit(X, y)"
=======
    "df_y_lable"
>>>>>>> main
   ]
  },
  {
   "cell_type": "code",
   "execution_count": null,
   "metadata": {},
   "outputs": [],
<<<<<<< HEAD
   "source": []
=======
   "source": [
    " \n",
    " \n",
    " \n",
    " \n",
    " \n",
    " "
   ]
>>>>>>> main
  }
 ],
 "metadata": {
  "kernelspec": {
<<<<<<< HEAD
   "display_name": "Python 3 (ipykernel)",
=======
   "display_name": "Python 3",
>>>>>>> main
   "language": "python",
   "name": "python3"
  },
  "language_info": {
   "codemirror_mode": {
    "name": "ipython",
    "version": 3
   },
   "file_extension": ".py",
   "mimetype": "text/x-python",
   "name": "python",
   "nbconvert_exporter": "python",
   "pygments_lexer": "ipython3",
   "version": "3.11.5"
  }
 },
 "nbformat": 4,
 "nbformat_minor": 2
}
