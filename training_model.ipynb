{
 "cells": [
  {
   "cell_type": "code",
   "execution_count": 3,
   "metadata": {},
   "outputs": [],
   "source": [
    "import pandas as pd\n",
    "from sklearn.ensemble import RandomForestClassifier\n",
    "from sklearn.preprocessing import OneHotEncoder, StandardScaler\n",
    "from sklearn.compose import ColumnTransformer\n",
    "from sklearn.pipeline import Pipeline\n",
    "from sklearn.model_selection import train_test_split"
   ]
  },
  {
   "cell_type": "code",
   "execution_count": 4,
   "metadata": {},
   "outputs": [],
   "source": [
    "df = pd.read_csv(\"Training_final_v1.0.csv\")"
   ]
  },
  {
   "cell_type": "code",
   "execution_count": 5,
   "metadata": {},
   "outputs": [],
   "source": [
    "X = df.drop(columns=['result'])\n",
    "y = df['result']"
   ]
  },
  {
   "cell_type": "code",
   "execution_count": 6,
   "metadata": {},
   "outputs": [
    {
     "name": "stdout",
     "output_type": "stream",
     "text": [
      "Accuracy: 0.8679245283018868\n"
     ]
    }
   ],
   "source": [
    "categorical_features = ['season_x', 'team_x', 'opp_team_name']\n",
    "numerical_features = ['assists', 'bonus', 'bps', 'clean_sheets', 'creativity', 'goals_conceded', 'goals_scored', 'ict_index', 'influence', 'minutes', 'own_goals', 'penalties_missed', 'penalties_saved', 'red_cards', 'saves', 'selected', 'team_a_score', 'team_h_score', 'threat', 'total_points', 'transfers_balance', 'transfers_in', 'transfers_out', 'value', 'yellow_cards', 'GW']\n",
    "\n",
    "# Define preprocessing steps for categorical and numerical features\n",
    "categorical_transformer = OneHotEncoder(handle_unknown='ignore')\n",
    "numerical_transformer = StandardScaler()\n",
    "\n",
    "# Combine preprocessing steps for all features\n",
    "preprocessor = ColumnTransformer(\n",
    "    transformers=[\n",
    "        ('cat', categorical_transformer, categorical_features),\n",
    "        ('num', numerical_transformer, numerical_features)\n",
    "    ])\n",
    "\n",
    "# Create a pipeline with preprocessing and the Random Forest Classifier\n",
    "pipeline = Pipeline(steps=[\n",
    "    ('preprocessor', preprocessor),\n",
    "    ('classifier', RandomForestClassifier())\n",
    "])\n",
    "\n",
    "# Split the data into training and testing sets\n",
    "X_train, X_test, y_train, y_test = train_test_split(X, y, test_size=0.2, random_state=42)\n",
    "\n",
    "# Train the model using the pipeline\n",
    "pipeline.fit(X_train, y_train)\n",
    "\n",
    "# Evaluate the model\n",
    "accuracy = pipeline.score(X_test, y_test)\n",
    "print(\"Accuracy:\", accuracy)"
   ]
  },
  {
   "cell_type": "code",
   "execution_count": 7,
   "metadata": {},
   "outputs": [],
   "source": [
    "# training with SVM\n",
    "from sklearn.svm import SVC\n"
   ]
  },
  {
   "cell_type": "code",
   "execution_count": 8,
   "metadata": {},
   "outputs": [],
   "source": [
    "# Create a pipeline with preprocessing and the SVM Classifier\n",
    "pipeline = Pipeline(steps=[\n",
    "    ('preprocessor', preprocessor),\n",
    "    ('classifier', SVC())  # Use SVC instead of RandomForestClassifier\n",
    "])\n"
   ]
  },
  {
   "cell_type": "code",
   "execution_count": 9,
   "metadata": {},
   "outputs": [
    {
     "data": {
      "text/html": [
       "<style>#sk-container-id-1 {color: black;}#sk-container-id-1 pre{padding: 0;}#sk-container-id-1 div.sk-toggleable {background-color: white;}#sk-container-id-1 label.sk-toggleable__label {cursor: pointer;display: block;width: 100%;margin-bottom: 0;padding: 0.3em;box-sizing: border-box;text-align: center;}#sk-container-id-1 label.sk-toggleable__label-arrow:before {content: \"▸\";float: left;margin-right: 0.25em;color: #696969;}#sk-container-id-1 label.sk-toggleable__label-arrow:hover:before {color: black;}#sk-container-id-1 div.sk-estimator:hover label.sk-toggleable__label-arrow:before {color: black;}#sk-container-id-1 div.sk-toggleable__content {max-height: 0;max-width: 0;overflow: hidden;text-align: left;background-color: #f0f8ff;}#sk-container-id-1 div.sk-toggleable__content pre {margin: 0.2em;color: black;border-radius: 0.25em;background-color: #f0f8ff;}#sk-container-id-1 input.sk-toggleable__control:checked~div.sk-toggleable__content {max-height: 200px;max-width: 100%;overflow: auto;}#sk-container-id-1 input.sk-toggleable__control:checked~label.sk-toggleable__label-arrow:before {content: \"▾\";}#sk-container-id-1 div.sk-estimator input.sk-toggleable__control:checked~label.sk-toggleable__label {background-color: #d4ebff;}#sk-container-id-1 div.sk-label input.sk-toggleable__control:checked~label.sk-toggleable__label {background-color: #d4ebff;}#sk-container-id-1 input.sk-hidden--visually {border: 0;clip: rect(1px 1px 1px 1px);clip: rect(1px, 1px, 1px, 1px);height: 1px;margin: -1px;overflow: hidden;padding: 0;position: absolute;width: 1px;}#sk-container-id-1 div.sk-estimator {font-family: monospace;background-color: #f0f8ff;border: 1px dotted black;border-radius: 0.25em;box-sizing: border-box;margin-bottom: 0.5em;}#sk-container-id-1 div.sk-estimator:hover {background-color: #d4ebff;}#sk-container-id-1 div.sk-parallel-item::after {content: \"\";width: 100%;border-bottom: 1px solid gray;flex-grow: 1;}#sk-container-id-1 div.sk-label:hover label.sk-toggleable__label {background-color: #d4ebff;}#sk-container-id-1 div.sk-serial::before {content: \"\";position: absolute;border-left: 1px solid gray;box-sizing: border-box;top: 0;bottom: 0;left: 50%;z-index: 0;}#sk-container-id-1 div.sk-serial {display: flex;flex-direction: column;align-items: center;background-color: white;padding-right: 0.2em;padding-left: 0.2em;position: relative;}#sk-container-id-1 div.sk-item {position: relative;z-index: 1;}#sk-container-id-1 div.sk-parallel {display: flex;align-items: stretch;justify-content: center;background-color: white;position: relative;}#sk-container-id-1 div.sk-item::before, #sk-container-id-1 div.sk-parallel-item::before {content: \"\";position: absolute;border-left: 1px solid gray;box-sizing: border-box;top: 0;bottom: 0;left: 50%;z-index: -1;}#sk-container-id-1 div.sk-parallel-item {display: flex;flex-direction: column;z-index: 1;position: relative;background-color: white;}#sk-container-id-1 div.sk-parallel-item:first-child::after {align-self: flex-end;width: 50%;}#sk-container-id-1 div.sk-parallel-item:last-child::after {align-self: flex-start;width: 50%;}#sk-container-id-1 div.sk-parallel-item:only-child::after {width: 0;}#sk-container-id-1 div.sk-dashed-wrapped {border: 1px dashed gray;margin: 0 0.4em 0.5em 0.4em;box-sizing: border-box;padding-bottom: 0.4em;background-color: white;}#sk-container-id-1 div.sk-label label {font-family: monospace;font-weight: bold;display: inline-block;line-height: 1.2em;}#sk-container-id-1 div.sk-label-container {text-align: center;}#sk-container-id-1 div.sk-container {/* jupyter's `normalize.less` sets `[hidden] { display: none; }` but bootstrap.min.css set `[hidden] { display: none !important; }` so we also need the `!important` here to be able to override the default hidden behavior on the sphinx rendered scikit-learn.org. See: https://github.com/scikit-learn/scikit-learn/issues/21755 */display: inline-block !important;position: relative;}#sk-container-id-1 div.sk-text-repr-fallback {display: none;}</style><div id=\"sk-container-id-1\" class=\"sk-top-container\"><div class=\"sk-text-repr-fallback\"><pre>Pipeline(steps=[(&#x27;preprocessor&#x27;,\n",
       "                 ColumnTransformer(transformers=[(&#x27;cat&#x27;,\n",
       "                                                  OneHotEncoder(handle_unknown=&#x27;ignore&#x27;),\n",
       "                                                  [&#x27;season_x&#x27;, &#x27;team_x&#x27;,\n",
       "                                                   &#x27;opp_team_name&#x27;]),\n",
       "                                                 (&#x27;num&#x27;, StandardScaler(),\n",
       "                                                  [&#x27;assists&#x27;, &#x27;bonus&#x27;, &#x27;bps&#x27;,\n",
       "                                                   &#x27;clean_sheets&#x27;, &#x27;creativity&#x27;,\n",
       "                                                   &#x27;goals_conceded&#x27;,\n",
       "                                                   &#x27;goals_scored&#x27;, &#x27;ict_index&#x27;,\n",
       "                                                   &#x27;influence&#x27;, &#x27;minutes&#x27;,\n",
       "                                                   &#x27;own_goals&#x27;,\n",
       "                                                   &#x27;penalties_missed&#x27;,\n",
       "                                                   &#x27;penalties_saved&#x27;,\n",
       "                                                   &#x27;red_cards&#x27;, &#x27;saves&#x27;,\n",
       "                                                   &#x27;selected&#x27;, &#x27;team_a_score&#x27;,\n",
       "                                                   &#x27;team_h_score&#x27;, &#x27;threat&#x27;,\n",
       "                                                   &#x27;total_points&#x27;,\n",
       "                                                   &#x27;transfers_balance&#x27;,\n",
       "                                                   &#x27;transfers_in&#x27;,\n",
       "                                                   &#x27;transfers_out&#x27;, &#x27;value&#x27;,\n",
       "                                                   &#x27;yellow_cards&#x27;, &#x27;GW&#x27;])])),\n",
       "                (&#x27;classifier&#x27;, SVC())])</pre><b>In a Jupyter environment, please rerun this cell to show the HTML representation or trust the notebook. <br />On GitHub, the HTML representation is unable to render, please try loading this page with nbviewer.org.</b></div><div class=\"sk-container\" hidden><div class=\"sk-item sk-dashed-wrapped\"><div class=\"sk-label-container\"><div class=\"sk-label sk-toggleable\"><input class=\"sk-toggleable__control sk-hidden--visually\" id=\"sk-estimator-id-1\" type=\"checkbox\" ><label for=\"sk-estimator-id-1\" class=\"sk-toggleable__label sk-toggleable__label-arrow\">Pipeline</label><div class=\"sk-toggleable__content\"><pre>Pipeline(steps=[(&#x27;preprocessor&#x27;,\n",
       "                 ColumnTransformer(transformers=[(&#x27;cat&#x27;,\n",
       "                                                  OneHotEncoder(handle_unknown=&#x27;ignore&#x27;),\n",
       "                                                  [&#x27;season_x&#x27;, &#x27;team_x&#x27;,\n",
       "                                                   &#x27;opp_team_name&#x27;]),\n",
       "                                                 (&#x27;num&#x27;, StandardScaler(),\n",
       "                                                  [&#x27;assists&#x27;, &#x27;bonus&#x27;, &#x27;bps&#x27;,\n",
       "                                                   &#x27;clean_sheets&#x27;, &#x27;creativity&#x27;,\n",
       "                                                   &#x27;goals_conceded&#x27;,\n",
       "                                                   &#x27;goals_scored&#x27;, &#x27;ict_index&#x27;,\n",
       "                                                   &#x27;influence&#x27;, &#x27;minutes&#x27;,\n",
       "                                                   &#x27;own_goals&#x27;,\n",
       "                                                   &#x27;penalties_missed&#x27;,\n",
       "                                                   &#x27;penalties_saved&#x27;,\n",
       "                                                   &#x27;red_cards&#x27;, &#x27;saves&#x27;,\n",
       "                                                   &#x27;selected&#x27;, &#x27;team_a_score&#x27;,\n",
       "                                                   &#x27;team_h_score&#x27;, &#x27;threat&#x27;,\n",
       "                                                   &#x27;total_points&#x27;,\n",
       "                                                   &#x27;transfers_balance&#x27;,\n",
       "                                                   &#x27;transfers_in&#x27;,\n",
       "                                                   &#x27;transfers_out&#x27;, &#x27;value&#x27;,\n",
       "                                                   &#x27;yellow_cards&#x27;, &#x27;GW&#x27;])])),\n",
       "                (&#x27;classifier&#x27;, SVC())])</pre></div></div></div><div class=\"sk-serial\"><div class=\"sk-item sk-dashed-wrapped\"><div class=\"sk-label-container\"><div class=\"sk-label sk-toggleable\"><input class=\"sk-toggleable__control sk-hidden--visually\" id=\"sk-estimator-id-2\" type=\"checkbox\" ><label for=\"sk-estimator-id-2\" class=\"sk-toggleable__label sk-toggleable__label-arrow\">preprocessor: ColumnTransformer</label><div class=\"sk-toggleable__content\"><pre>ColumnTransformer(transformers=[(&#x27;cat&#x27;, OneHotEncoder(handle_unknown=&#x27;ignore&#x27;),\n",
       "                                 [&#x27;season_x&#x27;, &#x27;team_x&#x27;, &#x27;opp_team_name&#x27;]),\n",
       "                                (&#x27;num&#x27;, StandardScaler(),\n",
       "                                 [&#x27;assists&#x27;, &#x27;bonus&#x27;, &#x27;bps&#x27;, &#x27;clean_sheets&#x27;,\n",
       "                                  &#x27;creativity&#x27;, &#x27;goals_conceded&#x27;,\n",
       "                                  &#x27;goals_scored&#x27;, &#x27;ict_index&#x27;, &#x27;influence&#x27;,\n",
       "                                  &#x27;minutes&#x27;, &#x27;own_goals&#x27;, &#x27;penalties_missed&#x27;,\n",
       "                                  &#x27;penalties_saved&#x27;, &#x27;red_cards&#x27;, &#x27;saves&#x27;,\n",
       "                                  &#x27;selected&#x27;, &#x27;team_a_score&#x27;, &#x27;team_h_score&#x27;,\n",
       "                                  &#x27;threat&#x27;, &#x27;total_points&#x27;, &#x27;transfers_balance&#x27;,\n",
       "                                  &#x27;transfers_in&#x27;, &#x27;transfers_out&#x27;, &#x27;value&#x27;,\n",
       "                                  &#x27;yellow_cards&#x27;, &#x27;GW&#x27;])])</pre></div></div></div><div class=\"sk-parallel\"><div class=\"sk-parallel-item\"><div class=\"sk-item\"><div class=\"sk-label-container\"><div class=\"sk-label sk-toggleable\"><input class=\"sk-toggleable__control sk-hidden--visually\" id=\"sk-estimator-id-3\" type=\"checkbox\" ><label for=\"sk-estimator-id-3\" class=\"sk-toggleable__label sk-toggleable__label-arrow\">cat</label><div class=\"sk-toggleable__content\"><pre>[&#x27;season_x&#x27;, &#x27;team_x&#x27;, &#x27;opp_team_name&#x27;]</pre></div></div></div><div class=\"sk-serial\"><div class=\"sk-item\"><div class=\"sk-estimator sk-toggleable\"><input class=\"sk-toggleable__control sk-hidden--visually\" id=\"sk-estimator-id-4\" type=\"checkbox\" ><label for=\"sk-estimator-id-4\" class=\"sk-toggleable__label sk-toggleable__label-arrow\">OneHotEncoder</label><div class=\"sk-toggleable__content\"><pre>OneHotEncoder(handle_unknown=&#x27;ignore&#x27;)</pre></div></div></div></div></div></div><div class=\"sk-parallel-item\"><div class=\"sk-item\"><div class=\"sk-label-container\"><div class=\"sk-label sk-toggleable\"><input class=\"sk-toggleable__control sk-hidden--visually\" id=\"sk-estimator-id-5\" type=\"checkbox\" ><label for=\"sk-estimator-id-5\" class=\"sk-toggleable__label sk-toggleable__label-arrow\">num</label><div class=\"sk-toggleable__content\"><pre>[&#x27;assists&#x27;, &#x27;bonus&#x27;, &#x27;bps&#x27;, &#x27;clean_sheets&#x27;, &#x27;creativity&#x27;, &#x27;goals_conceded&#x27;, &#x27;goals_scored&#x27;, &#x27;ict_index&#x27;, &#x27;influence&#x27;, &#x27;minutes&#x27;, &#x27;own_goals&#x27;, &#x27;penalties_missed&#x27;, &#x27;penalties_saved&#x27;, &#x27;red_cards&#x27;, &#x27;saves&#x27;, &#x27;selected&#x27;, &#x27;team_a_score&#x27;, &#x27;team_h_score&#x27;, &#x27;threat&#x27;, &#x27;total_points&#x27;, &#x27;transfers_balance&#x27;, &#x27;transfers_in&#x27;, &#x27;transfers_out&#x27;, &#x27;value&#x27;, &#x27;yellow_cards&#x27;, &#x27;GW&#x27;]</pre></div></div></div><div class=\"sk-serial\"><div class=\"sk-item\"><div class=\"sk-estimator sk-toggleable\"><input class=\"sk-toggleable__control sk-hidden--visually\" id=\"sk-estimator-id-6\" type=\"checkbox\" ><label for=\"sk-estimator-id-6\" class=\"sk-toggleable__label sk-toggleable__label-arrow\">StandardScaler</label><div class=\"sk-toggleable__content\"><pre>StandardScaler()</pre></div></div></div></div></div></div></div></div><div class=\"sk-item\"><div class=\"sk-estimator sk-toggleable\"><input class=\"sk-toggleable__control sk-hidden--visually\" id=\"sk-estimator-id-7\" type=\"checkbox\" ><label for=\"sk-estimator-id-7\" class=\"sk-toggleable__label sk-toggleable__label-arrow\">SVC</label><div class=\"sk-toggleable__content\"><pre>SVC()</pre></div></div></div></div></div></div></div>"
      ],
      "text/plain": [
       "Pipeline(steps=[('preprocessor',\n",
       "                 ColumnTransformer(transformers=[('cat',\n",
       "                                                  OneHotEncoder(handle_unknown='ignore'),\n",
       "                                                  ['season_x', 'team_x',\n",
       "                                                   'opp_team_name']),\n",
       "                                                 ('num', StandardScaler(),\n",
       "                                                  ['assists', 'bonus', 'bps',\n",
       "                                                   'clean_sheets', 'creativity',\n",
       "                                                   'goals_conceded',\n",
       "                                                   'goals_scored', 'ict_index',\n",
       "                                                   'influence', 'minutes',\n",
       "                                                   'own_goals',\n",
       "                                                   'penalties_missed',\n",
       "                                                   'penalties_saved',\n",
       "                                                   'red_cards', 'saves',\n",
       "                                                   'selected', 'team_a_score',\n",
       "                                                   'team_h_score', 'threat',\n",
       "                                                   'total_points',\n",
       "                                                   'transfers_balance',\n",
       "                                                   'transfers_in',\n",
       "                                                   'transfers_out', 'value',\n",
       "                                                   'yellow_cards', 'GW'])])),\n",
       "                ('classifier', SVC())])"
      ]
     },
     "execution_count": 9,
     "metadata": {},
     "output_type": "execute_result"
    }
   ],
   "source": [
    "# Train the model using the pipeline\n",
    "pipeline.fit(X_train, y_train)\n"
   ]
  },
  {
   "cell_type": "code",
   "execution_count": 10,
   "metadata": {},
   "outputs": [
    {
     "name": "stdout",
     "output_type": "stream",
     "text": [
      "Accuracy: 0.8702830188679245\n"
     ]
    }
   ],
   "source": [
    "# Evaluate the model\n",
    "accuracy = pipeline.score(X_test, y_test)\n",
    "print(\"Accuracy:\", accuracy)\n"
   ]
  },
  {
   "cell_type": "code",
   "execution_count": 11,
   "metadata": {},
   "outputs": [],
   "source": [
    "# Training model with KNN\n",
    "from sklearn.neighbors import KNeighborsClassifier\n"
   ]
  },
  {
   "cell_type": "code",
   "execution_count": 12,
   "metadata": {},
   "outputs": [],
   "source": [
    "# Create a pipeline with preprocessing and the KNN Classifier\n",
    "pipeline = Pipeline(steps=[\n",
    "    ('preprocessor', preprocessor),\n",
    "    ('classifier', KNeighborsClassifier())  # Use KNeighborsClassifier instead of SVC\n",
    "])\n"
   ]
  },
  {
   "cell_type": "code",
   "execution_count": 13,
   "metadata": {},
   "outputs": [
    {
     "data": {
      "text/html": [
       "<style>#sk-container-id-2 {color: black;}#sk-container-id-2 pre{padding: 0;}#sk-container-id-2 div.sk-toggleable {background-color: white;}#sk-container-id-2 label.sk-toggleable__label {cursor: pointer;display: block;width: 100%;margin-bottom: 0;padding: 0.3em;box-sizing: border-box;text-align: center;}#sk-container-id-2 label.sk-toggleable__label-arrow:before {content: \"▸\";float: left;margin-right: 0.25em;color: #696969;}#sk-container-id-2 label.sk-toggleable__label-arrow:hover:before {color: black;}#sk-container-id-2 div.sk-estimator:hover label.sk-toggleable__label-arrow:before {color: black;}#sk-container-id-2 div.sk-toggleable__content {max-height: 0;max-width: 0;overflow: hidden;text-align: left;background-color: #f0f8ff;}#sk-container-id-2 div.sk-toggleable__content pre {margin: 0.2em;color: black;border-radius: 0.25em;background-color: #f0f8ff;}#sk-container-id-2 input.sk-toggleable__control:checked~div.sk-toggleable__content {max-height: 200px;max-width: 100%;overflow: auto;}#sk-container-id-2 input.sk-toggleable__control:checked~label.sk-toggleable__label-arrow:before {content: \"▾\";}#sk-container-id-2 div.sk-estimator input.sk-toggleable__control:checked~label.sk-toggleable__label {background-color: #d4ebff;}#sk-container-id-2 div.sk-label input.sk-toggleable__control:checked~label.sk-toggleable__label {background-color: #d4ebff;}#sk-container-id-2 input.sk-hidden--visually {border: 0;clip: rect(1px 1px 1px 1px);clip: rect(1px, 1px, 1px, 1px);height: 1px;margin: -1px;overflow: hidden;padding: 0;position: absolute;width: 1px;}#sk-container-id-2 div.sk-estimator {font-family: monospace;background-color: #f0f8ff;border: 1px dotted black;border-radius: 0.25em;box-sizing: border-box;margin-bottom: 0.5em;}#sk-container-id-2 div.sk-estimator:hover {background-color: #d4ebff;}#sk-container-id-2 div.sk-parallel-item::after {content: \"\";width: 100%;border-bottom: 1px solid gray;flex-grow: 1;}#sk-container-id-2 div.sk-label:hover label.sk-toggleable__label {background-color: #d4ebff;}#sk-container-id-2 div.sk-serial::before {content: \"\";position: absolute;border-left: 1px solid gray;box-sizing: border-box;top: 0;bottom: 0;left: 50%;z-index: 0;}#sk-container-id-2 div.sk-serial {display: flex;flex-direction: column;align-items: center;background-color: white;padding-right: 0.2em;padding-left: 0.2em;position: relative;}#sk-container-id-2 div.sk-item {position: relative;z-index: 1;}#sk-container-id-2 div.sk-parallel {display: flex;align-items: stretch;justify-content: center;background-color: white;position: relative;}#sk-container-id-2 div.sk-item::before, #sk-container-id-2 div.sk-parallel-item::before {content: \"\";position: absolute;border-left: 1px solid gray;box-sizing: border-box;top: 0;bottom: 0;left: 50%;z-index: -1;}#sk-container-id-2 div.sk-parallel-item {display: flex;flex-direction: column;z-index: 1;position: relative;background-color: white;}#sk-container-id-2 div.sk-parallel-item:first-child::after {align-self: flex-end;width: 50%;}#sk-container-id-2 div.sk-parallel-item:last-child::after {align-self: flex-start;width: 50%;}#sk-container-id-2 div.sk-parallel-item:only-child::after {width: 0;}#sk-container-id-2 div.sk-dashed-wrapped {border: 1px dashed gray;margin: 0 0.4em 0.5em 0.4em;box-sizing: border-box;padding-bottom: 0.4em;background-color: white;}#sk-container-id-2 div.sk-label label {font-family: monospace;font-weight: bold;display: inline-block;line-height: 1.2em;}#sk-container-id-2 div.sk-label-container {text-align: center;}#sk-container-id-2 div.sk-container {/* jupyter's `normalize.less` sets `[hidden] { display: none; }` but bootstrap.min.css set `[hidden] { display: none !important; }` so we also need the `!important` here to be able to override the default hidden behavior on the sphinx rendered scikit-learn.org. See: https://github.com/scikit-learn/scikit-learn/issues/21755 */display: inline-block !important;position: relative;}#sk-container-id-2 div.sk-text-repr-fallback {display: none;}</style><div id=\"sk-container-id-2\" class=\"sk-top-container\"><div class=\"sk-text-repr-fallback\"><pre>Pipeline(steps=[(&#x27;preprocessor&#x27;,\n",
       "                 ColumnTransformer(transformers=[(&#x27;cat&#x27;,\n",
       "                                                  OneHotEncoder(handle_unknown=&#x27;ignore&#x27;),\n",
       "                                                  [&#x27;season_x&#x27;, &#x27;team_x&#x27;,\n",
       "                                                   &#x27;opp_team_name&#x27;]),\n",
       "                                                 (&#x27;num&#x27;, StandardScaler(),\n",
       "                                                  [&#x27;assists&#x27;, &#x27;bonus&#x27;, &#x27;bps&#x27;,\n",
       "                                                   &#x27;clean_sheets&#x27;, &#x27;creativity&#x27;,\n",
       "                                                   &#x27;goals_conceded&#x27;,\n",
       "                                                   &#x27;goals_scored&#x27;, &#x27;ict_index&#x27;,\n",
       "                                                   &#x27;influence&#x27;, &#x27;minutes&#x27;,\n",
       "                                                   &#x27;own_goals&#x27;,\n",
       "                                                   &#x27;penalties_missed&#x27;,\n",
       "                                                   &#x27;penalties_saved&#x27;,\n",
       "                                                   &#x27;red_cards&#x27;, &#x27;saves&#x27;,\n",
       "                                                   &#x27;selected&#x27;, &#x27;team_a_score&#x27;,\n",
       "                                                   &#x27;team_h_score&#x27;, &#x27;threat&#x27;,\n",
       "                                                   &#x27;total_points&#x27;,\n",
       "                                                   &#x27;transfers_balance&#x27;,\n",
       "                                                   &#x27;transfers_in&#x27;,\n",
       "                                                   &#x27;transfers_out&#x27;, &#x27;value&#x27;,\n",
       "                                                   &#x27;yellow_cards&#x27;, &#x27;GW&#x27;])])),\n",
       "                (&#x27;classifier&#x27;, KNeighborsClassifier())])</pre><b>In a Jupyter environment, please rerun this cell to show the HTML representation or trust the notebook. <br />On GitHub, the HTML representation is unable to render, please try loading this page with nbviewer.org.</b></div><div class=\"sk-container\" hidden><div class=\"sk-item sk-dashed-wrapped\"><div class=\"sk-label-container\"><div class=\"sk-label sk-toggleable\"><input class=\"sk-toggleable__control sk-hidden--visually\" id=\"sk-estimator-id-8\" type=\"checkbox\" ><label for=\"sk-estimator-id-8\" class=\"sk-toggleable__label sk-toggleable__label-arrow\">Pipeline</label><div class=\"sk-toggleable__content\"><pre>Pipeline(steps=[(&#x27;preprocessor&#x27;,\n",
       "                 ColumnTransformer(transformers=[(&#x27;cat&#x27;,\n",
       "                                                  OneHotEncoder(handle_unknown=&#x27;ignore&#x27;),\n",
       "                                                  [&#x27;season_x&#x27;, &#x27;team_x&#x27;,\n",
       "                                                   &#x27;opp_team_name&#x27;]),\n",
       "                                                 (&#x27;num&#x27;, StandardScaler(),\n",
       "                                                  [&#x27;assists&#x27;, &#x27;bonus&#x27;, &#x27;bps&#x27;,\n",
       "                                                   &#x27;clean_sheets&#x27;, &#x27;creativity&#x27;,\n",
       "                                                   &#x27;goals_conceded&#x27;,\n",
       "                                                   &#x27;goals_scored&#x27;, &#x27;ict_index&#x27;,\n",
       "                                                   &#x27;influence&#x27;, &#x27;minutes&#x27;,\n",
       "                                                   &#x27;own_goals&#x27;,\n",
       "                                                   &#x27;penalties_missed&#x27;,\n",
       "                                                   &#x27;penalties_saved&#x27;,\n",
       "                                                   &#x27;red_cards&#x27;, &#x27;saves&#x27;,\n",
       "                                                   &#x27;selected&#x27;, &#x27;team_a_score&#x27;,\n",
       "                                                   &#x27;team_h_score&#x27;, &#x27;threat&#x27;,\n",
       "                                                   &#x27;total_points&#x27;,\n",
       "                                                   &#x27;transfers_balance&#x27;,\n",
       "                                                   &#x27;transfers_in&#x27;,\n",
       "                                                   &#x27;transfers_out&#x27;, &#x27;value&#x27;,\n",
       "                                                   &#x27;yellow_cards&#x27;, &#x27;GW&#x27;])])),\n",
       "                (&#x27;classifier&#x27;, KNeighborsClassifier())])</pre></div></div></div><div class=\"sk-serial\"><div class=\"sk-item sk-dashed-wrapped\"><div class=\"sk-label-container\"><div class=\"sk-label sk-toggleable\"><input class=\"sk-toggleable__control sk-hidden--visually\" id=\"sk-estimator-id-9\" type=\"checkbox\" ><label for=\"sk-estimator-id-9\" class=\"sk-toggleable__label sk-toggleable__label-arrow\">preprocessor: ColumnTransformer</label><div class=\"sk-toggleable__content\"><pre>ColumnTransformer(transformers=[(&#x27;cat&#x27;, OneHotEncoder(handle_unknown=&#x27;ignore&#x27;),\n",
       "                                 [&#x27;season_x&#x27;, &#x27;team_x&#x27;, &#x27;opp_team_name&#x27;]),\n",
       "                                (&#x27;num&#x27;, StandardScaler(),\n",
       "                                 [&#x27;assists&#x27;, &#x27;bonus&#x27;, &#x27;bps&#x27;, &#x27;clean_sheets&#x27;,\n",
       "                                  &#x27;creativity&#x27;, &#x27;goals_conceded&#x27;,\n",
       "                                  &#x27;goals_scored&#x27;, &#x27;ict_index&#x27;, &#x27;influence&#x27;,\n",
       "                                  &#x27;minutes&#x27;, &#x27;own_goals&#x27;, &#x27;penalties_missed&#x27;,\n",
       "                                  &#x27;penalties_saved&#x27;, &#x27;red_cards&#x27;, &#x27;saves&#x27;,\n",
       "                                  &#x27;selected&#x27;, &#x27;team_a_score&#x27;, &#x27;team_h_score&#x27;,\n",
       "                                  &#x27;threat&#x27;, &#x27;total_points&#x27;, &#x27;transfers_balance&#x27;,\n",
       "                                  &#x27;transfers_in&#x27;, &#x27;transfers_out&#x27;, &#x27;value&#x27;,\n",
       "                                  &#x27;yellow_cards&#x27;, &#x27;GW&#x27;])])</pre></div></div></div><div class=\"sk-parallel\"><div class=\"sk-parallel-item\"><div class=\"sk-item\"><div class=\"sk-label-container\"><div class=\"sk-label sk-toggleable\"><input class=\"sk-toggleable__control sk-hidden--visually\" id=\"sk-estimator-id-10\" type=\"checkbox\" ><label for=\"sk-estimator-id-10\" class=\"sk-toggleable__label sk-toggleable__label-arrow\">cat</label><div class=\"sk-toggleable__content\"><pre>[&#x27;season_x&#x27;, &#x27;team_x&#x27;, &#x27;opp_team_name&#x27;]</pre></div></div></div><div class=\"sk-serial\"><div class=\"sk-item\"><div class=\"sk-estimator sk-toggleable\"><input class=\"sk-toggleable__control sk-hidden--visually\" id=\"sk-estimator-id-11\" type=\"checkbox\" ><label for=\"sk-estimator-id-11\" class=\"sk-toggleable__label sk-toggleable__label-arrow\">OneHotEncoder</label><div class=\"sk-toggleable__content\"><pre>OneHotEncoder(handle_unknown=&#x27;ignore&#x27;)</pre></div></div></div></div></div></div><div class=\"sk-parallel-item\"><div class=\"sk-item\"><div class=\"sk-label-container\"><div class=\"sk-label sk-toggleable\"><input class=\"sk-toggleable__control sk-hidden--visually\" id=\"sk-estimator-id-12\" type=\"checkbox\" ><label for=\"sk-estimator-id-12\" class=\"sk-toggleable__label sk-toggleable__label-arrow\">num</label><div class=\"sk-toggleable__content\"><pre>[&#x27;assists&#x27;, &#x27;bonus&#x27;, &#x27;bps&#x27;, &#x27;clean_sheets&#x27;, &#x27;creativity&#x27;, &#x27;goals_conceded&#x27;, &#x27;goals_scored&#x27;, &#x27;ict_index&#x27;, &#x27;influence&#x27;, &#x27;minutes&#x27;, &#x27;own_goals&#x27;, &#x27;penalties_missed&#x27;, &#x27;penalties_saved&#x27;, &#x27;red_cards&#x27;, &#x27;saves&#x27;, &#x27;selected&#x27;, &#x27;team_a_score&#x27;, &#x27;team_h_score&#x27;, &#x27;threat&#x27;, &#x27;total_points&#x27;, &#x27;transfers_balance&#x27;, &#x27;transfers_in&#x27;, &#x27;transfers_out&#x27;, &#x27;value&#x27;, &#x27;yellow_cards&#x27;, &#x27;GW&#x27;]</pre></div></div></div><div class=\"sk-serial\"><div class=\"sk-item\"><div class=\"sk-estimator sk-toggleable\"><input class=\"sk-toggleable__control sk-hidden--visually\" id=\"sk-estimator-id-13\" type=\"checkbox\" ><label for=\"sk-estimator-id-13\" class=\"sk-toggleable__label sk-toggleable__label-arrow\">StandardScaler</label><div class=\"sk-toggleable__content\"><pre>StandardScaler()</pre></div></div></div></div></div></div></div></div><div class=\"sk-item\"><div class=\"sk-estimator sk-toggleable\"><input class=\"sk-toggleable__control sk-hidden--visually\" id=\"sk-estimator-id-14\" type=\"checkbox\" ><label for=\"sk-estimator-id-14\" class=\"sk-toggleable__label sk-toggleable__label-arrow\">KNeighborsClassifier</label><div class=\"sk-toggleable__content\"><pre>KNeighborsClassifier()</pre></div></div></div></div></div></div></div>"
      ],
      "text/plain": [
       "Pipeline(steps=[('preprocessor',\n",
       "                 ColumnTransformer(transformers=[('cat',\n",
       "                                                  OneHotEncoder(handle_unknown='ignore'),\n",
       "                                                  ['season_x', 'team_x',\n",
       "                                                   'opp_team_name']),\n",
       "                                                 ('num', StandardScaler(),\n",
       "                                                  ['assists', 'bonus', 'bps',\n",
       "                                                   'clean_sheets', 'creativity',\n",
       "                                                   'goals_conceded',\n",
       "                                                   'goals_scored', 'ict_index',\n",
       "                                                   'influence', 'minutes',\n",
       "                                                   'own_goals',\n",
       "                                                   'penalties_missed',\n",
       "                                                   'penalties_saved',\n",
       "                                                   'red_cards', 'saves',\n",
       "                                                   'selected', 'team_a_score',\n",
       "                                                   'team_h_score', 'threat',\n",
       "                                                   'total_points',\n",
       "                                                   'transfers_balance',\n",
       "                                                   'transfers_in',\n",
       "                                                   'transfers_out', 'value',\n",
       "                                                   'yellow_cards', 'GW'])])),\n",
       "                ('classifier', KNeighborsClassifier())])"
      ]
     },
     "execution_count": 13,
     "metadata": {},
     "output_type": "execute_result"
    }
   ],
   "source": [
    "# Train the model using the pipeline\n",
    "pipeline.fit(X_train, y_train)\n"
   ]
  },
  {
   "cell_type": "code",
   "execution_count": 14,
   "metadata": {},
   "outputs": [
    {
     "name": "stdout",
     "output_type": "stream",
     "text": [
      "Accuracy: 0.8160377358490566\n"
     ]
    }
   ],
   "source": [
    "# Evaluate the model\n",
    "accuracy = pipeline.score(X_test, y_test)\n",
    "print(\"Accuracy:\", accuracy)\n"
   ]
  },
  {
   "cell_type": "code",
   "execution_count": null,
   "metadata": {},
   "outputs": [],
   "source": []
  }
 ],
 "metadata": {
  "kernelspec": {
   "display_name": "Python 3",
   "language": "python",
   "name": "python3"
  },
  "language_info": {
   "codemirror_mode": {
    "name": "ipython",
    "version": 3
   },
   "file_extension": ".py",
   "mimetype": "text/x-python",
   "name": "python",
   "nbconvert_exporter": "python",
   "pygments_lexer": "ipython3",
   "version": "3.11.5"
  }
 },
 "nbformat": 4,
 "nbformat_minor": 2
}
