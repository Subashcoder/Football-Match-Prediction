{
 "cells": [
  {
   "cell_type": "code",
<<<<<<< HEAD
   "execution_count": 23,
   "metadata": {},
   "outputs": [],
=======
<<<<<<< HEAD
   "execution_count": 1,
=======
   "execution_count": 23,
>>>>>>> 107d17a3946b02980d36f5e725a4dac575f31266
   "metadata": {},
   "outputs": [
    {
     "ename": "ModuleNotFoundError",
     "evalue": "No module named 'pandas'",
     "output_type": "error",
     "traceback": [
      "\u001b[1;31m---------------------------------------------------------------------------\u001b[0m",
      "\u001b[1;31mModuleNotFoundError\u001b[0m                       Traceback (most recent call last)",
      "Cell \u001b[1;32mIn[1], line 1\u001b[0m\n\u001b[1;32m----> 1\u001b[0m \u001b[38;5;28;01mimport\u001b[39;00m \u001b[38;5;21;01mpandas\u001b[39;00m \u001b[38;5;28;01mas\u001b[39;00m \u001b[38;5;21;01mpd\u001b[39;00m\n\u001b[0;32m      2\u001b[0m \u001b[38;5;28;01mimport\u001b[39;00m \u001b[38;5;21;01mnumpy\u001b[39;00m \u001b[38;5;28;01mas\u001b[39;00m \u001b[38;5;21;01mnp\u001b[39;00m\n",
      "\u001b[1;31mModuleNotFoundError\u001b[0m: No module named 'pandas'"
     ]
    }
   ],
>>>>>>> c42ecf8ec5d9075d48504cf513de8116fc8c36f6
   "source": [
    "import pandas as pd\n",
    "import numpy as np"
   ]
  },
  {
   "cell_type": "code",
<<<<<<< HEAD
   "execution_count": 24,
=======
<<<<<<< HEAD
   "execution_count": null,
=======
   "execution_count": 24,
>>>>>>> 107d17a3946b02980d36f5e725a4dac575f31266
>>>>>>> c42ecf8ec5d9075d48504cf513de8116fc8c36f6
   "metadata": {},
   "outputs": [
    {
     "name": "stderr",
     "output_type": "stream",
     "text": [
      "C:\\Users\\subas\\AppData\\Local\\Temp\\ipykernel_17132\\3555470725.py:1: DtypeWarning: Columns (26,58,59) have mixed types. Specify dtype option on import or set low_memory=False.\n",
      "  df_merged = pd.read_csv('Merged_2016_2024.csv')\n"
     ]
    },
    {
     "data": {
      "text/html": [
       "<div>\n",
       "<style scoped>\n",
       "    .dataframe tbody tr th:only-of-type {\n",
       "        vertical-align: middle;\n",
       "    }\n",
       "\n",
       "    .dataframe tbody tr th {\n",
       "        vertical-align: top;\n",
       "    }\n",
       "\n",
       "    .dataframe thead th {\n",
       "        text-align: right;\n",
       "    }\n",
       "</style>\n",
       "<table border=\"1\" class=\"dataframe\">\n",
       "  <thead>\n",
       "    <tr style=\"text-align: right;\">\n",
       "      <th></th>\n",
       "      <th>Unnamed: 0</th>\n",
       "      <th>name</th>\n",
       "      <th>assists</th>\n",
       "      <th>attempted_passes</th>\n",
       "      <th>big_chances_created</th>\n",
       "      <th>big_chances_missed</th>\n",
       "      <th>bonus</th>\n",
       "      <th>bps</th>\n",
       "      <th>clean_sheets</th>\n",
       "      <th>clearances_blocks_interceptions</th>\n",
       "      <th>...</th>\n",
       "      <th>GW</th>\n",
       "      <th>season_x</th>\n",
       "      <th>position</th>\n",
       "      <th>team</th>\n",
       "      <th>xP</th>\n",
       "      <th>expected_assists</th>\n",
       "      <th>expected_goal_involvements</th>\n",
       "      <th>expected_goals</th>\n",
       "      <th>expected_goals_conceded</th>\n",
       "      <th>starts</th>\n",
       "    </tr>\n",
       "  </thead>\n",
       "  <tbody>\n",
       "    <tr>\n",
       "      <th>0</th>\n",
       "      <td>0</td>\n",
       "      <td>Aaron_Cresswell</td>\n",
       "      <td>0</td>\n",
       "      <td>0.0</td>\n",
       "      <td>0.0</td>\n",
       "      <td>0.0</td>\n",
       "      <td>0</td>\n",
       "      <td>0</td>\n",
       "      <td>0</td>\n",
       "      <td>0.0</td>\n",
       "      <td>...</td>\n",
       "      <td>1</td>\n",
       "      <td>2016-17</td>\n",
       "      <td>NaN</td>\n",
       "      <td>NaN</td>\n",
       "      <td>NaN</td>\n",
       "      <td>NaN</td>\n",
       "      <td>NaN</td>\n",
       "      <td>NaN</td>\n",
       "      <td>NaN</td>\n",
       "      <td>NaN</td>\n",
       "    </tr>\n",
       "    <tr>\n",
       "      <th>1</th>\n",
       "      <td>1</td>\n",
       "      <td>Aaron_Lennon</td>\n",
       "      <td>0</td>\n",
       "      <td>3.0</td>\n",
       "      <td>0.0</td>\n",
       "      <td>0.0</td>\n",
       "      <td>0</td>\n",
       "      <td>6</td>\n",
       "      <td>0</td>\n",
       "      <td>1.0</td>\n",
       "      <td>...</td>\n",
       "      <td>1</td>\n",
       "      <td>2016-17</td>\n",
       "      <td>NaN</td>\n",
       "      <td>NaN</td>\n",
       "      <td>NaN</td>\n",
       "      <td>NaN</td>\n",
       "      <td>NaN</td>\n",
       "      <td>NaN</td>\n",
       "      <td>NaN</td>\n",
       "      <td>NaN</td>\n",
       "    </tr>\n",
       "    <tr>\n",
       "      <th>2</th>\n",
       "      <td>2</td>\n",
       "      <td>Aaron_Ramsey</td>\n",
       "      <td>0</td>\n",
       "      <td>26.0</td>\n",
       "      <td>0.0</td>\n",
       "      <td>0.0</td>\n",
       "      <td>0</td>\n",
       "      <td>5</td>\n",
       "      <td>0</td>\n",
       "      <td>2.0</td>\n",
       "      <td>...</td>\n",
       "      <td>1</td>\n",
       "      <td>2016-17</td>\n",
       "      <td>NaN</td>\n",
       "      <td>NaN</td>\n",
       "      <td>NaN</td>\n",
       "      <td>NaN</td>\n",
       "      <td>NaN</td>\n",
       "      <td>NaN</td>\n",
       "      <td>NaN</td>\n",
       "      <td>NaN</td>\n",
       "    </tr>\n",
       "    <tr>\n",
       "      <th>3</th>\n",
       "      <td>3</td>\n",
       "      <td>Abdoulaye_Doucouré</td>\n",
       "      <td>0</td>\n",
       "      <td>0.0</td>\n",
       "      <td>0.0</td>\n",
       "      <td>0.0</td>\n",
       "      <td>0</td>\n",
       "      <td>0</td>\n",
       "      <td>0</td>\n",
       "      <td>0.0</td>\n",
       "      <td>...</td>\n",
       "      <td>1</td>\n",
       "      <td>2016-17</td>\n",
       "      <td>NaN</td>\n",
       "      <td>NaN</td>\n",
       "      <td>NaN</td>\n",
       "      <td>NaN</td>\n",
       "      <td>NaN</td>\n",
       "      <td>NaN</td>\n",
       "      <td>NaN</td>\n",
       "      <td>NaN</td>\n",
       "    </tr>\n",
       "    <tr>\n",
       "      <th>4</th>\n",
       "      <td>4</td>\n",
       "      <td>Abdul Rahman_Baba</td>\n",
       "      <td>0</td>\n",
       "      <td>0.0</td>\n",
       "      <td>0.0</td>\n",
       "      <td>0.0</td>\n",
       "      <td>0</td>\n",
       "      <td>0</td>\n",
       "      <td>0</td>\n",
       "      <td>0.0</td>\n",
       "      <td>...</td>\n",
       "      <td>1</td>\n",
       "      <td>2016-17</td>\n",
       "      <td>NaN</td>\n",
       "      <td>NaN</td>\n",
       "      <td>NaN</td>\n",
       "      <td>NaN</td>\n",
       "      <td>NaN</td>\n",
       "      <td>NaN</td>\n",
       "      <td>NaN</td>\n",
       "      <td>NaN</td>\n",
       "    </tr>\n",
       "  </tbody>\n",
       "</table>\n",
       "<p>5 rows × 66 columns</p>\n",
       "</div>"
      ],
      "text/plain": [
       "   Unnamed: 0                name  assists  attempted_passes  \\\n",
       "0           0     Aaron_Cresswell        0               0.0   \n",
       "1           1        Aaron_Lennon        0               3.0   \n",
       "2           2        Aaron_Ramsey        0              26.0   \n",
       "3           3  Abdoulaye_Doucouré        0               0.0   \n",
       "4           4   Abdul Rahman_Baba        0               0.0   \n",
       "\n",
       "   big_chances_created  big_chances_missed  bonus  bps  clean_sheets  \\\n",
       "0                  0.0                 0.0      0    0             0   \n",
       "1                  0.0                 0.0      0    6             0   \n",
       "2                  0.0                 0.0      0    5             0   \n",
       "3                  0.0                 0.0      0    0             0   \n",
       "4                  0.0                 0.0      0    0             0   \n",
       "\n",
       "   clearances_blocks_interceptions  ...  GW  season_x  position  team  xP  \\\n",
       "0                              0.0  ...   1   2016-17       NaN   NaN NaN   \n",
       "1                              1.0  ...   1   2016-17       NaN   NaN NaN   \n",
       "2                              2.0  ...   1   2016-17       NaN   NaN NaN   \n",
       "3                              0.0  ...   1   2016-17       NaN   NaN NaN   \n",
       "4                              0.0  ...   1   2016-17       NaN   NaN NaN   \n",
       "\n",
       "   expected_assists  expected_goal_involvements  expected_goals  \\\n",
       "0               NaN                         NaN             NaN   \n",
       "1               NaN                         NaN             NaN   \n",
       "2               NaN                         NaN             NaN   \n",
       "3               NaN                         NaN             NaN   \n",
       "4               NaN                         NaN             NaN   \n",
       "\n",
       "   expected_goals_conceded  starts  \n",
       "0                      NaN     NaN  \n",
       "1                      NaN     NaN  \n",
       "2                      NaN     NaN  \n",
       "3                      NaN     NaN  \n",
       "4                      NaN     NaN  \n",
       "\n",
       "[5 rows x 66 columns]"
      ]
     },
     "execution_count": 24,
     "metadata": {},
     "output_type": "execute_result"
    }
   ],
   "source": [
    "df_merged = pd.read_csv('Merged_2016_2024.csv')\n",
    "df_merged.head(5)"
   ]
  },
  {
   "cell_type": "code",
<<<<<<< HEAD
   "execution_count": 25,
=======
<<<<<<< HEAD
   "execution_count": null,
=======
   "execution_count": 25,
>>>>>>> 107d17a3946b02980d36f5e725a4dac575f31266
>>>>>>> c42ecf8ec5d9075d48504cf513de8116fc8c36f6
   "metadata": {},
   "outputs": [
    {
     "data": {
      "text/plain": [
       "Index(['Unnamed: 0', 'name', 'assists', 'attempted_passes',\n",
       "       'big_chances_created', 'big_chances_missed', 'bonus', 'bps',\n",
       "       'clean_sheets', 'clearances_blocks_interceptions', 'completed_passes',\n",
       "       'creativity', 'dribbles', 'ea_index', 'element',\n",
       "       'errors_leading_to_goal', 'errors_leading_to_goal_attempt', 'fixture',\n",
       "       'fouls', 'goals_conceded', 'goals_scored', 'ict_index', 'id',\n",
       "       'influence', 'key_passes', 'kickoff_time', 'kickoff_time_formatted',\n",
       "       'loaned_in', 'loaned_out', 'minutes', 'offside', 'open_play_crosses',\n",
       "       'opponent_team', 'own_goals', 'penalties_conceded', 'penalties_missed',\n",
       "       'penalties_saved', 'recoveries', 'red_cards', 'round', 'saves',\n",
       "       'selected', 'tackled', 'tackles', 'target_missed', 'team_a_score',\n",
       "       'team_h_score', 'threat', 'total_points', 'transfers_balance',\n",
       "       'transfers_in', 'transfers_out', 'value', 'was_home', 'winning_goals',\n",
       "       'yellow_cards', 'GW', 'season_x', 'position', 'team', 'xP',\n",
       "       'expected_assists', 'expected_goal_involvements', 'expected_goals',\n",
       "       'expected_goals_conceded', 'starts'],\n",
       "      dtype='object')"
      ]
     },
     "execution_count": 25,
     "metadata": {},
     "output_type": "execute_result"
    }
   ],
   "source": [
    "df_merged.columns"
   ]
  },
  {
   "cell_type": "code",
   "execution_count": null,
   "metadata": {},
   "outputs": [],
   "source": []
  },
  {
   "cell_type": "code",
<<<<<<< HEAD
   "execution_count": 26,
=======
<<<<<<< HEAD
   "execution_count": null,
=======
   "execution_count": 26,
>>>>>>> 107d17a3946b02980d36f5e725a4dac575f31266
>>>>>>> c42ecf8ec5d9075d48504cf513de8116fc8c36f6
   "metadata": {},
   "outputs": [
    {
     "data": {
      "text/html": [
       "<div>\n",
       "<style scoped>\n",
       "    .dataframe tbody tr th:only-of-type {\n",
       "        vertical-align: middle;\n",
       "    }\n",
       "\n",
       "    .dataframe tbody tr th {\n",
       "        vertical-align: top;\n",
       "    }\n",
       "\n",
       "    .dataframe thead th {\n",
       "        text-align: right;\n",
       "    }\n",
       "</style>\n",
       "<table border=\"1\" class=\"dataframe\">\n",
       "  <thead>\n",
       "    <tr style=\"text-align: right;\">\n",
       "      <th></th>\n",
       "      <th>season_x</th>\n",
       "      <th>name</th>\n",
       "      <th>team</th>\n",
       "      <th>position</th>\n",
       "    </tr>\n",
       "  </thead>\n",
       "  <tbody>\n",
       "    <tr>\n",
       "      <th>0</th>\n",
       "      <td>2016-17</td>\n",
       "      <td>Aaron_Cresswell</td>\n",
       "      <td>NaN</td>\n",
       "      <td>NaN</td>\n",
       "    </tr>\n",
       "    <tr>\n",
       "      <th>1</th>\n",
       "      <td>2016-17</td>\n",
       "      <td>Aaron_Lennon</td>\n",
       "      <td>NaN</td>\n",
       "      <td>NaN</td>\n",
       "    </tr>\n",
       "    <tr>\n",
       "      <th>2</th>\n",
       "      <td>2016-17</td>\n",
       "      <td>Aaron_Ramsey</td>\n",
       "      <td>NaN</td>\n",
       "      <td>NaN</td>\n",
       "    </tr>\n",
       "    <tr>\n",
       "      <th>3</th>\n",
       "      <td>2016-17</td>\n",
       "      <td>Abdoulaye_Doucouré</td>\n",
       "      <td>NaN</td>\n",
       "      <td>NaN</td>\n",
       "    </tr>\n",
       "    <tr>\n",
       "      <th>4</th>\n",
       "      <td>2016-17</td>\n",
       "      <td>Abdul Rahman_Baba</td>\n",
       "      <td>NaN</td>\n",
       "      <td>NaN</td>\n",
       "    </tr>\n",
       "    <tr>\n",
       "      <th>...</th>\n",
       "      <td>...</td>\n",
       "      <td>...</td>\n",
       "      <td>...</td>\n",
       "      <td>...</td>\n",
       "    </tr>\n",
       "    <tr>\n",
       "      <th>95</th>\n",
       "      <td>2016-17</td>\n",
       "      <td>Christian_Fuchs</td>\n",
       "      <td>NaN</td>\n",
       "      <td>NaN</td>\n",
       "    </tr>\n",
       "    <tr>\n",
       "      <th>96</th>\n",
       "      <td>2016-17</td>\n",
       "      <td>Christian_Kabasele</td>\n",
       "      <td>NaN</td>\n",
       "      <td>NaN</td>\n",
       "    </tr>\n",
       "    <tr>\n",
       "      <th>97</th>\n",
       "      <td>2016-17</td>\n",
       "      <td>Chris_Brunt</td>\n",
       "      <td>NaN</td>\n",
       "      <td>NaN</td>\n",
       "    </tr>\n",
       "    <tr>\n",
       "      <th>98</th>\n",
       "      <td>2016-17</td>\n",
       "      <td>Chris_Long</td>\n",
       "      <td>NaN</td>\n",
       "      <td>NaN</td>\n",
       "    </tr>\n",
       "    <tr>\n",
       "      <th>99</th>\n",
       "      <td>2016-17</td>\n",
       "      <td>Chris_Smalling</td>\n",
       "      <td>NaN</td>\n",
       "      <td>NaN</td>\n",
       "    </tr>\n",
       "  </tbody>\n",
       "</table>\n",
       "<p>100 rows × 4 columns</p>\n",
       "</div>"
      ],
      "text/plain": [
       "   season_x                name team position\n",
       "0   2016-17     Aaron_Cresswell  NaN      NaN\n",
       "1   2016-17        Aaron_Lennon  NaN      NaN\n",
       "2   2016-17        Aaron_Ramsey  NaN      NaN\n",
       "3   2016-17  Abdoulaye_Doucouré  NaN      NaN\n",
       "4   2016-17   Abdul Rahman_Baba  NaN      NaN\n",
       "..      ...                 ...  ...      ...\n",
       "95  2016-17     Christian_Fuchs  NaN      NaN\n",
       "96  2016-17  Christian_Kabasele  NaN      NaN\n",
       "97  2016-17         Chris_Brunt  NaN      NaN\n",
       "98  2016-17          Chris_Long  NaN      NaN\n",
       "99  2016-17      Chris_Smalling  NaN      NaN\n",
       "\n",
       "[100 rows x 4 columns]"
      ]
     },
     "execution_count": 26,
     "metadata": {},
     "output_type": "execute_result"
    }
   ],
   "source": [
    "df_merged.loc[df_merged['team'] != '', ['season_x', 'name', 'team', 'position']].head(100)"
   ]
  },
  {
   "cell_type": "code",
<<<<<<< HEAD
   "execution_count": 27,
=======
<<<<<<< HEAD
   "execution_count": null,
=======
   "execution_count": 27,
>>>>>>> 107d17a3946b02980d36f5e725a4dac575f31266
>>>>>>> c42ecf8ec5d9075d48504cf513de8116fc8c36f6
   "metadata": {},
   "outputs": [],
   "source": [
    "    df_merged['name'] = df_merged['name'].str.replace(r'\\d+', '')\n",
    "    df_merged['name'] =df_merged['name'].str.replace('_',\" \")\n",
    "    df_merged['name'] = df_merged['name'].str.replace(r'\\d+', '')\n",
    "    df_merged['name'] = df_merged['name'].str.strip()\n",
    "    df_merged['name'] = df_merged['name'].str.replace(r'\\d+', '')"
   ]
  },
  {
   "cell_type": "code",
<<<<<<< HEAD
   "execution_count": 28,
=======
<<<<<<< HEAD
   "execution_count": null,
=======
   "execution_count": 28,
>>>>>>> 107d17a3946b02980d36f5e725a4dac575f31266
>>>>>>> c42ecf8ec5d9075d48504cf513de8116fc8c36f6
   "metadata": {},
   "outputs": [
    {
     "data": {
      "text/html": [
       "<div>\n",
       "<style scoped>\n",
       "    .dataframe tbody tr th:only-of-type {\n",
       "        vertical-align: middle;\n",
       "    }\n",
       "\n",
       "    .dataframe tbody tr th {\n",
       "        vertical-align: top;\n",
       "    }\n",
       "\n",
       "    .dataframe thead th {\n",
       "        text-align: right;\n",
       "    }\n",
       "</style>\n",
       "<table border=\"1\" class=\"dataframe\">\n",
       "  <thead>\n",
       "    <tr style=\"text-align: right;\">\n",
       "      <th></th>\n",
       "      <th>season_x</th>\n",
       "      <th>name</th>\n",
       "      <th>team</th>\n",
       "      <th>position</th>\n",
       "    </tr>\n",
       "  </thead>\n",
       "  <tbody>\n",
       "    <tr>\n",
       "      <th>0</th>\n",
       "      <td>2016-17</td>\n",
       "      <td>Aaron Cresswell</td>\n",
       "      <td>NaN</td>\n",
       "      <td>NaN</td>\n",
       "    </tr>\n",
       "    <tr>\n",
       "      <th>1</th>\n",
       "      <td>2016-17</td>\n",
       "      <td>Aaron Lennon</td>\n",
       "      <td>NaN</td>\n",
       "      <td>NaN</td>\n",
       "    </tr>\n",
       "    <tr>\n",
       "      <th>2</th>\n",
       "      <td>2016-17</td>\n",
       "      <td>Aaron Ramsey</td>\n",
       "      <td>NaN</td>\n",
       "      <td>NaN</td>\n",
       "    </tr>\n",
       "    <tr>\n",
       "      <th>3</th>\n",
       "      <td>2016-17</td>\n",
       "      <td>Abdoulaye Doucouré</td>\n",
       "      <td>NaN</td>\n",
       "      <td>NaN</td>\n",
       "    </tr>\n",
       "    <tr>\n",
       "      <th>4</th>\n",
       "      <td>2016-17</td>\n",
       "      <td>Abdul Rahman Baba</td>\n",
       "      <td>NaN</td>\n",
       "      <td>NaN</td>\n",
       "    </tr>\n",
       "    <tr>\n",
       "      <th>...</th>\n",
       "      <td>...</td>\n",
       "      <td>...</td>\n",
       "      <td>...</td>\n",
       "      <td>...</td>\n",
       "    </tr>\n",
       "    <tr>\n",
       "      <th>95</th>\n",
       "      <td>2016-17</td>\n",
       "      <td>Christian Fuchs</td>\n",
       "      <td>NaN</td>\n",
       "      <td>NaN</td>\n",
       "    </tr>\n",
       "    <tr>\n",
       "      <th>96</th>\n",
       "      <td>2016-17</td>\n",
       "      <td>Christian Kabasele</td>\n",
       "      <td>NaN</td>\n",
       "      <td>NaN</td>\n",
       "    </tr>\n",
       "    <tr>\n",
       "      <th>97</th>\n",
       "      <td>2016-17</td>\n",
       "      <td>Chris Brunt</td>\n",
       "      <td>NaN</td>\n",
       "      <td>NaN</td>\n",
       "    </tr>\n",
       "    <tr>\n",
       "      <th>98</th>\n",
       "      <td>2016-17</td>\n",
       "      <td>Chris Long</td>\n",
       "      <td>NaN</td>\n",
       "      <td>NaN</td>\n",
       "    </tr>\n",
       "    <tr>\n",
       "      <th>99</th>\n",
       "      <td>2016-17</td>\n",
       "      <td>Chris Smalling</td>\n",
       "      <td>NaN</td>\n",
       "      <td>NaN</td>\n",
       "    </tr>\n",
       "  </tbody>\n",
       "</table>\n",
       "<p>100 rows × 4 columns</p>\n",
       "</div>"
      ],
      "text/plain": [
       "   season_x                name team position\n",
       "0   2016-17     Aaron Cresswell  NaN      NaN\n",
       "1   2016-17        Aaron Lennon  NaN      NaN\n",
       "2   2016-17        Aaron Ramsey  NaN      NaN\n",
       "3   2016-17  Abdoulaye Doucouré  NaN      NaN\n",
       "4   2016-17   Abdul Rahman Baba  NaN      NaN\n",
       "..      ...                 ...  ...      ...\n",
       "95  2016-17     Christian Fuchs  NaN      NaN\n",
       "96  2016-17  Christian Kabasele  NaN      NaN\n",
       "97  2016-17         Chris Brunt  NaN      NaN\n",
       "98  2016-17          Chris Long  NaN      NaN\n",
       "99  2016-17      Chris Smalling  NaN      NaN\n",
       "\n",
       "[100 rows x 4 columns]"
      ]
     },
     "execution_count": 28,
     "metadata": {},
     "output_type": "execute_result"
    }
   ],
   "source": [
    "df_merged.loc[df_merged['team'] != '', ['season_x', 'name', 'team', 'position']].head(100)"
   ]
  },
  {
   "cell_type": "code",
<<<<<<< HEAD
   "execution_count": 29,
=======
<<<<<<< HEAD
   "execution_count": null,
=======
   "execution_count": 29,
>>>>>>> 107d17a3946b02980d36f5e725a4dac575f31266
>>>>>>> c42ecf8ec5d9075d48504cf513de8116fc8c36f6
   "metadata": {},
   "outputs": [
    {
     "data": {
      "text/html": [
       "<div>\n",
       "<style scoped>\n",
       "    .dataframe tbody tr th:only-of-type {\n",
       "        vertical-align: middle;\n",
       "    }\n",
       "\n",
       "    .dataframe tbody tr th {\n",
       "        vertical-align: top;\n",
       "    }\n",
       "\n",
       "    .dataframe thead th {\n",
       "        text-align: right;\n",
       "    }\n",
       "</style>\n",
       "<table border=\"1\" class=\"dataframe\">\n",
       "  <thead>\n",
       "    <tr style=\"text-align: right;\">\n",
       "      <th></th>\n",
       "      <th>season_x</th>\n",
       "      <th>name</th>\n",
       "      <th>team</th>\n",
       "      <th>opponent_team</th>\n",
       "    </tr>\n",
       "  </thead>\n",
       "  <tbody>\n",
       "    <tr>\n",
       "      <th>0</th>\n",
       "      <td>2016-17</td>\n",
       "      <td>Aaron Cresswell</td>\n",
       "      <td>NaN</td>\n",
       "      <td>4</td>\n",
       "    </tr>\n",
       "    <tr>\n",
       "      <th>1</th>\n",
       "      <td>2016-17</td>\n",
       "      <td>Aaron Lennon</td>\n",
       "      <td>NaN</td>\n",
       "      <td>17</td>\n",
       "    </tr>\n",
       "    <tr>\n",
       "      <th>2</th>\n",
       "      <td>2016-17</td>\n",
       "      <td>Aaron Ramsey</td>\n",
       "      <td>NaN</td>\n",
       "      <td>9</td>\n",
       "    </tr>\n",
       "    <tr>\n",
       "      <th>3</th>\n",
       "      <td>2016-17</td>\n",
       "      <td>Abdoulaye Doucouré</td>\n",
       "      <td>NaN</td>\n",
       "      <td>13</td>\n",
       "    </tr>\n",
       "    <tr>\n",
       "      <th>4</th>\n",
       "      <td>2016-17</td>\n",
       "      <td>Abdul Rahman Baba</td>\n",
       "      <td>NaN</td>\n",
       "      <td>20</td>\n",
       "    </tr>\n",
       "    <tr>\n",
       "      <th>...</th>\n",
       "      <td>...</td>\n",
       "      <td>...</td>\n",
       "      <td>...</td>\n",
       "      <td>...</td>\n",
       "    </tr>\n",
       "    <tr>\n",
       "      <th>187242</th>\n",
       "      <td>2023-24</td>\n",
       "      <td>Jacob Brown</td>\n",
       "      <td>Luton</td>\n",
       "      <td>8</td>\n",
       "    </tr>\n",
       "    <tr>\n",
       "      <th>187243</th>\n",
       "      <td>2023-24</td>\n",
       "      <td>Jacob Brown</td>\n",
       "      <td>Luton</td>\n",
       "      <td>3</td>\n",
       "    </tr>\n",
       "    <tr>\n",
       "      <th>187244</th>\n",
       "      <td>2023-24</td>\n",
       "      <td>Vicente Guaita</td>\n",
       "      <td>Crystal Palace</td>\n",
       "      <td>12</td>\n",
       "    </tr>\n",
       "    <tr>\n",
       "      <th>187245</th>\n",
       "      <td>2023-24</td>\n",
       "      <td>Braian Ojeda RodrÃ­guez</td>\n",
       "      <td>Nott'm Forest</td>\n",
       "      <td>5</td>\n",
       "    </tr>\n",
       "    <tr>\n",
       "      <th>187246</th>\n",
       "      <td>2023-24</td>\n",
       "      <td>Mads Bech SÃ¸rensen</td>\n",
       "      <td>Brentford</td>\n",
       "      <td>1</td>\n",
       "    </tr>\n",
       "  </tbody>\n",
       "</table>\n",
       "<p>187247 rows × 4 columns</p>\n",
       "</div>"
      ],
      "text/plain": [
       "       season_x                     name            team  opponent_team\n",
       "0       2016-17          Aaron Cresswell             NaN              4\n",
       "1       2016-17             Aaron Lennon             NaN             17\n",
       "2       2016-17             Aaron Ramsey             NaN              9\n",
       "3       2016-17       Abdoulaye Doucouré             NaN             13\n",
       "4       2016-17        Abdul Rahman Baba             NaN             20\n",
       "...         ...                      ...             ...            ...\n",
       "187242  2023-24              Jacob Brown           Luton              8\n",
       "187243  2023-24              Jacob Brown           Luton              3\n",
       "187244  2023-24           Vicente Guaita  Crystal Palace             12\n",
       "187245  2023-24  Braian Ojeda RodrÃ­guez   Nott'm Forest              5\n",
       "187246  2023-24      Mads Bech SÃ¸rensen       Brentford              1\n",
       "\n",
       "[187247 rows x 4 columns]"
      ]
     },
     "execution_count": 29,
     "metadata": {},
     "output_type": "execute_result"
    }
   ],
   "source": [
    "df_merged[['season_x', 'name', 'team','opponent_team']]"
   ]
  },
  {
   "cell_type": "code",
<<<<<<< HEAD
   "execution_count": 30,
=======
<<<<<<< HEAD
   "execution_count": null,
=======
   "execution_count": 30,
>>>>>>> 107d17a3946b02980d36f5e725a4dac575f31266
>>>>>>> c42ecf8ec5d9075d48504cf513de8116fc8c36f6
   "metadata": {},
   "outputs": [],
   "source": [
    "player_team_mapping = df_merged.groupby('name')['team'].last().to_dict()\n",
    "\n",
    "df_merged_new = df_merged.copy()\n",
    "# Then, fill the NaN values in the 'team' column using the mapping\n",
    "df_merged_new['team'] = df_merged_new.apply(lambda row: player_team_mapping[row['name']] if pd.isnull(row['team']) else row['team'], axis=1)\n",
    "\n",
    "# Now, the NaN values in the 'team' column should be filled with the corresponding non-null values for each player"
   ]
  },
  {
   "cell_type": "code",
<<<<<<< HEAD
   "execution_count": 31,
=======
<<<<<<< HEAD
   "execution_count": null,
=======
   "execution_count": 31,
>>>>>>> 107d17a3946b02980d36f5e725a4dac575f31266
>>>>>>> c42ecf8ec5d9075d48504cf513de8116fc8c36f6
   "metadata": {},
   "outputs": [],
   "source": [
    "from pyspark.sql import SparkSession\n",
    "from pyspark.sql.functions import col, column\n",
    "spark = SparkSession.builder.config('spark.executor.instances', 4).getOrCreate()\n",
    "sparkContext=spark.sparkContext\n",
    "\n"
   ]
  },
  {
   "cell_type": "code",
<<<<<<< HEAD
   "execution_count": 32,
=======
<<<<<<< HEAD
   "execution_count": null,
=======
   "execution_count": 32,
>>>>>>> 107d17a3946b02980d36f5e725a4dac575f31266
>>>>>>> c42ecf8ec5d9075d48504cf513de8116fc8c36f6
   "metadata": {},
   "outputs": [
    {
     "name": "stderr",
     "output_type": "stream",
     "text": [
      "c:\\Users\\subas\\AppData\\Local\\Programs\\Python\\Python311\\Lib\\site-packages\\pyspark\\sql\\pandas\\conversion.py:485: FutureWarning: is_datetime64tz_dtype is deprecated and will be removed in a future version. Check `isinstance(dtype, pd.DatetimeTZDtype)` instead.\n",
      "  if should_localize and is_datetime64tz_dtype(s.dtype) and s.dt.tz is not None:\n"
     ]
    }
   ],
   "source": [
    "spark_df = spark.createDataFrame(df_merged_new)\n",
    "spark_df.createOrReplaceTempView(\"df_merged_new\")\n",
    "spark_df_second = spark.createDataFrame(df_merged)\n",
    "spark_df_second.createOrReplaceTempView(\"df_merged\")\n"
   ]
  },
  {
   "cell_type": "code",
<<<<<<< HEAD
=======
<<<<<<< HEAD
   "execution_count": null,
=======
>>>>>>> c42ecf8ec5d9075d48504cf513de8116fc8c36f6
   "execution_count": 44,
   "metadata": {},
   "outputs": [
    {
     "data": {
      "text/html": [
       "<div>\n",
       "<style scoped>\n",
       "    .dataframe tbody tr th:only-of-type {\n",
       "        vertical-align: middle;\n",
       "    }\n",
       "\n",
       "    .dataframe tbody tr th {\n",
       "        vertical-align: top;\n",
       "    }\n",
       "\n",
       "    .dataframe thead th {\n",
       "        text-align: right;\n",
       "    }\n",
       "</style>\n",
       "<table border=\"1\" class=\"dataframe\">\n",
       "  <thead>\n",
       "    <tr style=\"text-align: right;\">\n",
       "      <th></th>\n",
       "      <th>season</th>\n",
       "      <th>team</th>\n",
       "      <th>team_name</th>\n",
       "    </tr>\n",
       "  </thead>\n",
       "  <tbody>\n",
       "    <tr>\n",
       "      <th>0</th>\n",
       "      <td>2016-17</td>\n",
       "      <td>1</td>\n",
       "      <td>Arsenal</td>\n",
       "    </tr>\n",
       "    <tr>\n",
       "      <th>1</th>\n",
       "      <td>2016-17</td>\n",
       "      <td>2</td>\n",
       "      <td>Bournemouth</td>\n",
       "    </tr>\n",
       "    <tr>\n",
       "      <th>2</th>\n",
       "      <td>2016-17</td>\n",
       "      <td>3</td>\n",
       "      <td>Burnley</td>\n",
       "    </tr>\n",
       "    <tr>\n",
       "      <th>3</th>\n",
       "      <td>2016-17</td>\n",
       "      <td>4</td>\n",
       "      <td>Chelsea</td>\n",
       "    </tr>\n",
       "    <tr>\n",
       "      <th>4</th>\n",
       "      <td>2016-17</td>\n",
       "      <td>5</td>\n",
       "      <td>Crystal Palace</td>\n",
       "    </tr>\n",
       "    <tr>\n",
       "      <th>...</th>\n",
       "      <td>...</td>\n",
       "      <td>...</td>\n",
       "      <td>...</td>\n",
       "    </tr>\n",
       "    <tr>\n",
       "      <th>135</th>\n",
       "      <td>2022-23</td>\n",
       "      <td>16</td>\n",
       "      <td>Nott'm Forest</td>\n",
       "    </tr>\n",
       "    <tr>\n",
       "      <th>136</th>\n",
       "      <td>2022-23</td>\n",
       "      <td>17</td>\n",
       "      <td>Southampton</td>\n",
       "    </tr>\n",
       "    <tr>\n",
       "      <th>137</th>\n",
       "      <td>2022-23</td>\n",
       "      <td>18</td>\n",
       "      <td>Spurs</td>\n",
       "    </tr>\n",
       "    <tr>\n",
       "      <th>138</th>\n",
       "      <td>2022-23</td>\n",
       "      <td>19</td>\n",
       "      <td>West Ham</td>\n",
       "    </tr>\n",
       "    <tr>\n",
       "      <th>139</th>\n",
       "      <td>2022-23</td>\n",
       "      <td>20</td>\n",
       "      <td>Wolves</td>\n",
       "    </tr>\n",
       "  </tbody>\n",
       "</table>\n",
       "<p>140 rows × 3 columns</p>\n",
       "</div>"
      ],
      "text/plain": [
       "      season  team       team_name\n",
       "0    2016-17     1         Arsenal\n",
       "1    2016-17     2     Bournemouth\n",
       "2    2016-17     3         Burnley\n",
       "3    2016-17     4         Chelsea\n",
       "4    2016-17     5  Crystal Palace\n",
       "..       ...   ...             ...\n",
       "135  2022-23    16   Nott'm Forest\n",
       "136  2022-23    17     Southampton\n",
       "137  2022-23    18           Spurs\n",
       "138  2022-23    19        West Ham\n",
       "139  2022-23    20          Wolves\n",
       "\n",
       "[140 rows x 3 columns]"
      ]
     },
     "execution_count": 44,
     "metadata": {},
     "output_type": "execute_result"
    }
   ],
   "source": [
    "path = 'Data/data/master_team_list.csv'\n",
    "new_df = pd.read_csv(path)\n",
    "new_df"
   ]
  },
  {
   "cell_type": "code",
   "execution_count": 53,
<<<<<<< HEAD
=======
>>>>>>> 107d17a3946b02980d36f5e725a4dac575f31266
>>>>>>> c42ecf8ec5d9075d48504cf513de8116fc8c36f6
   "metadata": {},
   "outputs": [
    {
     "data": {
      "text/plain": [
       "Index(['Unnamed: 0', 'name', 'assists', 'attempted_passes',\n",
       "       'big_chances_created', 'big_chances_missed', 'bonus', 'bps',\n",
       "       'clean_sheets', 'clearances_blocks_interceptions', 'completed_passes',\n",
       "       'creativity', 'dribbles', 'ea_index', 'element',\n",
       "       'errors_leading_to_goal', 'errors_leading_to_goal_attempt', 'fixture',\n",
       "       'fouls', 'goals_conceded', 'goals_scored', 'ict_index', 'id',\n",
       "       'influence', 'key_passes', 'kickoff_time', 'kickoff_time_formatted',\n",
       "       'loaned_in', 'loaned_out', 'minutes', 'offside', 'open_play_crosses',\n",
       "       'opponent_team', 'own_goals', 'penalties_conceded', 'penalties_missed',\n",
       "       'penalties_saved', 'recoveries', 'red_cards', 'round', 'saves',\n",
       "       'selected', 'tackled', 'tackles', 'target_missed', 'team_a_score',\n",
       "       'team_h_score', 'threat', 'total_points', 'transfers_balance',\n",
       "       'transfers_in', 'transfers_out', 'value', 'was_home', 'winning_goals',\n",
       "       'yellow_cards', 'GW', 'season_x', 'position', 'team', 'xP',\n",
       "       'expected_assists', 'expected_goal_involvements', 'expected_goals',\n",
       "       'expected_goals_conceded', 'starts'],\n",
       "      dtype='object')"
      ]
     },
     "execution_count": 53,
     "metadata": {},
     "output_type": "execute_result"
    }
   ],
   "source": [
    "df_merged_new.columns"
   ]
  },
  {
   "cell_type": "code",
<<<<<<< HEAD
=======
<<<<<<< HEAD
   "execution_count": null,
=======
>>>>>>> c42ecf8ec5d9075d48504cf513de8116fc8c36f6
   "execution_count": 55,
   "metadata": {},
   "outputs": [
    {
     "name": "stdout",
     "output_type": "stream",
     "text": [
      "+--------+--------+\n",
      "|season_x|count(1)|\n",
      "+--------+--------+\n",
      "| 2016-17|   23679|\n",
      "| 2017-18|   22467|\n",
      "| 2018-19|   21790|\n",
      "| 2019-20|   22560|\n",
      "| 2020-21|   24365|\n",
      "| 2021-22|   25447|\n",
      "| 2022-23|   26505|\n",
      "| 2023-24|   20434|\n",
      "+--------+--------+\n",
      "\n"
     ]
    }
   ],
   "source": [
    "spark.sql(\"select season_x, COUNT(*)  from df_merged_new group by 1\").show()"
   ]
  },
  {
   "cell_type": "code",
   "execution_count": 34,
<<<<<<< HEAD
=======
>>>>>>> 107d17a3946b02980d36f5e725a4dac575f31266
>>>>>>> c42ecf8ec5d9075d48504cf513de8116fc8c36f6
   "metadata": {},
   "outputs": [
    {
     "name": "stdout",
     "output_type": "stream",
     "text": [
      "+--------+--------------------+\n",
      "|season_x|                name|\n",
      "+--------+--------------------+\n",
      "| 2016-17|      Etienne Capoue|\n",
      "| 2016-17|     Papy Djilobodji|\n",
      "| 2016-17|        Didier Ndong|\n",
      "| 2016-17|          Almen Abdi|\n",
      "| 2016-17|       Dimitri Payet|\n",
      "| 2016-17|         Ikechi Anya|\n",
      "| 2016-17|  Federico Fernández|\n",
      "| 2016-17|       Ramadan Sobhi|\n",
      "| 2016-17|        Modou Barrow|\n",
      "| 2016-17|   Costel Pantilimon|\n",
      "| 2016-17|          Jordon Ibe|\n",
      "| 2016-17|        Carl Stewart|\n",
      "| 2016-17|    Fraizer Campbell|\n",
      "| 2016-17|        Bacary Sagna|\n",
      "| 2016-17|Bastian Schweinst...|\n",
      "| 2016-17|    Marco Van Ginkel|\n",
      "| 2016-17|     Mathieu Debuchy|\n",
      "| 2016-17|       Younes Kaboul|\n",
      "| 2016-17|         Chuba Akpom|\n",
      "| 2016-17|     Cristian Gamboa|\n",
      "+--------+--------------------+\n",
      "\n"
     ]
    }
   ],
   "source": [
    "spark.sql(\"select season_x, name from df_merged_new where team IS NULL group by name,season_x limit 20\").show()\n",
    "\n"
   ]
  },
  {
   "cell_type": "code",
<<<<<<< HEAD
   "execution_count": 35,
=======
<<<<<<< HEAD
   "execution_count": null,
=======
   "execution_count": 35,
>>>>>>> 107d17a3946b02980d36f5e725a4dac575f31266
>>>>>>> c42ecf8ec5d9075d48504cf513de8116fc8c36f6
   "metadata": {},
   "outputs": [
    {
     "name": "stdout",
     "output_type": "stream",
     "text": [
      "+--------------+----+\n",
      "|          name|team|\n",
      "+--------------+----+\n",
      "|Luis Hernández|NULL|\n",
      "|James Morrison|NULL|\n",
      "+--------------+----+\n",
      "\n"
     ]
    }
   ],
   "source": [
    "spark.sql(\"SELECT name, team from df_merged_new where name in ('James Morrison','Luis Hernández') group by name,team\").show()"
   ]
  },
  {
   "cell_type": "code",
<<<<<<< HEAD
   "execution_count": 36,
=======
<<<<<<< HEAD
   "execution_count": null,
=======
   "execution_count": 36,
>>>>>>> 107d17a3946b02980d36f5e725a4dac575f31266
>>>>>>> c42ecf8ec5d9075d48504cf513de8116fc8c36f6
   "metadata": {},
   "outputs": [
    {
     "name": "stdout",
     "output_type": "stream",
     "text": [
      "+--------+\n",
      "|count(1)|\n",
      "+--------+\n",
      "|  187247|\n",
      "+--------+\n",
      "\n"
     ]
    }
   ],
   "source": [
    "spark.sql(\"SELECT count(*) from df_merged_new\").show()\n"
   ]
  },
  {
   "cell_type": "code",
<<<<<<< HEAD
   "execution_count": 37,
=======
<<<<<<< HEAD
   "execution_count": null,
=======
   "execution_count": 37,
>>>>>>> 107d17a3946b02980d36f5e725a4dac575f31266
>>>>>>> c42ecf8ec5d9075d48504cf513de8116fc8c36f6
   "metadata": {},
   "outputs": [
    {
     "name": "stdout",
     "output_type": "stream",
     "text": [
      "+-----------+\n",
      "|count(name)|\n",
      "+-----------+\n",
      "|      72105|\n",
      "+-----------+\n",
      "\n"
     ]
    }
   ],
   "source": [
    "spark.sql(\"SELECT count(name) from df_merged_new where team is NULL\").show()"
   ]
  },
  {
   "cell_type": "code",
<<<<<<< HEAD
   "execution_count": 38,
=======
<<<<<<< HEAD
   "execution_count": null,
=======
   "execution_count": 38,
>>>>>>> 107d17a3946b02980d36f5e725a4dac575f31266
>>>>>>> c42ecf8ec5d9075d48504cf513de8116fc8c36f6
   "metadata": {},
   "outputs": [
    {
     "data": {
      "text/plain": [
       "Index(['Unnamed: 0', 'name', 'assists', 'attempted_passes',\n",
       "       'big_chances_created', 'big_chances_missed', 'bonus', 'bps',\n",
       "       'clean_sheets', 'clearances_blocks_interceptions', 'completed_passes',\n",
       "       'creativity', 'dribbles', 'ea_index', 'element',\n",
       "       'errors_leading_to_goal', 'errors_leading_to_goal_attempt', 'fixture',\n",
       "       'fouls', 'goals_conceded', 'goals_scored', 'ict_index', 'id',\n",
       "       'influence', 'key_passes', 'kickoff_time', 'kickoff_time_formatted',\n",
       "       'loaned_in', 'loaned_out', 'minutes', 'offside', 'open_play_crosses',\n",
       "       'opponent_team', 'own_goals', 'penalties_conceded', 'penalties_missed',\n",
       "       'penalties_saved', 'recoveries', 'red_cards', 'round', 'saves',\n",
       "       'selected', 'tackled', 'tackles', 'target_missed', 'team_a_score',\n",
       "       'team_h_score', 'threat', 'total_points', 'transfers_balance',\n",
       "       'transfers_in', 'transfers_out', 'value', 'was_home', 'winning_goals',\n",
       "       'yellow_cards', 'GW', 'season_x', 'position', 'team', 'xP',\n",
       "       'expected_assists', 'expected_goal_involvements', 'expected_goals',\n",
       "       'expected_goals_conceded', 'starts'],\n",
       "      dtype='object')"
      ]
     },
     "execution_count": 38,
     "metadata": {},
     "output_type": "execute_result"
    }
   ],
   "source": [
    "df_merged.columns"
   ]
  },
  {
   "cell_type": "code",
<<<<<<< HEAD
   "execution_count": 39,
=======
<<<<<<< HEAD
   "execution_count": null,
=======
   "execution_count": 39,
>>>>>>> 107d17a3946b02980d36f5e725a4dac575f31266
>>>>>>> c42ecf8ec5d9075d48504cf513de8116fc8c36f6
   "metadata": {},
   "outputs": [
    {
     "name": "stdout",
     "output_type": "stream",
     "text": [
      "+--------+-----------+\n",
      "|season_x|count(name)|\n",
      "+--------+-----------+\n",
      "| 2016-17|      23679|\n",
      "| 2017-18|      22467|\n",
      "| 2018-19|      21790|\n",
      "| 2019-20|      22560|\n",
      "+--------+-----------+\n",
      "\n"
     ]
    }
   ],
   "source": [
    "spark.sql(\"Select season_x, count(name) from df_merged where team = 'NaN' group by season_x limit 20\").show()"
   ]
  },
  {
   "cell_type": "code",
   "execution_count": 50,
   "metadata": {},
   "outputs": [
    {
     "ename": "ParseException",
     "evalue": "\n[PARSE_SYNTAX_ERROR] Syntax error at or near 'FROM'.(line 4, pos 0)\n\n== SQL ==\n\nUPDATE df_merged_new t1\nSET t1.team = t2.team\nFROM df_merged_new t1\n^^^\nJOIN df_merged_new t2 ON t1.name = t2.name\nWHERE t1.team IS NULL\n  AND t2.team IS NOT NULL\n  AND t1.season_x in ('2016-17','2017-18', '2018-19', '2019-20' )\n  AND t2.season_x in ('2020-21','2021-22', '2022-23','2023-24')\n  \n",
     "output_type": "error",
     "traceback": [
      "\u001b[1;31m---------------------------------------------------------------------------\u001b[0m",
      "\u001b[1;31mParseException\u001b[0m                            Traceback (most recent call last)",
      "Cell \u001b[1;32mIn[50], line 1\u001b[0m\n\u001b[1;32m----> 1\u001b[0m \u001b[43mspark\u001b[49m\u001b[38;5;241;43m.\u001b[39;49m\u001b[43msql\u001b[49m\u001b[43m(\u001b[49m\u001b[38;5;124;43m'''\u001b[39;49m\n\u001b[0;32m      2\u001b[0m \u001b[38;5;124;43mUPDATE df_merged_new t1\u001b[39;49m\n\u001b[0;32m      3\u001b[0m \u001b[38;5;124;43mSET t1.team = t2.team\u001b[39;49m\n\u001b[0;32m      4\u001b[0m \u001b[38;5;124;43mFROM df_merged_new t1\u001b[39;49m\n\u001b[0;32m      5\u001b[0m \u001b[38;5;124;43mJOIN df_merged_new t2 ON t1.name = t2.name\u001b[39;49m\n\u001b[0;32m      6\u001b[0m \u001b[38;5;124;43mWHERE t1.team IS NULL\u001b[39;49m\n\u001b[0;32m      7\u001b[0m \u001b[38;5;124;43m  AND t2.team IS NOT NULL\u001b[39;49m\n\u001b[0;32m      8\u001b[0m \u001b[38;5;124;43m  AND t1.season_x in (\u001b[39;49m\u001b[38;5;124;43m'\u001b[39;49m\u001b[38;5;124;43m2016-17\u001b[39;49m\u001b[38;5;124;43m'\u001b[39;49m\u001b[38;5;124;43m,\u001b[39;49m\u001b[38;5;124;43m'\u001b[39;49m\u001b[38;5;124;43m2017-18\u001b[39;49m\u001b[38;5;124;43m'\u001b[39;49m\u001b[38;5;124;43m, \u001b[39;49m\u001b[38;5;124;43m'\u001b[39;49m\u001b[38;5;124;43m2018-19\u001b[39;49m\u001b[38;5;124;43m'\u001b[39;49m\u001b[38;5;124;43m, \u001b[39;49m\u001b[38;5;124;43m'\u001b[39;49m\u001b[38;5;124;43m2019-20\u001b[39;49m\u001b[38;5;124;43m'\u001b[39;49m\u001b[38;5;124;43m )\u001b[39;49m\n\u001b[0;32m      9\u001b[0m \u001b[38;5;124;43m  AND t2.season_x in (\u001b[39;49m\u001b[38;5;124;43m'\u001b[39;49m\u001b[38;5;124;43m2020-21\u001b[39;49m\u001b[38;5;124;43m'\u001b[39;49m\u001b[38;5;124;43m,\u001b[39;49m\u001b[38;5;124;43m'\u001b[39;49m\u001b[38;5;124;43m2021-22\u001b[39;49m\u001b[38;5;124;43m'\u001b[39;49m\u001b[38;5;124;43m, \u001b[39;49m\u001b[38;5;124;43m'\u001b[39;49m\u001b[38;5;124;43m2022-23\u001b[39;49m\u001b[38;5;124;43m'\u001b[39;49m\u001b[38;5;124;43m,\u001b[39;49m\u001b[38;5;124;43m'\u001b[39;49m\u001b[38;5;124;43m2023-24\u001b[39;49m\u001b[38;5;124;43m'\u001b[39;49m\u001b[38;5;124;43m)\u001b[39;49m\n\u001b[0;32m     10\u001b[0m \u001b[38;5;124;43m  \u001b[39;49m\u001b[38;5;124;43m'''\u001b[39;49m\u001b[43m)\u001b[49m\n",
      "File \u001b[1;32mc:\\Users\\subas\\AppData\\Local\\Programs\\Python\\Python311\\Lib\\site-packages\\pyspark\\sql\\session.py:1631\u001b[0m, in \u001b[0;36mSparkSession.sql\u001b[1;34m(self, sqlQuery, args, **kwargs)\u001b[0m\n\u001b[0;32m   1627\u001b[0m         \u001b[38;5;28;01massert\u001b[39;00m \u001b[38;5;28mself\u001b[39m\u001b[38;5;241m.\u001b[39m_jvm \u001b[38;5;129;01mis\u001b[39;00m \u001b[38;5;129;01mnot\u001b[39;00m \u001b[38;5;28;01mNone\u001b[39;00m\n\u001b[0;32m   1628\u001b[0m         litArgs \u001b[38;5;241m=\u001b[39m \u001b[38;5;28mself\u001b[39m\u001b[38;5;241m.\u001b[39m_jvm\u001b[38;5;241m.\u001b[39mPythonUtils\u001b[38;5;241m.\u001b[39mtoArray(\n\u001b[0;32m   1629\u001b[0m             [_to_java_column(lit(v)) \u001b[38;5;28;01mfor\u001b[39;00m v \u001b[38;5;129;01min\u001b[39;00m (args \u001b[38;5;129;01mor\u001b[39;00m [])]\n\u001b[0;32m   1630\u001b[0m         )\n\u001b[1;32m-> 1631\u001b[0m     \u001b[38;5;28;01mreturn\u001b[39;00m DataFrame(\u001b[38;5;28;43mself\u001b[39;49m\u001b[38;5;241;43m.\u001b[39;49m\u001b[43m_jsparkSession\u001b[49m\u001b[38;5;241;43m.\u001b[39;49m\u001b[43msql\u001b[49m\u001b[43m(\u001b[49m\u001b[43msqlQuery\u001b[49m\u001b[43m,\u001b[49m\u001b[43m \u001b[49m\u001b[43mlitArgs\u001b[49m\u001b[43m)\u001b[49m, \u001b[38;5;28mself\u001b[39m)\n\u001b[0;32m   1632\u001b[0m \u001b[38;5;28;01mfinally\u001b[39;00m:\n\u001b[0;32m   1633\u001b[0m     \u001b[38;5;28;01mif\u001b[39;00m \u001b[38;5;28mlen\u001b[39m(kwargs) \u001b[38;5;241m>\u001b[39m \u001b[38;5;241m0\u001b[39m:\n",
      "File \u001b[1;32mc:\\Users\\subas\\AppData\\Local\\Programs\\Python\\Python311\\Lib\\site-packages\\py4j\\java_gateway.py:1322\u001b[0m, in \u001b[0;36mJavaMember.__call__\u001b[1;34m(self, *args)\u001b[0m\n\u001b[0;32m   1316\u001b[0m command \u001b[38;5;241m=\u001b[39m proto\u001b[38;5;241m.\u001b[39mCALL_COMMAND_NAME \u001b[38;5;241m+\u001b[39m\\\n\u001b[0;32m   1317\u001b[0m     \u001b[38;5;28mself\u001b[39m\u001b[38;5;241m.\u001b[39mcommand_header \u001b[38;5;241m+\u001b[39m\\\n\u001b[0;32m   1318\u001b[0m     args_command \u001b[38;5;241m+\u001b[39m\\\n\u001b[0;32m   1319\u001b[0m     proto\u001b[38;5;241m.\u001b[39mEND_COMMAND_PART\n\u001b[0;32m   1321\u001b[0m answer \u001b[38;5;241m=\u001b[39m \u001b[38;5;28mself\u001b[39m\u001b[38;5;241m.\u001b[39mgateway_client\u001b[38;5;241m.\u001b[39msend_command(command)\n\u001b[1;32m-> 1322\u001b[0m return_value \u001b[38;5;241m=\u001b[39m \u001b[43mget_return_value\u001b[49m\u001b[43m(\u001b[49m\n\u001b[0;32m   1323\u001b[0m \u001b[43m    \u001b[49m\u001b[43manswer\u001b[49m\u001b[43m,\u001b[49m\u001b[43m \u001b[49m\u001b[38;5;28;43mself\u001b[39;49m\u001b[38;5;241;43m.\u001b[39;49m\u001b[43mgateway_client\u001b[49m\u001b[43m,\u001b[49m\u001b[43m \u001b[49m\u001b[38;5;28;43mself\u001b[39;49m\u001b[38;5;241;43m.\u001b[39;49m\u001b[43mtarget_id\u001b[49m\u001b[43m,\u001b[49m\u001b[43m \u001b[49m\u001b[38;5;28;43mself\u001b[39;49m\u001b[38;5;241;43m.\u001b[39;49m\u001b[43mname\u001b[49m\u001b[43m)\u001b[49m\n\u001b[0;32m   1325\u001b[0m \u001b[38;5;28;01mfor\u001b[39;00m temp_arg \u001b[38;5;129;01min\u001b[39;00m temp_args:\n\u001b[0;32m   1326\u001b[0m     \u001b[38;5;28;01mif\u001b[39;00m \u001b[38;5;28mhasattr\u001b[39m(temp_arg, \u001b[38;5;124m\"\u001b[39m\u001b[38;5;124m_detach\u001b[39m\u001b[38;5;124m\"\u001b[39m):\n",
      "File \u001b[1;32mc:\\Users\\subas\\AppData\\Local\\Programs\\Python\\Python311\\Lib\\site-packages\\pyspark\\errors\\exceptions\\captured.py:185\u001b[0m, in \u001b[0;36mcapture_sql_exception.<locals>.deco\u001b[1;34m(*a, **kw)\u001b[0m\n\u001b[0;32m    181\u001b[0m converted \u001b[38;5;241m=\u001b[39m convert_exception(e\u001b[38;5;241m.\u001b[39mjava_exception)\n\u001b[0;32m    182\u001b[0m \u001b[38;5;28;01mif\u001b[39;00m \u001b[38;5;129;01mnot\u001b[39;00m \u001b[38;5;28misinstance\u001b[39m(converted, UnknownException):\n\u001b[0;32m    183\u001b[0m     \u001b[38;5;66;03m# Hide where the exception came from that shows a non-Pythonic\u001b[39;00m\n\u001b[0;32m    184\u001b[0m     \u001b[38;5;66;03m# JVM exception message.\u001b[39;00m\n\u001b[1;32m--> 185\u001b[0m     \u001b[38;5;28;01mraise\u001b[39;00m converted \u001b[38;5;28;01mfrom\u001b[39;00m \u001b[38;5;28;01mNone\u001b[39;00m\n\u001b[0;32m    186\u001b[0m \u001b[38;5;28;01melse\u001b[39;00m:\n\u001b[0;32m    187\u001b[0m     \u001b[38;5;28;01mraise\u001b[39;00m\n",
      "\u001b[1;31mParseException\u001b[0m: \n[PARSE_SYNTAX_ERROR] Syntax error at or near 'FROM'.(line 4, pos 0)\n\n== SQL ==\n\nUPDATE df_merged_new t1\nSET t1.team = t2.team\nFROM df_merged_new t1\n^^^\nJOIN df_merged_new t2 ON t1.name = t2.name\nWHERE t1.team IS NULL\n  AND t2.team IS NOT NULL\n  AND t1.season_x in ('2016-17','2017-18', '2018-19', '2019-20' )\n  AND t2.season_x in ('2020-21','2021-22', '2022-23','2023-24')\n  \n"
     ]
    }
   ],
   "source": [
    "spark.sql('''\n",
    "UPDATE df_merged_new t1\n",
    "SET t1.team = t2.team\n",
    "FROM df_merged_new t1\n",
    "JOIN df_merged_new t2 ON t1.name = t2.name\n",
    "WHERE t1.team IS NULL\n",
    "  AND t2.team IS NOT NULL\n",
    "  AND t1.season_x in ('2016-17','2017-18', '2018-19', '2019-20' )\n",
    "  AND t2.season_x in ('2020-21','2021-22', '2022-23','2023-24')\n",
    "  ''')\n",
    "\n"
   ]
  },
  {
   "cell_type": "code",
<<<<<<< HEAD
   "execution_count": 52,
=======
<<<<<<< HEAD
   "execution_count": null,
=======
   "execution_count": 52,
>>>>>>> 107d17a3946b02980d36f5e725a4dac575f31266
>>>>>>> c42ecf8ec5d9075d48504cf513de8116fc8c36f6
   "metadata": {},
   "outputs": [
    {
     "ename": "KeyError",
     "evalue": "'team_x'",
     "output_type": "error",
     "traceback": [
      "\u001b[1;31m---------------------------------------------------------------------------\u001b[0m",
      "\u001b[1;31mKeyError\u001b[0m                                  Traceback (most recent call last)",
      "File \u001b[1;32mc:\\Users\\subas\\AppData\\Local\\Programs\\Python\\Python311\\Lib\\site-packages\\pandas\\core\\indexes\\base.py:3790\u001b[0m, in \u001b[0;36mIndex.get_loc\u001b[1;34m(self, key)\u001b[0m\n\u001b[0;32m   3789\u001b[0m \u001b[38;5;28;01mtry\u001b[39;00m:\n\u001b[1;32m-> 3790\u001b[0m     \u001b[38;5;28;01mreturn\u001b[39;00m \u001b[38;5;28;43mself\u001b[39;49m\u001b[38;5;241;43m.\u001b[39;49m\u001b[43m_engine\u001b[49m\u001b[38;5;241;43m.\u001b[39;49m\u001b[43mget_loc\u001b[49m\u001b[43m(\u001b[49m\u001b[43mcasted_key\u001b[49m\u001b[43m)\u001b[49m\n\u001b[0;32m   3791\u001b[0m \u001b[38;5;28;01mexcept\u001b[39;00m \u001b[38;5;167;01mKeyError\u001b[39;00m \u001b[38;5;28;01mas\u001b[39;00m err:\n",
      "File \u001b[1;32mindex.pyx:152\u001b[0m, in \u001b[0;36mpandas._libs.index.IndexEngine.get_loc\u001b[1;34m()\u001b[0m\n",
      "File \u001b[1;32mindex.pyx:181\u001b[0m, in \u001b[0;36mpandas._libs.index.IndexEngine.get_loc\u001b[1;34m()\u001b[0m\n",
      "File \u001b[1;32mpandas\\_libs\\hashtable_class_helper.pxi:7080\u001b[0m, in \u001b[0;36mpandas._libs.hashtable.PyObjectHashTable.get_item\u001b[1;34m()\u001b[0m\n",
      "File \u001b[1;32mpandas\\_libs\\hashtable_class_helper.pxi:7088\u001b[0m, in \u001b[0;36mpandas._libs.hashtable.PyObjectHashTable.get_item\u001b[1;34m()\u001b[0m\n",
      "\u001b[1;31mKeyError\u001b[0m: 'team_x'",
      "\nThe above exception was the direct cause of the following exception:\n",
      "\u001b[1;31mKeyError\u001b[0m                                  Traceback (most recent call last)",
      "Cell \u001b[1;32mIn[52], line 2\u001b[0m\n\u001b[0;32m      1\u001b[0m \u001b[38;5;66;03m# Update the team column in the DataFrame\u001b[39;00m\n\u001b[1;32m----> 2\u001b[0m df_merged_new\u001b[38;5;241m.\u001b[39mloc[(df_merged_new[\u001b[38;5;124m'\u001b[39m\u001b[38;5;124mseason_x\u001b[39m\u001b[38;5;124m'\u001b[39m]\u001b[38;5;241m.\u001b[39misin([\u001b[38;5;124m'\u001b[39m\u001b[38;5;124m2016-17\u001b[39m\u001b[38;5;124m'\u001b[39m, \u001b[38;5;124m'\u001b[39m\u001b[38;5;124m2017-18\u001b[39m\u001b[38;5;124m'\u001b[39m, \u001b[38;5;124m'\u001b[39m\u001b[38;5;124m2018-19\u001b[39m\u001b[38;5;124m'\u001b[39m, \u001b[38;5;124m'\u001b[39m\u001b[38;5;124m2019-20\u001b[39m\u001b[38;5;124m'\u001b[39m])) \u001b[38;5;241m&\u001b[39m (df_merged_new[\u001b[38;5;124m'\u001b[39m\u001b[38;5;124mteam\u001b[39m\u001b[38;5;124m'\u001b[39m]\u001b[38;5;241m.\u001b[39misnull()), \u001b[38;5;124m'\u001b[39m\u001b[38;5;124mteam\u001b[39m\u001b[38;5;124m'\u001b[39m] \u001b[38;5;241m=\u001b[39m \u001b[43mdf_merged_new\u001b[49m\u001b[43m[\u001b[49m\u001b[38;5;124;43m'\u001b[39;49m\u001b[38;5;124;43mteam_x\u001b[39;49m\u001b[38;5;124;43m'\u001b[39;49m\u001b[43m]\u001b[49m\n\u001b[0;32m      4\u001b[0m \u001b[38;5;66;03m# Show the updated DataFrame\u001b[39;00m\n\u001b[0;32m      5\u001b[0m \u001b[38;5;28mprint\u001b[39m(df_merged_new)\n",
      "File \u001b[1;32mc:\\Users\\subas\\AppData\\Local\\Programs\\Python\\Python311\\Lib\\site-packages\\pandas\\core\\frame.py:3893\u001b[0m, in \u001b[0;36mDataFrame.__getitem__\u001b[1;34m(self, key)\u001b[0m\n\u001b[0;32m   3891\u001b[0m \u001b[38;5;28;01mif\u001b[39;00m \u001b[38;5;28mself\u001b[39m\u001b[38;5;241m.\u001b[39mcolumns\u001b[38;5;241m.\u001b[39mnlevels \u001b[38;5;241m>\u001b[39m \u001b[38;5;241m1\u001b[39m:\n\u001b[0;32m   3892\u001b[0m     \u001b[38;5;28;01mreturn\u001b[39;00m \u001b[38;5;28mself\u001b[39m\u001b[38;5;241m.\u001b[39m_getitem_multilevel(key)\n\u001b[1;32m-> 3893\u001b[0m indexer \u001b[38;5;241m=\u001b[39m \u001b[38;5;28;43mself\u001b[39;49m\u001b[38;5;241;43m.\u001b[39;49m\u001b[43mcolumns\u001b[49m\u001b[38;5;241;43m.\u001b[39;49m\u001b[43mget_loc\u001b[49m\u001b[43m(\u001b[49m\u001b[43mkey\u001b[49m\u001b[43m)\u001b[49m\n\u001b[0;32m   3894\u001b[0m \u001b[38;5;28;01mif\u001b[39;00m is_integer(indexer):\n\u001b[0;32m   3895\u001b[0m     indexer \u001b[38;5;241m=\u001b[39m [indexer]\n",
      "File \u001b[1;32mc:\\Users\\subas\\AppData\\Local\\Programs\\Python\\Python311\\Lib\\site-packages\\pandas\\core\\indexes\\base.py:3797\u001b[0m, in \u001b[0;36mIndex.get_loc\u001b[1;34m(self, key)\u001b[0m\n\u001b[0;32m   3792\u001b[0m     \u001b[38;5;28;01mif\u001b[39;00m \u001b[38;5;28misinstance\u001b[39m(casted_key, \u001b[38;5;28mslice\u001b[39m) \u001b[38;5;129;01mor\u001b[39;00m (\n\u001b[0;32m   3793\u001b[0m         \u001b[38;5;28misinstance\u001b[39m(casted_key, abc\u001b[38;5;241m.\u001b[39mIterable)\n\u001b[0;32m   3794\u001b[0m         \u001b[38;5;129;01mand\u001b[39;00m \u001b[38;5;28many\u001b[39m(\u001b[38;5;28misinstance\u001b[39m(x, \u001b[38;5;28mslice\u001b[39m) \u001b[38;5;28;01mfor\u001b[39;00m x \u001b[38;5;129;01min\u001b[39;00m casted_key)\n\u001b[0;32m   3795\u001b[0m     ):\n\u001b[0;32m   3796\u001b[0m         \u001b[38;5;28;01mraise\u001b[39;00m InvalidIndexError(key)\n\u001b[1;32m-> 3797\u001b[0m     \u001b[38;5;28;01mraise\u001b[39;00m \u001b[38;5;167;01mKeyError\u001b[39;00m(key) \u001b[38;5;28;01mfrom\u001b[39;00m \u001b[38;5;21;01merr\u001b[39;00m\n\u001b[0;32m   3798\u001b[0m \u001b[38;5;28;01mexcept\u001b[39;00m \u001b[38;5;167;01mTypeError\u001b[39;00m:\n\u001b[0;32m   3799\u001b[0m     \u001b[38;5;66;03m# If we have a listlike key, _check_indexing_error will raise\u001b[39;00m\n\u001b[0;32m   3800\u001b[0m     \u001b[38;5;66;03m#  InvalidIndexError. Otherwise we fall through and re-raise\u001b[39;00m\n\u001b[0;32m   3801\u001b[0m     \u001b[38;5;66;03m#  the TypeError.\u001b[39;00m\n\u001b[0;32m   3802\u001b[0m     \u001b[38;5;28mself\u001b[39m\u001b[38;5;241m.\u001b[39m_check_indexing_error(key)\n",
      "\u001b[1;31mKeyError\u001b[0m: 'team_x'"
     ]
    }
   ],
   "source": [
    "# Update the team column in the DataFrame\n",
    "df_merged_new.loc[(df_merged_new['season_x'].isin(['2016-17', '2017-18', '2018-19', '2019-20'])) & (df_merged_new['team'].isnull()), 'team'] = df_merged_new['team_x']\n",
    "\n",
    "# Show the updated DataFrame\n",
    "print(df_merged_new)\n"
   ]
  },
  {
   "cell_type": "code",
   "execution_count": null,
   "metadata": {},
   "outputs": [],
   "source": [
    "spark.sql(\"Select name from df_merged where season_x = '2019-20' \").show()"
   ]
  },
  {
   "cell_type": "code",
   "execution_count": null,
   "metadata": {},
   "outputs": [],
   "source": [
    "df_merged_new.columns"
   ]
  },
  {
   "cell_type": "code",
   "execution_count": null,
   "metadata": {},
   "outputs": [],
   "source": [
    "# Creating the new field for home win, away win or draw \n",
    "# Defining conditions for each outcome\n",
    "conditions = [\n",
    "    (df_merged_new['team_a_score'] < df_merged_new['team_h_score']),  # Home Win\n",
    "    (df_merged_new['team_a_score'] > df_merged_new['team_h_score']),  # Away Win\n",
    "    (df_merged_new['team_a_score'] == df_merged_new['team_h_score']), # Draw\n",
    "    # Add an additional condition to cover all cases\n",
    "    (~df_merged_new['team_a_score'].isna()) & (~df_merged_new['team_h_score'].isna())  # Missing data\n",
    "]\n",
    "\n",
    "# Define corresponding values for each condition\n",
    "values = ['WIN', 'LOSS', 'Draw', 'Unknown']\n",
    "\n",
    "# Use np.select() to create the new column based on conditions\n",
    "df_merged_new['result'] = np.select(conditions, values, default='Unknown')\n",
    "df_merged_new['opponent_team']\n",
    "df_merged_new.columns"
   ]
  },
  {
   "cell_type": "code",
   "execution_count": null,
   "metadata": {},
   "outputs": [],
   "source": [
    "df_merged_new['Team_Opp'] = df_merged_new['team'] + ' - ' + df_merged_new['opponent_team'].astype(str)\n",
    "df_new = df_merged_new.drop(columns=['name'])\n",
    "\n",
    "agg_funcs = {\n",
    "    col: 'max' for col in df_merged_new.columns if col not in ['season_x', 'name', 'position', 'team', 'opponent_team', 'GW', 'Team_Opp']\n",
    "}\n",
    "\n",
    "df_new_group = df_new.groupby(['Team_Opp', 'season_x']).agg(agg_funcs).reset_index()\n",
    "df_new_group.columns\n"
   ]
  },
  {
   "cell_type": "code",
   "execution_count": null,
   "metadata": {},
   "outputs": [],
   "source": [
    "def fill_nan(x):\n",
    "    if x.dtype == 'float64' or x.dtype == 'int64':\n",
    "        return x.fillna(x.mean())\n",
    "    else:\n",
    "        return x.fillna(x.mode()[0])\n",
    "\n",
    "# Apply the custom function to the DataFrame..\n",
    "df_final = df_new_group.apply(fill_nan)\n",
    "\n",
    "df_final.to_csv(\"Training_data_v2.0\")"
   ]
  },
  {
   "cell_type": "code",
   "execution_count": null,
   "metadata": {},
   "outputs": [],
   "source": []
  }
 ],
 "metadata": {
  "kernelspec": {
   "display_name": "Python 3",
   "language": "python",
   "name": "python3"
  },
  "language_info": {
   "codemirror_mode": {
    "name": "ipython",
    "version": 3
   },
   "file_extension": ".py",
   "mimetype": "text/x-python",
   "name": "python",
   "nbconvert_exporter": "python",
   "pygments_lexer": "ipython3",
<<<<<<< HEAD
   "version": "3.11.5"
=======
   "version": "3.11.9"
>>>>>>> c42ecf8ec5d9075d48504cf513de8116fc8c36f6
  }
 },
 "nbformat": 4,
 "nbformat_minor": 2
}
