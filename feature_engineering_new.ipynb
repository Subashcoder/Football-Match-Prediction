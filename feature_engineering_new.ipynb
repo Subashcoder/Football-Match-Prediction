{
 "cells": [
  {
   "cell_type": "code",
   "execution_count": 11,
   "metadata": {},
   "outputs": [],
   "source": [
    "import pandas as pd\n",
    "import numpy as np\n",
    "import os"
   ]
  },
  {
   "cell_type": "code",
   "execution_count": 12,
   "metadata": {},
   "outputs": [],
   "source": [
    "\n",
    "# Team list dataset\n",
    "master_team_list = 'master_team_list.csv'\n",
    "\n",
    "#File path of player based stats\n",
    "file_path_16_17 = r'C:\\Drive D\\Downloads\\Lambton College\\Semester 2\\AI\\Project\\Football_Match_Prediction\\Football-Match-Prediction\\Data\\data\\2016-17\\gws\\merged_gw.csv'\n",
    "file_path_17_18 = r'C:\\Drive D\\Downloads\\Lambton College\\Semester 2\\AI\\Project\\Football_Match_Prediction\\Football-Match-Prediction\\Data\\data\\2017-18\\gws\\merged_gw.csv'\n",
    "file_path_18_19 = r'C:\\Drive D\\Downloads\\Lambton College\\Semester 2\\AI\\Project\\Football_Match_Prediction\\Football-Match-Prediction\\Data\\data\\2018-19\\gws\\merged_gw.csv'\n",
    "file_path_19_20 = r'C:\\Drive D\\Downloads\\Lambton College\\Semester 2\\AI\\Project\\Football_Match_Prediction\\Football-Match-Prediction\\Data\\data\\2019-20\\gws\\merged_gw.csv'\n",
    "file_path_20_21 = r'C:\\Drive D\\Downloads\\Lambton College\\Semester 2\\AI\\Project\\Football_Match_Prediction\\Football-Match-Prediction\\Data\\data\\2020-21\\gws\\merged_gw.csv'\n",
    "file_path_21_22 = r'C:\\Drive D\\Downloads\\Lambton College\\Semester 2\\AI\\Project\\Football_Match_Prediction\\Football-Match-Prediction\\Data\\data\\2021-22\\gws\\merged_gw.csv'\n",
    "file_path_22_23 = r'C:\\Drive D\\Downloads\\Lambton College\\Semester 2\\AI\\Project\\Football_Match_Prediction\\Football-Match-Prediction\\Data\\data\\2022-23\\gws\\merged_gw.csv'\n",
    "file_path_23_24 = r'C:\\Drive D\\Downloads\\Lambton College\\Semester 2\\AI\\Project\\Football_Match_Prediction\\Football-Match-Prediction\\Data\\data\\2023-24\\gws\\merged_gw.csv'\n",
    "\n",
    "#File path for player team name\n",
    "file_path_16_17_raw = r'C:\\Drive D\\Downloads\\Lambton College\\Semester 2\\AI\\Project\\Football_Match_Prediction\\Football-Match-Prediction\\Data\\data\\2016-17\\players_raw.csv'\n",
    "file_path_17_18_raw = r'C:\\Drive D\\Downloads\\Lambton College\\Semester 2\\AI\\Project\\Football_Match_Prediction\\Football-Match-Prediction\\Data\\data\\2017-18\\players_raw.csv'\n",
    "file_path_18_19_raw = r'C:\\Drive D\\Downloads\\Lambton College\\Semester 2\\AI\\Project\\Football_Match_Prediction\\Football-Match-Prediction\\Data\\data\\2018-19\\players_raw.csv'\n",
    "file_path_19_20_raw = r'C:\\Drive D\\Downloads\\Lambton College\\Semester 2\\AI\\Project\\Football_Match_Prediction\\Football-Match-Prediction\\Data\\data\\2019-20\\players_raw.csv'\n",
    "file_path_20_21_raw = r'C:\\Drive D\\Downloads\\Lambton College\\Semester 2\\AI\\Project\\Football_Match_Prediction\\Football-Match-Prediction\\Data\\data\\2020-21\\players_raw.csv'\n",
    "file_path_21_22_raw = r'C:\\Drive D\\Downloads\\Lambton College\\Semester 2\\AI\\Project\\Football_Match_Prediction\\Football-Match-Prediction\\Data\\data\\2021-22\\players_raw.csv'\n",
    "file_path_22_23_raw = r'C:\\Drive D\\Downloads\\Lambton College\\Semester 2\\AI\\Project\\Football_Match_Prediction\\Football-Match-Prediction\\Data\\data\\2022-23\\players_raw.csv'\n",
    "file_path_23_24_raw = r'C:\\Drive D\\Downloads\\Lambton College\\Semester 2\\AI\\Project\\Football_Match_Prediction\\Football-Match-Prediction\\Data\\data\\2023-24\\players_raw.csv'\n",
    "\n",
    "\n",
    "df_16_17 = pd.read_csv(file_path_16_17, encoding='latin1')\n",
    "df_16_17['season_x'] = '2016-17'\n",
    "df_17_18 = pd.read_csv(file_path_17_18, encoding='latin1')\n",
    "df_17_18['season_x'] = '2017-18'\n",
    "df_18_19 = pd.read_csv(file_path_18_19, encoding='latin1')\n",
    "df_18_19['season_x'] = '2018-19'\n",
    "df_19_20 = pd.read_csv(file_path_19_20, encoding='latin1')\n",
    "df_19_20['season_x'] = '2019-20'\n",
    "df_20_21 = pd.read_csv(file_path_20_21, encoding='latin1')\n",
    "df_20_21['season_x'] = '2020-21'\n",
    "df_21_22 = pd.read_csv(file_path_21_22, encoding='latin1')\n",
    "df_21_22['season_x'] = '2021-22'\n",
    "df_22_23 = pd.read_csv(file_path_22_23, encoding='latin1')\n",
    "df_22_23['season_x'] = '2022-23'\n",
    "df_23_24 = pd.read_csv(file_path_23_24, encoding='latin1')\n",
    "df_23_24['season_x'] = '2023-24'\n",
    "\n",
    "\n",
    "df_16_17_raw = pd.read_csv(file_path_16_17_raw, encoding='latin1')\n",
    "df_16_17_raw['season_x'] = '2016-17'\n",
    "df_17_18_raw = pd.read_csv(file_path_17_18_raw, encoding='latin1')\n",
    "df_17_18_raw['season_x'] = '2017-18'\n",
    "df_18_19_raw = pd.read_csv(file_path_18_19_raw, encoding='latin1')\n",
    "df_18_19_raw['season_x'] = '2018-19'\n",
    "df_19_20_raw = pd.read_csv(file_path_19_20_raw, encoding='latin1')\n",
    "df_19_20_raw['season_x'] = '2019-20'\n",
    "df_20_21_raw = pd.read_csv(file_path_20_21_raw, encoding='latin1')\n",
    "df_20_21_raw['season_x'] = '2020-21'\n",
    "df_21_22_raw = pd.read_csv(file_path_21_22_raw, encoding='latin1')\n",
    "df_21_22_raw['season_x'] = '2021-22'\n",
    "df_22_23_raw = pd.read_csv(file_path_22_23_raw, encoding='latin1')\n",
    "df_22_23_raw['season_x'] = '2022-23'\n",
    "df_23_24_raw = pd.read_csv(file_path_23_24_raw, encoding='latin1')\n",
    "df_23_24_raw['season_x'] = '2023-24'\n",
    "\n",
    "\n"
   ]
  },
  {
   "cell_type": "code",
   "execution_count": 18,
   "metadata": {},
   "outputs": [
    {
     "name": "stdout",
     "output_type": "stream",
     "text": [
      "<class 'pandas.core.frame.DataFrame'>\n",
      "RangeIndex: 647 entries, 0 to 646\n",
      "Data columns (total 59 columns):\n",
      " #   Column                        Non-Null Count  Dtype  \n",
      "---  ------                        --------------  -----  \n",
      " 0   assists                       647 non-null    int64  \n",
      " 1   bonus                         647 non-null    int64  \n",
      " 2   bps                           647 non-null    int64  \n",
      " 3   chance_of_playing_next_round  514 non-null    float64\n",
      " 4   chance_of_playing_this_round  514 non-null    float64\n",
      " 5   clean_sheets                  647 non-null    int64  \n",
      " 6   code                          647 non-null    int64  \n",
      " 7   cost_change_event             647 non-null    int64  \n",
      " 8   cost_change_event_fall        647 non-null    int64  \n",
      " 9   cost_change_start             647 non-null    int64  \n",
      " 10  cost_change_start_fall        647 non-null    int64  \n",
      " 11  creativity                    647 non-null    float64\n",
      " 12  dreamteam_count               647 non-null    int64  \n",
      " 13  ea_index                      647 non-null    int64  \n",
      " 14  element_type                  647 non-null    int64  \n",
      " 15  ep_next                       645 non-null    float64\n",
      " 16  ep_this                       647 non-null    float64\n",
      " 17  event_points                  647 non-null    int64  \n",
      " 18  first_name                    647 non-null    object \n",
      " 19  form                          647 non-null    float64\n",
      " 20  goals_conceded                647 non-null    int64  \n",
      " 21  goals_scored                  647 non-null    int64  \n",
      " 22  ict_index                     647 non-null    float64\n",
      " 23  id                            647 non-null    int64  \n",
      " 24  in_dreamteam                  647 non-null    bool   \n",
      " 25  influence                     647 non-null    float64\n",
      " 26  loaned_in                     647 non-null    int64  \n",
      " 27  loaned_out                    647 non-null    int64  \n",
      " 28  loans_in                      647 non-null    int64  \n",
      " 29  loans_out                     647 non-null    int64  \n",
      " 30  minutes                       647 non-null    int64  \n",
      " 31  news                          180 non-null    object \n",
      " 32  news_added                    514 non-null    object \n",
      " 33  now_cost                      647 non-null    int64  \n",
      " 34  own_goals                     647 non-null    int64  \n",
      " 35  penalties_missed              647 non-null    int64  \n",
      " 36  penalties_saved               647 non-null    int64  \n",
      " 37  photo                         647 non-null    object \n",
      " 38  points_per_game               647 non-null    float64\n",
      " 39  red_cards                     647 non-null    int64  \n",
      " 40  saves                         647 non-null    int64  \n",
      " 41  second_name                   647 non-null    object \n",
      " 42  selected_by_percent           647 non-null    float64\n",
      " 43  special                       647 non-null    bool   \n",
      " 44  squad_number                  642 non-null    float64\n",
      " 45  status                        647 non-null    object \n",
      " 46  team                          647 non-null    int64  \n",
      " 47  team_code                     647 non-null    int64  \n",
      " 48  threat                        647 non-null    float64\n",
      " 49  total_points                  647 non-null    int64  \n",
      " 50  transfers_in                  647 non-null    int64  \n",
      " 51  transfers_in_event            647 non-null    int64  \n",
      " 52  transfers_out                 647 non-null    int64  \n",
      " 53  transfers_out_event           647 non-null    int64  \n",
      " 54  value_form                    647 non-null    float64\n",
      " 55  value_season                  647 non-null    float64\n",
      " 56  web_name                      647 non-null    object \n",
      " 57  yellow_cards                  647 non-null    int64  \n",
      " 58  season_x                      647 non-null    object \n",
      "dtypes: bool(2), float64(14), int64(35), object(8)\n",
      "memory usage: 289.5+ KB\n"
     ]
    }
   ],
   "source": [
    "df_17_18_raw.info()"
   ]
  },
  {
   "cell_type": "code",
   "execution_count": 19,
   "metadata": {},
   "outputs": [
    {
     "name": "stdout",
     "output_type": "stream",
     "text": [
      "Common columns: ['fixture', 'transfers_in', 'season_x', 'bonus', 'round', 'saves', 'own_goals', 'opponent_team', 'goals_scored', 'team_h_score', 'kickoff_time', 'creativity', 'yellow_cards', 'minutes', 'was_home', 'threat', 'transfers_out', 'name', 'team_a_score', 'influence', 'clean_sheets', 'element', 'total_points', 'assists', 'bps', 'penalties_missed', 'goals_conceded', 'GW', 'selected', 'transfers_balance', 'ict_index', 'value', 'red_cards', 'penalties_saved']\n"
     ]
    }
   ],
   "source": [
    "# List of DataFrames\n",
    "dfs = [df_16_17, df_17_18, df_18_19, df_19_20,df_20_21, df_21_22,  df_22_23, df_23_24]\n",
    "\n",
    "# Extract columns from each DataFrame\n",
    "columns_sets = [set(df.columns) for df in dfs]\n",
    "\n",
    "# Find the intersection of columns\n",
    "common_columns = set.intersection(*columns_sets)\n",
    "\n",
    "# Convert the set to a list if needed\n",
    "common_columns_list = list(common_columns)\n",
    "\n",
    "print(\"Common columns:\", common_columns_list)\n"
   ]
  },
  {
   "cell_type": "code",
   "execution_count": null,
   "metadata": {},
   "outputs": [],
   "source": [
    "df_2016_20 = pd.concat([df_16_17,df_17_18, df_18_19, df_19_20])\n",
    "df_2016_20_raw = pd.concat([df_16_17_raw, df_17_18_raw, df_18_19_raw, df_19_20_raw])\n",
    "\n"
   ]
  },
  {
   "cell_type": "code",
   "execution_count": null,
   "metadata": {},
   "outputs": [],
   "source": [
    "df_2016_20_raw['name'] = df_2016_20_raw['first_name'] + \" \" + df_2016_20_raw['second_name']"
   ]
  },
  {
   "cell_type": "code",
   "execution_count": null,
   "metadata": {},
   "outputs": [],
   "source": [
    "df_2016_20_raw_new = df_2016_20_raw[['season_x', 'name', 'team']]\n",
    "df_2016_20_raw_new['team']"
   ]
  },
  {
   "cell_type": "code",
   "execution_count": null,
   "metadata": {},
   "outputs": [],
   "source": [
    "#Importing team list\n",
    "\n",
    "df_master_team_list = pd.read_csv('Data\\data\\master_team_list.csv')\n"
   ]
  },
  {
   "cell_type": "code",
   "execution_count": null,
   "metadata": {},
   "outputs": [],
   "source": [
    "df_master_team_list.head()"
   ]
  },
  {
   "cell_type": "code",
   "execution_count": null,
   "metadata": {},
   "outputs": [],
   "source": [
    "# Mapping the team name using team code\n",
    "df_2016_20_raw_new.reset_index(inplace=True)\n",
    "df_master_team_list.reset_index(inplace=True)\n",
    "\n",
    "df_2016_20_raw_new.loc[:, 'id'] = df_2016_20_raw_new['season_x'] + df_2016_20_raw_new['team'].astype(str)\n",
    "df_master_team_list.loc[:, 'id'] = df_master_team_list['season'] + df_master_team_list['team'].astype(str)"
   ]
  },
  {
   "cell_type": "code",
   "execution_count": null,
   "metadata": {},
   "outputs": [],
   "source": [
    "df_master_team_list['id']"
   ]
  },
  {
   "cell_type": "code",
   "execution_count": null,
   "metadata": {},
   "outputs": [],
   "source": [
    "removeing_season = ['2020-21', '2021-22','2022-23', '2023-24']\n",
    "filt = df_master_team_list['season'].isin(removeing_season)\n",
    "df_master_team_list.drop(index=df_master_team_list[filt].index)"
   ]
  },
  {
   "cell_type": "code",
   "execution_count": null,
   "metadata": {},
   "outputs": [],
   "source": []
  },
  {
   "cell_type": "code",
   "execution_count": null,
   "metadata": {},
   "outputs": [],
   "source": [
    "\n",
    "#mapping the team name using team_id\n",
    "df_player_team_name = pd.merge(df_2016_20_raw_new, df_master_team_list, on = 'id', how='left')"
   ]
  },
  {
   "cell_type": "code",
   "execution_count": null,
   "metadata": {},
   "outputs": [],
   "source": [
    "df_player_team_name"
   ]
  },
  {
   "cell_type": "code",
   "execution_count": null,
   "metadata": {},
   "outputs": [],
   "source": [
    "df_player_team_name = df_player_team_name[['season_x', 'name', 'team_name']]"
   ]
  },
  {
   "cell_type": "code",
   "execution_count": null,
   "metadata": {},
   "outputs": [],
   "source": [
    "df_player_team_name.head"
   ]
  },
  {
   "cell_type": "code",
   "execution_count": null,
   "metadata": {},
   "outputs": [],
   "source": [
    "df_2016_20['name'].head"
   ]
  },
  {
   "cell_type": "code",
   "execution_count": null,
   "metadata": {},
   "outputs": [],
   "source": [
    "# Function to remove the _ and number to tally with player_name from Player_team_table\n",
    "def strip_number(name):\n",
    "    name = name.str.replace(r'\\d+', \"\")\n",
    "    name = name.str.replace(\"_\", \" \")\n",
    "    name = name.str.strip()\n",
    "    return name\n"
   ]
  },
  {
   "cell_type": "code",
   "execution_count": null,
   "metadata": {},
   "outputs": [],
   "source": [
    "import re\n",
    "\n",
    "df_2016_20['name'] = df_2016_20['name'].apply(lambda x: re.sub(r'\\s\\d+$', '', x))\n",
    "df_2016_20['name'] = df_2016_20['name'].str.replace(\"_\", \" \")\n",
    "df_2016_20['name'] = df_2016_20['name'].str.strip()\n"
   ]
  },
  {
   "cell_type": "code",
   "execution_count": null,
   "metadata": {},
   "outputs": [],
   "source": [
    "df_2016_20.columns"
   ]
  },
  {
   "cell_type": "code",
   "execution_count": null,
   "metadata": {},
   "outputs": [],
   "source": [
    "df_2016_20[['name', 'season_x']]"
   ]
  },
  {
   "cell_type": "code",
   "execution_count": null,
   "metadata": {},
   "outputs": [],
   "source": [
    "# Creating the ID by joining the season_x and player_name to extract the team name\n",
    "df_player_team_name.reset_index(inplace=True)\n",
    "df_2016_20.reset_index(inplace=True)\n",
    "\n",
    "df_player_team_name.loc[:, 'sid'] = df_player_team_name['season_x'] + df_player_team_name['name']\n",
    "df_2016_20.loc[:, 'sid'] = df_2016_20['season_x'] + df_2016_20['name']"
   ]
  },
  {
   "cell_type": "code",
   "execution_count": null,
   "metadata": {},
   "outputs": [],
   "source": [
    "df_player_team_name['sid']"
   ]
  },
  {
   "cell_type": "code",
   "execution_count": null,
   "metadata": {},
   "outputs": [],
   "source": [
    "df_player_team_name.head()"
   ]
  },
  {
   "cell_type": "code",
   "execution_count": null,
   "metadata": {},
   "outputs": [],
   "source": [
    "df_2016_20[['sid', 'name', 'season_x']]"
   ]
  },
  {
   "cell_type": "code",
   "execution_count": null,
   "metadata": {},
   "outputs": [],
   "source": [
    "df_2016_20_final = pd.merge(df_2016_20, df_player_team_name, on='sid', how='left')\n",
    "df_2016_20_final"
   ]
  },
  {
   "cell_type": "code",
   "execution_count": null,
   "metadata": {},
   "outputs": [],
   "source": [
    "df_2016_20_final[['team_name', 'name_x']]"
   ]
  },
  {
   "cell_type": "code",
   "execution_count": null,
   "metadata": {},
   "outputs": [],
   "source": [
    "df_2016_20_final.columns"
   ]
  },
  {
   "cell_type": "code",
   "execution_count": null,
   "metadata": {},
   "outputs": [],
   "source": [
    "columns_to_drop = ['index_x', 'bonus', 'bps', 'fixture', 'id', 'kickoff_time', 'kickoff_time_formatted', 'loaned_in', 'loaned_out', 'offside', 'recoveries', 'round', 'selected', 'selected', 'transfers_balance', 'transfers_in', 'transfers_out', 'value', \"sid\", 'season_x_y', 'name_y']\n",
    "df_2016_20_final.drop(columns=columns_to_drop, inplace=True)"
   ]
  },
  {
   "cell_type": "code",
   "execution_count": null,
   "metadata": {},
   "outputs": [],
   "source": [
    "df_2016_20_final.columns"
   ]
  },
  {
   "cell_type": "code",
   "execution_count": null,
   "metadata": {},
   "outputs": [],
   "source": [
    "df_2016_20_final.rename(columns={'name_x': 'name', 'team_name': 'team', 'season_x_x':'season_x'}, inplace= True)\n"
   ]
  },
  {
   "cell_type": "code",
   "execution_count": null,
   "metadata": {},
   "outputs": [],
   "source": [
    "df_2020_24 = pd.concat([df_20_21, df_21_22, df_22_23, df_23_24])\n",
    "df_2020_24.loc[df_2020_24['assists'] == 1, ['assists','expected_assists']]\n"
   ]
  },
  {
   "cell_type": "code",
   "execution_count": null,
   "metadata": {},
   "outputs": [],
   "source": [
    "df_2016_20_final.columns"
   ]
  },
  {
   "cell_type": "code",
   "execution_count": null,
   "metadata": {},
   "outputs": [],
   "source": [
    "df_final = pd.concat([df_2016_20_final, df_2020_24])\n",
    "df_final.columns"
   ]
  },
  {
   "cell_type": "code",
   "execution_count": null,
   "metadata": {},
   "outputs": [],
   "source": [
    "df_final.to_csv('df_final')"
   ]
  },
  {
   "cell_type": "code",
   "execution_count": null,
   "metadata": {},
   "outputs": [],
   "source": [
    "df_final.sort_values(by=['season_x', 'GW'], ascending= True)\n",
    "df_final[['season_x', 'GW', 'name', 'team', 'opponent_team']]\n",
    "\n",
    "# Extracting the team name of opp team using team_code from master_team_list csv\n",
    "df_master_team_list_new = pd.read_csv('Data\\data\\master_team_list.csv')\n",
    "df_master_team_list_new.columns\n",
    "\n",
    "# creating the ID to merge the team name and team code\n",
    "df_master_team_list_new.rename(columns={'team_name': 'Opp_team_name'})\n",
    "df_final.loc[:, 'id'] = df_final['season_x'] + df_final['opponent_team'].astype(str)\n",
    "df_master_team_list_new.loc[:, 'id'] = df_master_team_list_new['season'] + df_master_team_list_new['team'].astype(str)\n"
   ]
  },
  {
   "cell_type": "code",
   "execution_count": null,
   "metadata": {},
   "outputs": [],
   "source": [
    "df_final = pd.merge(df_final, df_master_team_list, on='id', how='left')\n",
    "df_final.columns"
   ]
  },
  {
   "cell_type": "code",
   "execution_count": null,
   "metadata": {},
   "outputs": [],
   "source": [
    "df_final[['name','team_name','team_y', 'team_x','team_name']]"
   ]
  },
  {
   "cell_type": "code",
   "execution_count": null,
   "metadata": {},
   "outputs": [],
   "source": [
    "df_final.rename(columns={'team_name': 'Opp_team_name', 'team_x': 'team'}, inplace=True)"
   ]
  },
  {
   "cell_type": "code",
   "execution_count": null,
   "metadata": {},
   "outputs": [],
   "source": [
    "df_final.columns"
   ]
  },
  {
   "cell_type": "code",
   "execution_count": null,
   "metadata": {},
   "outputs": [],
   "source": [
    "df_final[['Opp_team_name', 'team']]"
   ]
  },
  {
   "cell_type": "code",
   "execution_count": null,
   "metadata": {},
   "outputs": [],
   "source": [
    "def match_column(row):\n",
    "    if row['was_home'] == True:\n",
    "        return str(row['team']) + \"-vs-\" + str(row['Opp_team_name'])\n",
    "    else:\n",
    "        return str(row['Opp_team_name']) + '-vs-' + str(row['team'])\n",
    "    \n",
    "df_final['Match'] = df_final.apply(match_column, axis = 1 )\n",
    "df_final['Match']"
   ]
  },
  {
   "cell_type": "code",
   "execution_count": null,
   "metadata": {},
   "outputs": [],
   "source": [
    "df_final[['Match', 'team', 'Opp_team_name', 'was_home']].head(60)"
   ]
  },
  {
   "cell_type": "code",
   "execution_count": null,
   "metadata": {},
   "outputs": [],
   "source": [
    "filt = (df_final['Match'] == 'Chelsea-vs-West Ham') & (df_final['season_x'] == '2016-17')\n",
    "col = ['name', 'team', 'Opp_team_name']\n",
    "df_final.loc[filt, col].head(100)\n"
   ]
  },
  {
   "cell_type": "code",
   "execution_count": null,
   "metadata": {},
   "outputs": [],
   "source": [
    "\n",
    "df_final.columns"
   ]
  },
  {
   "cell_type": "code",
   "execution_count": null,
   "metadata": {},
   "outputs": [],
   "source": [
    "def winner(row):\n",
    "    if row['team_a_score'] < row['team_h_score']:\n",
    "        return str('H')\n",
    "    elif row['team_a_score'] > row['team_h_score']:\n",
    "        return str('A')\n",
    "    else:\n",
    "        return str(\"D\")\n",
    "    \n",
    "df_final['Winner'] = df_final.apply(winner, axis=1)\n",
    "df_final['Winner']"
   ]
  },
  {
   "cell_type": "code",
   "execution_count": null,
   "metadata": {},
   "outputs": [],
   "source": [
    "df_final.columns"
   ]
  },
  {
   "cell_type": "code",
   "execution_count": null,
   "metadata": {},
   "outputs": [],
   "source": [
    "columns_to_drop = ['red_cards', 'tackled', 'saves', 'total_points', 'yellow_cards', 'position', 'xP', 'bonus', 'bps', 'fixture', 'kickoff_time', 'round', 'selected', 'transfers_balance', 'transfers_in', 'transfers_out', 'value', 'starts', 'id', 'season', 'team_y']\n",
    "df_final.drop(columns=columns_to_drop, inplace=True)\n"
   ]
  },
  {
   "cell_type": "code",
   "execution_count": null,
   "metadata": {},
   "outputs": [],
   "source": [
    "def expected_goal_involvements(row):\n",
    "     if pd.isnull(row['expected_goal_involvements']):\n",
    "         return ((row['goals_scored'] + row['target_missed']))\n",
    "     else:\n",
    "         return row['expected_goal_involvements']\n",
    "     \n",
    "def expected_goals(row):\n",
    "    if pd.isnull(row['expected_goals']):\n",
    "        return row['goals_scored']\n",
    "    else: \n",
    "        return row['expected_goals']\n",
    "    \n",
    "def expected_goals_conceded(row):\n",
    "    if pd.isnull(row['expected_goals_conceded']):\n",
    "        if row['goals_conceded'] == 0:\n",
    "            return row['goals_conceded'] + row['errors_leading_to_goal']\n",
    "        else:\n",
    "            return ((row['goals_conceded'] + row['errors_leading_to_goal']) / row['goals_conceded'])\n",
    "    else:\n",
    "        return row['expected_goals_conceded']\n",
    "\n",
    "def expected_assists(row):\n",
    "    if pd.isnull(row['expected_assists']):\n",
    "        if ((row['key_passes'] + row['big_chances_missed']) + (row['open_play_crosses'])) != 0:\n",
    "            assist = (row['assists'] + (row['key_passes'] + row['big_chances_missed']) + (row['open_play_crosses'])) / ((row['key_passes'] + row['big_chances_missed']) + (row['open_play_crosses']))\n",
    "            return assist\n",
    "        else:\n",
    "            return (row['assists'] + (row['key_passes'] + row['big_chances_missed']) + (row['open_play_crosses']))\n",
    "    else:\n",
    "        return row['expected_assists']\n",
    "\n",
    "    \n",
    "df_final['expected_assists'] = df_final.apply(expected_assists, axis= 1)\n",
    "df_final['expected_goals_conceded'] = df_final.apply(expected_goals_conceded, axis=1)\n",
    "df_final['expected_goals'] = df_final.apply(expected_goals, axis= 1)\n",
    "df_final['expected_goal_involvements'] =df_final.apply(expected_goal_involvements, axis= 1)\n"
   ]
  },
  {
   "cell_type": "code",
   "execution_count": null,
   "metadata": {},
   "outputs": [],
   "source": [
    "# Identify categorical columns\n",
    "categorical_columns = df_final.select_dtypes(include=['object']).columns\n",
    "\n",
    "# Backfill missing values in categorical columns with same player's data\n",
    "df_final[categorical_columns] = df_final.groupby('name')[categorical_columns].transform(lambda x: x.bfill())\n",
    "\n",
    "# Now, numerical columns can be backfilled normally\n",
    "df_final = df_final.fillna(method='bfill')\n",
    "\n",
    "# Verify the result\n",
    "print(df_final.head())\n"
   ]
  },
  {
   "cell_type": "code",
   "execution_count": null,
   "metadata": {},
   "outputs": [],
   "source": [
    "# Identify numerical columns and filling the value with the average of same\n",
    "numerical_columns = df_final.select_dtypes(include=['float64', 'int64']).columns\n",
    "\n",
    "df_final[categorical_columns] = df_final.groupby('name')[categorical_columns].transform(lambda x: x.bfill())\n",
    "\n",
    "\n",
    "df_final[numerical_columns] = df_final.groupby('name')[numerical_columns].transform(lambda x: x.fillna(x.mean()))\n",
    "\n",
    "df_final.head()\n",
    "\n"
   ]
  },
  {
   "cell_type": "code",
   "execution_count": null,
   "metadata": {},
   "outputs": [],
   "source": [
    "df_final.info()"
   ]
  },
  {
   "cell_type": "code",
   "execution_count": null,
   "metadata": {},
   "outputs": [],
   "source": [
    "# Define a function to fill missing values with the median of the same player's data\n",
    "def fill_na_with_player_median(df, column):\n",
    "    player_median = df.groupby('name')[column].transform('median')\n",
    "    df[column] = df[column].fillna(player_median)\n",
    "    return df\n",
    "\n",
    "# Iterate over each numerical column in the DataFrame\n",
    "for column in numerical_columns:\n",
    "    df_final = fill_na_with_player_median(df_final, column)\n",
    "\n",
    "\n",
    "df_final.head()\n",
    "\n"
   ]
  },
  {
   "cell_type": "code",
   "execution_count": null,
   "metadata": {},
   "outputs": [],
   "source": [
    "df_final.info()"
   ]
  },
  {
   "cell_type": "code",
   "execution_count": null,
   "metadata": {},
   "outputs": [],
   "source": [
    "numerical_columns = df_final.select_dtypes(include='float64').columns"
   ]
  },
  {
   "cell_type": "code",
   "execution_count": null,
   "metadata": {},
   "outputs": [],
   "source": [
    "# Define a function to fill missing values with the median of the same player's data\n",
    "def fill_na_with_player_median(df, column):\n",
    "    player_median = df.groupby('name')[column].transform('median')\n",
    "    df[column] = df[column].fillna(player_median)\n",
    "    return df\n",
    "\n",
    "# Iterate over each numerical column in the DataFrame\n",
    "for column in numerical_columns:\n",
    "    # Fill missing values for the column with the median of the same player's data\n",
    "    df_final = fill_na_with_player_median(df_final, column)\n",
    "\n",
    "\n",
    "df_final.head()\n",
    "\n"
   ]
  },
  {
   "cell_type": "code",
   "execution_count": null,
   "metadata": {},
   "outputs": [],
   "source": [
    "df_final.info()"
   ]
  },
  {
   "cell_type": "code",
   "execution_count": null,
   "metadata": {},
   "outputs": [],
   "source": [
    "# Fill missing values in numerical columns with the median of the entire column\n",
    "numerical_columns = df_final.select_dtypes(include=['float64', 'int64']).columns\n",
    "df_final[numerical_columns] = df_final[numerical_columns].fillna(df_final[numerical_columns].median())\n",
    "\n",
    "# Fill missing values in categorical columns with the mode of the entire column\n",
    "categorical_columns = df_final.select_dtypes(include=['object']).columns\n",
    "df_final[categorical_columns] = df_final[categorical_columns].fillna(df_final[categorical_columns].mode().iloc[0])\n",
    "\n",
    "# Verify the result\n",
    "print(df_final.info())\n"
   ]
  },
  {
   "cell_type": "code",
   "execution_count": null,
   "metadata": {},
   "outputs": [],
   "source": [
    "df_final.columns"
   ]
  },
  {
   "cell_type": "code",
   "execution_count": null,
   "metadata": {},
   "outputs": [],
   "source": [
    "col_to_drop = ['level_0', 'index', 'index_y']"
   ]
  },
  {
   "cell_type": "code",
   "execution_count": null,
   "metadata": {},
   "outputs": [],
   "source": [
    "df_final['was_home'].value_counts()"
   ]
  },
  {
   "cell_type": "code",
   "execution_count": null,
   "metadata": {},
   "outputs": [],
   "source": [
    "df_final.columns"
   ]
  },
  {
   "cell_type": "code",
   "execution_count": null,
   "metadata": {},
   "outputs": [],
   "source": [
    "coll_to_drop = ['name', 'minutes','winning_goals', 'index_y', 'index','Opp_team_name', 'level_0', 'index', 'opponent_team', 'team', 'team_h_score', 'team_a_score', 'GW']\n"
   ]
  },
  {
   "cell_type": "code",
   "execution_count": null,
   "metadata": {},
   "outputs": [],
   "source": [
    "df_final.drop(columns=coll_to_drop, inplace= True)\n"
   ]
  },
  {
   "cell_type": "code",
   "execution_count": null,
   "metadata": {},
   "outputs": [],
   "source": [
    "# Spliting the home team data and away team data\n",
    "filt = df_final['was_home'] == True\n",
    "df_home_team = df_final.loc[filt]\n",
    "df_away_team = df_final.loc[~filt]"
   ]
  },
  {
   "cell_type": "code",
   "execution_count": null,
   "metadata": {},
   "outputs": [],
   "source": [
    "\n",
    "df_home_team.drop(columns='was_home', inplace=True)\n",
    "df_away_team.drop(columns= 'was_home', inplace=True)"
   ]
  },
  {
   "cell_type": "code",
   "execution_count": null,
   "metadata": {},
   "outputs": [],
   "source": [
    "df_home_team.columns"
   ]
  },
  {
   "cell_type": "code",
   "execution_count": null,
   "metadata": {},
   "outputs": [],
   "source": [
    "# Group by 'Match' and 'season_x' and calculate the sum of each group\n",
    "df_home_team = df_home_team.groupby(['Match', 'season_x','Winner']).sum().reset_index()\n",
    "\n",
    "df_away_team = df_away_team.groupby(['Match', 'season_x','Winner']).sum().reset_index()\n"
   ]
  },
  {
   "cell_type": "code",
   "execution_count": null,
   "metadata": {},
   "outputs": [],
   "source": []
  },
  {
   "cell_type": "code",
   "execution_count": null,
   "metadata": {},
   "outputs": [],
   "source": [
    "df_away_team"
   ]
  },
  {
   "cell_type": "code",
   "execution_count": null,
   "metadata": {},
   "outputs": [],
   "source": [
    "df_after_feature_engg = pd.merge(df_home_team, df_away_team, on = ['Match', 'season_x', 'Winner'], suffixes=('_Home', '_Away'))"
   ]
  },
  {
   "cell_type": "code",
   "execution_count": null,
   "metadata": {},
   "outputs": [],
   "source": [
    "df_after_feature_engg.info()"
   ]
  },
  {
   "cell_type": "code",
   "execution_count": null,
   "metadata": {},
   "outputs": [],
   "source": [
    "df_after_feature_engg.to_csv('data_after_feature_engineering.csv')"
   ]
  },
  {
   "cell_type": "code",
   "execution_count": null,
   "metadata": {},
   "outputs": [],
   "source": []
  }
 ],
 "metadata": {
  "kernelspec": {
   "display_name": "Python 3",
   "language": "python",
   "name": "python3"
  },
  "language_info": {
   "codemirror_mode": {
    "name": "ipython",
    "version": 3
   },
   "file_extension": ".py",
   "mimetype": "text/x-python",
   "name": "python",
   "nbconvert_exporter": "python",
   "pygments_lexer": "ipython3",
   "version": "3.11.5"
  }
 },
 "nbformat": 4,
 "nbformat_minor": 2
}
