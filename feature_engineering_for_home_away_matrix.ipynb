{
 "cells": [
  {
   "cell_type": "code",
   "execution_count": 1,
   "metadata": {},
   "outputs": [],
   "source": [
    "import pandas as pd\n"
   ]
  },
  {
   "cell_type": "code",
   "execution_count": 7,
   "metadata": {},
   "outputs": [
    {
     "name": "stderr",
     "output_type": "stream",
     "text": [
      "C:\\Users\\subas\\AppData\\Local\\Temp\\ipykernel_9328\\4238047466.py:1: DtypeWarning: Columns (43,44,49) have mixed types. Specify dtype option on import or set low_memory=False.\n",
      "  df = pd.read_csv('df_final.csv')\n"
     ]
    },
    {
     "data": {
      "text/plain": [
       "Index(['Unnamed: 0', 'name', 'assists', 'attempted_passes',\n",
       "       'big_chances_created', 'big_chances_missed', 'clean_sheets',\n",
       "       'clearances_blocks_interceptions', 'completed_passes', 'creativity',\n",
       "       'dribbles', 'ea_index', 'element', 'errors_leading_to_goal',\n",
       "       'errors_leading_to_goal_attempt', 'fouls', 'goals_conceded',\n",
       "       'goals_scored', 'ict_index', 'influence', 'key_passes', 'minutes',\n",
       "       'open_play_crosses', 'opponent_team', 'own_goals', 'penalties_conceded',\n",
       "       'penalties_missed', 'penalties_saved', 'red_cards', 'saves', 'tackled',\n",
       "       'tackles', 'target_missed', 'team_a_score', 'team_h_score', 'threat',\n",
       "       'total_points', 'was_home', 'winning_goals', 'yellow_cards', 'GW',\n",
       "       'season_x', 'index_y', 'team', 'position', 'xP', 'bonus', 'bps',\n",
       "       'fixture', 'kickoff_time', 'round', 'selected', 'transfers_balance',\n",
       "       'transfers_in', 'transfers_out', 'value', 'expected_assists',\n",
       "       'expected_goal_involvements', 'expected_goals',\n",
       "       'expected_goals_conceded', 'starts'],\n",
       "      dtype='object')"
      ]
     },
     "execution_count": 7,
     "metadata": {},
     "output_type": "execute_result"
    }
   ],
   "source": [
    "df = pd.read_csv('df_final.csv')\n",
    "df.columns"
   ]
  },
  {
   "cell_type": "code",
   "execution_count": 6,
   "metadata": {},
   "outputs": [
    {
     "ename": "KeyError",
     "evalue": "\"['index', 'Opp_team_name', 'Match', 'Winner'] not in index\"",
     "output_type": "error",
     "traceback": [
      "\u001b[1;31m---------------------------------------------------------------------------\u001b[0m",
      "\u001b[1;31mKeyError\u001b[0m                                  Traceback (most recent call last)",
      "Cell \u001b[1;32mIn[6], line 13\u001b[0m\n\u001b[0;32m      1\u001b[0m selected_column \u001b[38;5;241m=\u001b[39m [\u001b[38;5;124m'\u001b[39m\u001b[38;5;124mname\u001b[39m\u001b[38;5;124m'\u001b[39m, \u001b[38;5;124m'\u001b[39m\u001b[38;5;124massists\u001b[39m\u001b[38;5;124m'\u001b[39m, \u001b[38;5;124m'\u001b[39m\u001b[38;5;124mattempted_passes\u001b[39m\u001b[38;5;124m'\u001b[39m, \u001b[38;5;124m'\u001b[39m\u001b[38;5;124mbig_chances_created\u001b[39m\u001b[38;5;124m'\u001b[39m,\n\u001b[0;32m      2\u001b[0m        \u001b[38;5;124m'\u001b[39m\u001b[38;5;124mbig_chances_missed\u001b[39m\u001b[38;5;124m'\u001b[39m, \u001b[38;5;124m'\u001b[39m\u001b[38;5;124mclean_sheets\u001b[39m\u001b[38;5;124m'\u001b[39m, \u001b[38;5;124m'\u001b[39m\u001b[38;5;124mclearances_blocks_interceptions\u001b[39m\u001b[38;5;124m'\u001b[39m,\n\u001b[0;32m      3\u001b[0m        \u001b[38;5;124m'\u001b[39m\u001b[38;5;124mcompleted_passes\u001b[39m\u001b[38;5;124m'\u001b[39m, \u001b[38;5;124m'\u001b[39m\u001b[38;5;124mcreativity\u001b[39m\u001b[38;5;124m'\u001b[39m, \u001b[38;5;124m'\u001b[39m\u001b[38;5;124mdribbles\u001b[39m\u001b[38;5;124m'\u001b[39m, \u001b[38;5;124m'\u001b[39m\u001b[38;5;124mea_index\u001b[39m\u001b[38;5;124m'\u001b[39m, \u001b[38;5;124m'\u001b[39m\u001b[38;5;124melement\u001b[39m\u001b[38;5;124m'\u001b[39m,\n\u001b[1;32m   (...)\u001b[0m\n\u001b[0;32m     11\u001b[0m        \u001b[38;5;124m'\u001b[39m\u001b[38;5;124mexpected_goals\u001b[39m\u001b[38;5;124m'\u001b[39m, \u001b[38;5;124m'\u001b[39m\u001b[38;5;124mexpected_goals_conceded\u001b[39m\u001b[38;5;124m'\u001b[39m, \u001b[38;5;124m'\u001b[39m\u001b[38;5;124mindex\u001b[39m\u001b[38;5;124m'\u001b[39m, \u001b[38;5;124m'\u001b[39m\u001b[38;5;124mOpp_team_name\u001b[39m\u001b[38;5;124m'\u001b[39m,\n\u001b[0;32m     12\u001b[0m        \u001b[38;5;124m'\u001b[39m\u001b[38;5;124mMatch\u001b[39m\u001b[38;5;124m'\u001b[39m, \u001b[38;5;124m'\u001b[39m\u001b[38;5;124mWinner\u001b[39m\u001b[38;5;124m'\u001b[39m]\n\u001b[1;32m---> 13\u001b[0m df_final \u001b[38;5;241m=\u001b[39m \u001b[43mdf\u001b[49m\u001b[43m[\u001b[49m\u001b[43mselected_column\u001b[49m\u001b[43m]\u001b[49m\n",
      "File \u001b[1;32mc:\\Users\\subas\\AppData\\Local\\Programs\\Python\\Python311\\Lib\\site-packages\\pandas\\core\\frame.py:3899\u001b[0m, in \u001b[0;36mDataFrame.__getitem__\u001b[1;34m(self, key)\u001b[0m\n\u001b[0;32m   3897\u001b[0m     \u001b[38;5;28;01mif\u001b[39;00m is_iterator(key):\n\u001b[0;32m   3898\u001b[0m         key \u001b[38;5;241m=\u001b[39m \u001b[38;5;28mlist\u001b[39m(key)\n\u001b[1;32m-> 3899\u001b[0m     indexer \u001b[38;5;241m=\u001b[39m \u001b[38;5;28;43mself\u001b[39;49m\u001b[38;5;241;43m.\u001b[39;49m\u001b[43mcolumns\u001b[49m\u001b[38;5;241;43m.\u001b[39;49m\u001b[43m_get_indexer_strict\u001b[49m\u001b[43m(\u001b[49m\u001b[43mkey\u001b[49m\u001b[43m,\u001b[49m\u001b[43m \u001b[49m\u001b[38;5;124;43m\"\u001b[39;49m\u001b[38;5;124;43mcolumns\u001b[39;49m\u001b[38;5;124;43m\"\u001b[39;49m\u001b[43m)\u001b[49m[\u001b[38;5;241m1\u001b[39m]\n\u001b[0;32m   3901\u001b[0m \u001b[38;5;66;03m# take() does not accept boolean indexers\u001b[39;00m\n\u001b[0;32m   3902\u001b[0m \u001b[38;5;28;01mif\u001b[39;00m \u001b[38;5;28mgetattr\u001b[39m(indexer, \u001b[38;5;124m\"\u001b[39m\u001b[38;5;124mdtype\u001b[39m\u001b[38;5;124m\"\u001b[39m, \u001b[38;5;28;01mNone\u001b[39;00m) \u001b[38;5;241m==\u001b[39m \u001b[38;5;28mbool\u001b[39m:\n",
      "File \u001b[1;32mc:\\Users\\subas\\AppData\\Local\\Programs\\Python\\Python311\\Lib\\site-packages\\pandas\\core\\indexes\\base.py:6114\u001b[0m, in \u001b[0;36mIndex._get_indexer_strict\u001b[1;34m(self, key, axis_name)\u001b[0m\n\u001b[0;32m   6111\u001b[0m \u001b[38;5;28;01melse\u001b[39;00m:\n\u001b[0;32m   6112\u001b[0m     keyarr, indexer, new_indexer \u001b[38;5;241m=\u001b[39m \u001b[38;5;28mself\u001b[39m\u001b[38;5;241m.\u001b[39m_reindex_non_unique(keyarr)\n\u001b[1;32m-> 6114\u001b[0m \u001b[38;5;28;43mself\u001b[39;49m\u001b[38;5;241;43m.\u001b[39;49m\u001b[43m_raise_if_missing\u001b[49m\u001b[43m(\u001b[49m\u001b[43mkeyarr\u001b[49m\u001b[43m,\u001b[49m\u001b[43m \u001b[49m\u001b[43mindexer\u001b[49m\u001b[43m,\u001b[49m\u001b[43m \u001b[49m\u001b[43maxis_name\u001b[49m\u001b[43m)\u001b[49m\n\u001b[0;32m   6116\u001b[0m keyarr \u001b[38;5;241m=\u001b[39m \u001b[38;5;28mself\u001b[39m\u001b[38;5;241m.\u001b[39mtake(indexer)\n\u001b[0;32m   6117\u001b[0m \u001b[38;5;28;01mif\u001b[39;00m \u001b[38;5;28misinstance\u001b[39m(key, Index):\n\u001b[0;32m   6118\u001b[0m     \u001b[38;5;66;03m# GH 42790 - Preserve name from an Index\u001b[39;00m\n",
      "File \u001b[1;32mc:\\Users\\subas\\AppData\\Local\\Programs\\Python\\Python311\\Lib\\site-packages\\pandas\\core\\indexes\\base.py:6178\u001b[0m, in \u001b[0;36mIndex._raise_if_missing\u001b[1;34m(self, key, indexer, axis_name)\u001b[0m\n\u001b[0;32m   6175\u001b[0m     \u001b[38;5;28;01mraise\u001b[39;00m \u001b[38;5;167;01mKeyError\u001b[39;00m(\u001b[38;5;124mf\u001b[39m\u001b[38;5;124m\"\u001b[39m\u001b[38;5;124mNone of [\u001b[39m\u001b[38;5;132;01m{\u001b[39;00mkey\u001b[38;5;132;01m}\u001b[39;00m\u001b[38;5;124m] are in the [\u001b[39m\u001b[38;5;132;01m{\u001b[39;00maxis_name\u001b[38;5;132;01m}\u001b[39;00m\u001b[38;5;124m]\u001b[39m\u001b[38;5;124m\"\u001b[39m)\n\u001b[0;32m   6177\u001b[0m not_found \u001b[38;5;241m=\u001b[39m \u001b[38;5;28mlist\u001b[39m(ensure_index(key)[missing_mask\u001b[38;5;241m.\u001b[39mnonzero()[\u001b[38;5;241m0\u001b[39m]]\u001b[38;5;241m.\u001b[39munique())\n\u001b[1;32m-> 6178\u001b[0m \u001b[38;5;28;01mraise\u001b[39;00m \u001b[38;5;167;01mKeyError\u001b[39;00m(\u001b[38;5;124mf\u001b[39m\u001b[38;5;124m\"\u001b[39m\u001b[38;5;132;01m{\u001b[39;00mnot_found\u001b[38;5;132;01m}\u001b[39;00m\u001b[38;5;124m not in index\u001b[39m\u001b[38;5;124m\"\u001b[39m)\n",
      "\u001b[1;31mKeyError\u001b[0m: \"['index', 'Opp_team_name', 'Match', 'Winner'] not in index\""
     ]
    }
   ],
   "source": [
    "selected_column = ['name', 'assists', 'attempted_passes', 'big_chances_created',\n",
    "       'big_chances_missed', 'clean_sheets', 'clearances_blocks_interceptions',\n",
    "       'completed_passes', 'creativity', 'dribbles', 'ea_index', 'element',\n",
    "       'errors_leading_to_goal', 'errors_leading_to_goal_attempt', 'fouls',\n",
    "       'goals_conceded', 'goals_scored', 'ict_index', 'influence',\n",
    "       'key_passes', 'minutes', 'open_play_crosses', 'opponent_team',\n",
    "       'own_goals', 'penalties_conceded', 'penalties_missed',\n",
    "       'penalties_saved', 'tackles', 'target_missed', 'team_a_score',\n",
    "       'team_h_score', 'threat', 'was_home', 'winning_goals', 'GW', 'season_x',\n",
    "       'index_y', 'team', 'expected_assists', 'expected_goal_involvements',\n",
    "       'expected_goals', 'expected_goals_conceded', 'index', 'Opp_team_name',\n",
    "       'Match', 'Winner']\n",
    "df_final = df[selected_column]"
   ]
  },
  {
   "cell_type": "code",
   "execution_count": 57,
   "metadata": {},
   "outputs": [],
   "source": [
    "import json\n",
    "import requests\n",
    "import time\n",
    "\n",
    "def get_fixtures_data():\n",
    "    \"\"\" Retrieve the fixtures data for the season\n",
    "    \"\"\"\n",
    "    url = \"https://fantasy.premierleague.com/api/fixtures/\"\n",
    "    response = ''\n",
    "    while response == '':\n",
    "        try:\n",
    "            response = requests.get(url)\n",
    "        except:\n",
    "            time.sleep(5)\n",
    "    if response.status_code != 200:\n",
    "        raise Exception(\"Response was code \" + str(response.status_code))\n",
    "    data = json.loads(response.text)\n",
    "    return data"
   ]
  },
  {
   "cell_type": "code",
   "execution_count": 58,
   "metadata": {},
   "outputs": [
    {
     "name": "stdout",
     "output_type": "stream",
     "text": [
      "Index(['code', 'event', 'finished', 'finished_provisional', 'id',\n",
      "       'kickoff_time', 'minutes', 'provisional_start_time', 'started',\n",
      "       'team_a', 'team_a_score', 'team_h', 'team_h_score', 'stats',\n",
      "       'team_h_difficulty', 'team_a_difficulty', 'pulse_id'],\n",
      "      dtype='object')\n"
     ]
    }
   ],
   "source": [
    "data = get_fixtures_data()\n",
    "df = pd.DataFrame(data)\n",
    "print(df.columns)\n",
    "df.sort_values(by='kickoff_time', ascending=False, inplace=True)"
   ]
  },
  {
   "cell_type": "code",
   "execution_count": 59,
   "metadata": {},
   "outputs": [
    {
     "data": {
      "text/html": [
       "<div>\n",
       "<style scoped>\n",
       "    .dataframe tbody tr th:only-of-type {\n",
       "        vertical-align: middle;\n",
       "    }\n",
       "\n",
       "    .dataframe tbody tr th {\n",
       "        vertical-align: top;\n",
       "    }\n",
       "\n",
       "    .dataframe thead th {\n",
       "        text-align: right;\n",
       "    }\n",
       "</style>\n",
       "<table border=\"1\" class=\"dataframe\">\n",
       "  <thead>\n",
       "    <tr style=\"text-align: right;\">\n",
       "      <th></th>\n",
       "      <th>code</th>\n",
       "      <th>event</th>\n",
       "      <th>finished</th>\n",
       "      <th>finished_provisional</th>\n",
       "      <th>id</th>\n",
       "      <th>kickoff_time</th>\n",
       "      <th>minutes</th>\n",
       "      <th>provisional_start_time</th>\n",
       "      <th>started</th>\n",
       "      <th>team_a</th>\n",
       "      <th>team_a_score</th>\n",
       "      <th>team_h</th>\n",
       "      <th>team_h_score</th>\n",
       "      <th>stats</th>\n",
       "      <th>team_h_difficulty</th>\n",
       "      <th>team_a_difficulty</th>\n",
       "      <th>pulse_id</th>\n",
       "    </tr>\n",
       "  </thead>\n",
       "  <tbody>\n",
       "    <tr>\n",
       "      <th>379</th>\n",
       "      <td>2367917</td>\n",
       "      <td>38</td>\n",
       "      <td>False</td>\n",
       "      <td>False</td>\n",
       "      <td>380</td>\n",
       "      <td>2024-05-19T15:00:00Z</td>\n",
       "      <td>0</td>\n",
       "      <td>False</td>\n",
       "      <td>False</td>\n",
       "      <td>18</td>\n",
       "      <td>NaN</td>\n",
       "      <td>17</td>\n",
       "      <td>NaN</td>\n",
       "      <td>[]</td>\n",
       "      <td>3</td>\n",
       "      <td>2</td>\n",
       "      <td>93700</td>\n",
       "    </tr>\n",
       "    <tr>\n",
       "      <th>370</th>\n",
       "      <td>2367908</td>\n",
       "      <td>38</td>\n",
       "      <td>False</td>\n",
       "      <td>False</td>\n",
       "      <td>371</td>\n",
       "      <td>2024-05-19T15:00:00Z</td>\n",
       "      <td>0</td>\n",
       "      <td>False</td>\n",
       "      <td>False</td>\n",
       "      <td>9</td>\n",
       "      <td>NaN</td>\n",
       "      <td>1</td>\n",
       "      <td>NaN</td>\n",
       "      <td>[]</td>\n",
       "      <td>2</td>\n",
       "      <td>5</td>\n",
       "      <td>93691</td>\n",
       "    </tr>\n",
       "    <tr>\n",
       "      <th>378</th>\n",
       "      <td>2367916</td>\n",
       "      <td>38</td>\n",
       "      <td>False</td>\n",
       "      <td>False</td>\n",
       "      <td>379</td>\n",
       "      <td>2024-05-19T15:00:00Z</td>\n",
       "      <td>0</td>\n",
       "      <td>False</td>\n",
       "      <td>False</td>\n",
       "      <td>19</td>\n",
       "      <td>NaN</td>\n",
       "      <td>13</td>\n",
       "      <td>NaN</td>\n",
       "      <td>[]</td>\n",
       "      <td>2</td>\n",
       "      <td>5</td>\n",
       "      <td>93699</td>\n",
       "    </tr>\n",
       "    <tr>\n",
       "      <th>377</th>\n",
       "      <td>2367915</td>\n",
       "      <td>38</td>\n",
       "      <td>False</td>\n",
       "      <td>False</td>\n",
       "      <td>378</td>\n",
       "      <td>2024-05-19T15:00:00Z</td>\n",
       "      <td>0</td>\n",
       "      <td>False</td>\n",
       "      <td>False</td>\n",
       "      <td>10</td>\n",
       "      <td>NaN</td>\n",
       "      <td>12</td>\n",
       "      <td>NaN</td>\n",
       "      <td>[]</td>\n",
       "      <td>2</td>\n",
       "      <td>2</td>\n",
       "      <td>93698</td>\n",
       "    </tr>\n",
       "    <tr>\n",
       "      <th>376</th>\n",
       "      <td>2367914</td>\n",
       "      <td>38</td>\n",
       "      <td>False</td>\n",
       "      <td>False</td>\n",
       "      <td>377</td>\n",
       "      <td>2024-05-19T15:00:00Z</td>\n",
       "      <td>0</td>\n",
       "      <td>False</td>\n",
       "      <td>False</td>\n",
       "      <td>20</td>\n",
       "      <td>NaN</td>\n",
       "      <td>11</td>\n",
       "      <td>NaN</td>\n",
       "      <td>[]</td>\n",
       "      <td>2</td>\n",
       "      <td>5</td>\n",
       "      <td>93697</td>\n",
       "    </tr>\n",
       "  </tbody>\n",
       "</table>\n",
       "</div>"
      ],
      "text/plain": [
       "        code  event  finished  finished_provisional   id  \\\n",
       "379  2367917     38     False                 False  380   \n",
       "370  2367908     38     False                 False  371   \n",
       "378  2367916     38     False                 False  379   \n",
       "377  2367915     38     False                 False  378   \n",
       "376  2367914     38     False                 False  377   \n",
       "\n",
       "             kickoff_time  minutes  provisional_start_time  started  team_a  \\\n",
       "379  2024-05-19T15:00:00Z        0                   False    False      18   \n",
       "370  2024-05-19T15:00:00Z        0                   False    False       9   \n",
       "378  2024-05-19T15:00:00Z        0                   False    False      19   \n",
       "377  2024-05-19T15:00:00Z        0                   False    False      10   \n",
       "376  2024-05-19T15:00:00Z        0                   False    False      20   \n",
       "\n",
       "     team_a_score  team_h  team_h_score stats  team_h_difficulty  \\\n",
       "379           NaN      17           NaN    []                  3   \n",
       "370           NaN       1           NaN    []                  2   \n",
       "378           NaN      13           NaN    []                  2   \n",
       "377           NaN      12           NaN    []                  2   \n",
       "376           NaN      11           NaN    []                  2   \n",
       "\n",
       "     team_a_difficulty  pulse_id  \n",
       "379                  2     93700  \n",
       "370                  5     93691  \n",
       "378                  5     93699  \n",
       "377                  2     93698  \n",
       "376                  5     93697  "
      ]
     },
     "execution_count": 59,
     "metadata": {},
     "output_type": "execute_result"
    }
   ],
   "source": [
    "df.head(5)"
   ]
  },
  {
   "cell_type": "code",
   "execution_count": 67,
   "metadata": {},
   "outputs": [],
   "source": [
    "filt = (df['event'] == 38)\n",
    "\n",
    "df = df.loc[filt, ['team_a', 'team_h']]"
   ]
  },
  {
   "cell_type": "code",
   "execution_count": 68,
   "metadata": {},
   "outputs": [
    {
     "data": {
      "text/plain": [
       "Index(['code', 'draw', 'form', 'id', 'loss', 'name', 'played', 'points',\n",
       "       'position', 'short_name', 'strength', 'team_division', 'unavailable',\n",
       "       'win', 'strength_overall_home', 'strength_overall_away',\n",
       "       'strength_attack_home', 'strength_attack_away', 'strength_defence_home',\n",
       "       'strength_defence_away', 'pulse_id'],\n",
       "      dtype='object')"
      ]
     },
     "execution_count": 68,
     "metadata": {},
     "output_type": "execute_result"
    }
   ],
   "source": [
    "url3 = r'C:\\Drive D\\Downloads\\Lambton College\\Semester 2\\AI\\Project\\Football_Match_Prediction\\Football-Match-Prediction\\Data\\data\\2023-24\\teams.csv'\n",
    "df_id = pd.read_csv(url3)\n",
    "df_id.columns "
   ]
  },
  {
   "cell_type": "code",
   "execution_count": 69,
   "metadata": {},
   "outputs": [],
   "source": [
    "df_id = df_id[['id', 'name']]"
   ]
  },
  {
   "cell_type": "code",
   "execution_count": 70,
   "metadata": {},
   "outputs": [
    {
     "name": "stdout",
     "output_type": "stream",
     "text": [
      "<class 'pandas.core.frame.DataFrame'>\n",
      "RangeIndex: 20 entries, 0 to 19\n",
      "Data columns (total 2 columns):\n",
      " #   Column  Non-Null Count  Dtype \n",
      "---  ------  --------------  ----- \n",
      " 0   id      20 non-null     int64 \n",
      " 1   name    20 non-null     object\n",
      "dtypes: int64(1), object(1)\n",
      "memory usage: 452.0+ bytes\n"
     ]
    }
   ],
   "source": [
    "df_id.info()"
   ]
  },
  {
   "cell_type": "code",
   "execution_count": 71,
   "metadata": {},
   "outputs": [
    {
     "name": "stdout",
     "output_type": "stream",
     "text": [
      "     team_a  team_h    team_a_name     team_h_name\n",
      "379      18      17          Spurs   Sheffield Utd\n",
      "370       9       1        Everton         Arsenal\n",
      "378      19      13       West Ham        Man City\n",
      "377      10      12         Fulham           Luton\n",
      "376      20      11         Wolves       Liverpool\n",
      "375       2       8    Aston Villa  Crystal Palace\n",
      "374       3       7    Bournemouth         Chelsea\n",
      "373      16       6  Nott'm Forest         Burnley\n",
      "372      14       5        Man Utd        Brighton\n",
      "371      15       4      Newcastle       Brentford\n"
     ]
    }
   ],
   "source": [
    "id_to_name_map = dict(zip(df_id['id'], df_id['name']))\n",
    "\n",
    "# Use map to apply the mapping to team_a and create team_name column\n",
    "df['team_a_name'] = df['team_a'].map(id_to_name_map)\n",
    "df['team_h_name'] = df['team_h'].map(id_to_name_map)\n",
    "\n",
    "\n",
    "# Display the updated DataFrame with team names\n",
    "print(df)"
   ]
  },
  {
   "cell_type": "code",
   "execution_count": 5,
   "metadata": {},
   "outputs": [],
   "source": [
    "import time\n",
    "import requests\n",
    "import json\n",
    "import pandas as pd\n",
    "\n",
    "def get_individual_player_data(player_id):\n",
    "    \"\"\" Retrieve the player-specific detailed data for last 3 games\n",
    "\n",
    "    Args:\n",
    "        player_id (int): ID of the player whose data is to be retrieved\n",
    "    \"\"\"\n",
    "    base_url = \"https://fantasy.premierleague.com/api/element-summary/\"\n",
    "    full_url = base_url + str(player_id) + \"/\"\n",
    "    response = ''\n",
    "    while response == '':\n",
    "        try:\n",
    "            response = requests.get(full_url)\n",
    "        except:\n",
    "            time.sleep(5)\n",
    "    if response.status_code != 200:\n",
    "        raise Exception(\"Response was code \" + str(response.status_code))\n",
    "    data = json.loads(response.text)\n",
    "    data = pd.DataFrame(data['history'])\n",
    "    data.sort_values(by='kickoff_time', ascending=False, inplace=True)\n",
    "    return data.head(3)"
   ]
  },
  {
   "cell_type": "code",
   "execution_count": 6,
   "metadata": {},
   "outputs": [],
   "source": [
    "data_frame = get_individual_player_data(54)"
   ]
  },
  {
   "cell_type": "code",
   "execution_count": 8,
   "metadata": {},
   "outputs": [
    {
     "data": {
      "text/plain": [
       "Index(['element', 'fixture', 'opponent_team', 'total_points', 'was_home',\n",
       "       'kickoff_time', 'team_h_score', 'team_a_score', 'round', 'minutes',\n",
       "       'goals_scored', 'assists', 'clean_sheets', 'goals_conceded',\n",
       "       'own_goals', 'penalties_saved', 'penalties_missed', 'yellow_cards',\n",
       "       'red_cards', 'saves', 'bonus', 'bps', 'influence', 'creativity',\n",
       "       'threat', 'ict_index', 'starts', 'expected_goals', 'expected_assists',\n",
       "       'expected_goal_involvements', 'expected_goals_conceded', 'value',\n",
       "       'transfers_balance', 'selected', 'transfers_in', 'transfers_out'],\n",
       "      dtype='object')"
      ]
     },
     "execution_count": 8,
     "metadata": {},
     "output_type": "execute_result"
    }
   ],
   "source": [
    "data_frame.columns"
   ]
  },
  {
   "cell_type": "code",
   "execution_count": null,
   "metadata": {},
   "outputs": [],
   "source": [
    "def player_list(user_input):\n",
    "        # Filter 'merged_df' based on the specified team name\n",
    "        team_players = merged_df[merged_df['team'].str.lower() == user_input.lower()]\n",
    "        \n",
    "        # Check if team_players dataframe is not empty\n",
    "        if not team_players.empty:\n",
    "            # Extract player IDs for the specified team\n",
    "            player_name = team_players['name'].tolist()\n",
    "            players = pd.DataFrame({'Player Name': player_name})\n",
    "            st.write(players)\n",
    "        else:\n",
    "            st.write(\"No players found for team '{}'.\".format(player_name))"
   ]
  }
 ],
 "metadata": {
  "kernelspec": {
   "display_name": "Python 3",
   "language": "python",
   "name": "python3"
  },
  "language_info": {
   "codemirror_mode": {
    "name": "ipython",
    "version": 3
   },
   "file_extension": ".py",
   "mimetype": "text/x-python",
   "name": "python",
   "nbconvert_exporter": "python",
   "pygments_lexer": "ipython3",
   "version": "3.11.5"
  }
 },
 "nbformat": 4,
 "nbformat_minor": 2
}
